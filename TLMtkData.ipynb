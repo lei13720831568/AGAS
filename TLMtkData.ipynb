{
 "cells": [
  {
   "cell_type": "code",
   "execution_count": null,
   "metadata": {
    "collapsed": false
   },
   "outputs": [],
   "source": [
    "import requests\n",
    "import json\n",
    "import urlparse\n",
    "import logging\n",
    "import pandas as pd\n",
    "import sys\n",
    "import datetime\n",
    "from IPython.display import display"
   ]
  },
  {
   "cell_type": "code",
   "execution_count": null,
   "metadata": {
    "collapsed": false
   },
   "outputs": [],
   "source": [
    "class TLMtkData:\n",
    "    def __init__(self,token):\n",
    "        self.token=token\n",
    "        self.root_url=\"https://api.wmcloud.com:443/data/v1/\"\n",
    "        self._initfuncmap()\n",
    "    \n",
    "    def _initfuncmap(self):\n",
    "        self.funcmap={\"getMktEqud\":\"api/market/getMktEqud.json\"}\n",
    "        \n",
    "    def _getHttp(self,url,payload):\n",
    "        head_auth = {\"Authorization\": \"Bearer \"+self.token}\n",
    "        r=requests.get(url,params=payload,headers=head_auth)\n",
    "        return r\n",
    "        #payload = {'key1': 'value1', 'key2': 'value2'}\n",
    "    \n",
    "    def getMktEqud(self,secID=\"\",ticker=\"\",tradeDate=\"\",field=\"\"):\n",
    "        \"\"\"request\n",
    "        secID\tstring\t3选1\t证券内部编码，可通过交易代码在getSecID获取到。（可多值输入，最多输入50只）\n",
    "        ticker\tstring\t3选1\t股票交易代码，如'000001'（可多值输入，最多输入50只）\n",
    "        tradeDate\tDate\t3选1\t输入一个日期，不输入其他请求参数，可获取到一天全部沪深股票日行情数据，输入格式“YYYYMMDD”\n",
    "        beginDate\tDate\t否\t起始日期，输入格式“YYYYMMDD”\n",
    "        endDate\tDate\t否\t截止日期，输入格式“YYYYMMDD”\n",
    "        isOpen\tInt32\t否\t股票今日是否开盘标记位：0-今日未开盘，1-今日有开盘\n",
    "        field\tstring\t是\t可选参数，用\",\"分隔,默认为空，返回全部字段，不选即为默认值。返回字段见下方\n",
    "        \"\"\"\n",
    "        if (secID==\"\" and ticker==\"\" and tradeDate==\"\"):\n",
    "            raise ValueError(\"secID,ticker,tradeDate 至少填写一个\")\n",
    "        \n",
    "        req_params={\"secID\":secID,\"ticker\":ticker,\"tradeDate\":tradeDate,\"field\":field}\n",
    "        \n",
    "        desturl=urlparse.urljoin(self.root_url,self.funcmap[\"getMktEqud\"])\n",
    "        \n",
    "        #print u\"请求地址:\",desturl\n",
    "        \n",
    "        r=self._getHttp(desturl,req_params)\n",
    "        \n",
    "        if (r.status_code!=200):\n",
    "            logging.error(\"req \"+r.url+r.status_code)\n",
    "            return None\n",
    "        \n",
    "        \n",
    "        jdata= r.json()\n",
    "        if (jdata.get(\"data\")==None):    \n",
    "            if (jdata.get(\"retCode\")==\"-1\"):\n",
    "                logging.info(json.dumps(jdata))\n",
    "            else:\n",
    "                logging.error(json.dumps(jdata))      \n",
    "            return None      \n",
    "        return jdata\n",
    "        \"\"\"response\n",
    "        secID\tString\t证券内部编码\n",
    "        tradeDate\tDate\t交易日\n",
    "        ticker\tstring\t证券代码\n",
    "        secShortName\tstring\t证券简称\n",
    "        exchangeCD\tstring\t交易所代码\n",
    "        preClosePrice\tDouble\t昨收盘\n",
    "        actPreClosePrice\tDouble\t实际昨收盘\n",
    "        openPrice\tDouble\t今开盘\n",
    "        highestPrice\tDouble\t最高价\n",
    "        lowestPrice\tDouble\t最低价\n",
    "        closePrice\tDouble\t今收盘\n",
    "        turnoverVol\tDouble\t成交量\n",
    "        turnoverValue\tDouble\t成交金额\n",
    "        dealAmount\tInt32\t成交笔数\n",
    "        turnoverRate\tDouble\t日换手率\n",
    "        accumAdjFactor\tDouble\t累积前复权因子，前复权是对历史行情进行调整，除权除息日的行情不受本次除权除息影响，不需进行调整。最新一次除权除息日至最新行情期间的价格不需要进行任何的调整，该期间前复权因子都是1。\n",
    "        negMarketValue\tDouble\t流通市值\n",
    "        marketValue\tDouble\t总市值\n",
    "        PE\tDouble\t滚动市盈率,将于2016-01-01停止维护，推荐使用/api/market/getStockFactorsOneDay或/api/market/getStockFactorsDateRange，返回字段PE\n",
    "        PE1\tDouble\t市盈率，将于2016-01-01停止维护，推荐使用/api/market/getStockFactorsOneDay或/api/market/getStockFactorsDateRange\n",
    "        PB\tDouble\t市净率，将于2016-01-01停止维护，推荐使用/api/market/getStockFactorsOneDay或/api/market/getStockFactorsDateRange，返回字段PB\n",
    "        isOpen\tInt32\t是否开盘\n",
    "        \"\"\"  "
   ]
  },
  {
   "cell_type": "code",
   "execution_count": null,
   "metadata": {
    "collapsed": false
   },
   "outputs": [],
   "source": [
    "if __name__==\"__main__\":\n",
    "    log_format = \"%(filename)s [%(asctime)s] [%(levelname)s] %(message)s\"\n",
    "    logging.basicConfig(format=log_format,datefmt='%Y-%m-%d %H:%M:%S %p',level=logging.DEBUG)\n",
    "    \n",
    "    # 定义一个Handler打印Debug及以上级别的日志到sys.stderr  \n",
    "    console = logging.StreamHandler()  \n",
    "    console.setLevel(logging.DEBUG)  \n",
    "    # 设置日志打印格式  \n",
    "    formatter = logging.Formatter('%(name)-12s: %(levelname)-8s %(message)s') \n",
    "    console.setFormatter(formatter)  \n",
    "    # 将定义好的console日志handler添加到root logger  \n",
    "    logging.getLogger(\"\").addHandler(console)  \n",
    "    \n",
    "    tk=TLMtkData(sys.argv[1])\n",
    "    \n",
    "    \n",
    "    begin = datetime.date(2007, 1, 1)  \n",
    "    end = datetime.date(2016,1,10)\n",
    "    for i in range((end - begin).days+1):  \n",
    "        day = begin + datetime.timedelta(days=i)\n",
    "        daystr=datetime.datetime.strftime(day,'%Y%m%d')\n",
    "        rsp=tk.getMktEqud(tradeDate=daystr)\n",
    "        if (rsp==None):\n",
    "            print daystr,\" error\"\n",
    "            continue\n",
    "        ds=pd.DataFrame(rsp[\"data\"])  \n",
    "        ds.to_pickle(\"data/mtk_\"+daystr+\".pk\")\n",
    "        print daystr,\" done\"\n",
    "        \n",
    "    "
   ]
  },
  {
   "cell_type": "code",
   "execution_count": null,
   "metadata": {
    "collapsed": true
   },
   "outputs": [],
   "source": []
  }
 ],
 "metadata": {
  "kernelspec": {
   "display_name": "Python 2",
   "language": "python",
   "name": "python2"
  },
  "language_info": {
   "codemirror_mode": {
    "name": "ipython",
    "version": 2
   },
   "file_extension": ".py",
   "mimetype": "text/x-python",
   "name": "python",
   "nbconvert_exporter": "python",
   "pygments_lexer": "ipython2",
   "version": "2.7.11"
  }
 },
 "nbformat": 4,
 "nbformat_minor": 0
}
