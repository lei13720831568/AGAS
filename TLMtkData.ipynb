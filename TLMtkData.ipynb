{
 "cells": [
  {
   "cell_type": "code",
   "execution_count": 1,
   "metadata": {
    "collapsed": false
   },
   "outputs": [],
   "source": [
    "import requests\n",
    "import json\n",
    "import urlparse\n",
    "import logging\n",
    "import pandas as pd\n",
    "import sys\n",
    "import datetime\n",
    "from IPython.display import display\n",
    "import redis\n",
    "import os"
   ]
  },
  {
   "cell_type": "code",
   "execution_count": 2,
   "metadata": {
    "collapsed": false
   },
   "outputs": [],
   "source": [
    "class TLMtkDataRemote:\n",
    "    def __init__(self,token):\n",
    "        self.token=token\n",
    "        self.root_url=\"https://api.wmcloud.com:443/data/v1/\"\n",
    "        self._initfuncmap()\n",
    "    \n",
    "    def _initfuncmap(self):\n",
    "        self.funcmap={\"getMktEqud\":\"api/market/getMktEqud.json\"}\n",
    "        \n",
    "    def _getHttp(self,url,payload):\n",
    "        head_auth = {\"Authorization\": \"Bearer \"+self.token}\n",
    "        try:\n",
    "            r=requests.get(url,params=payload,headers=head_auth,timeout=60)\n",
    "        except:\n",
    "            logging.error(url+\" timeout\")   \n",
    "            return None\n",
    "        return r\n",
    "        #payload = {'key1': 'value1', 'key2': 'value2'}\n",
    "    \n",
    "    def getMktEqud(self,secID=\"\",ticker=\"\",tradeDate=\"\",field=\"\"):\n",
    "        \"\"\"request\n",
    "        secID\tstring\t3选1\t证券内部编码，可通过交易代码在getSecID获取到。（可多值输入，最多输入50只）\n",
    "        ticker\tstring\t3选1\t股票交易代码，如'000001'（可多值输入，最多输入50只）\n",
    "        tradeDate\tDate\t3选1\t输入一个日期，不输入其他请求参数，可获取到一天全部沪深股票日行情数据，输入格式“YYYYMMDD”\n",
    "        beginDate\tDate\t否\t起始日期，输入格式“YYYYMMDD”\n",
    "        endDate\tDate\t否\t截止日期，输入格式“YYYYMMDD”\n",
    "        isOpen\tInt32\t否\t股票今日是否开盘标记位：0-今日未开盘，1-今日有开盘\n",
    "        field\tstring\t是\t可选参数，用\",\"分隔,默认为空，返回全部字段，不选即为默认值。返回字段见下方\n",
    "        \"\"\"\n",
    "        if (secID==\"\" and ticker==\"\" and tradeDate==\"\"):\n",
    "            raise ValueError(\"secID,ticker,tradeDate 至少填写一个\")\n",
    "        \n",
    "        req_params={\"secID\":secID,\"ticker\":ticker,\"tradeDate\":tradeDate,\"field\":field}\n",
    "        \n",
    "        desturl=urlparse.urljoin(self.root_url,self.funcmap[\"getMktEqud\"])\n",
    "        \n",
    "        #print u\"请求地址:\",desturl\n",
    "        \n",
    "        r=self._getHttp(desturl,req_params)\n",
    "        \n",
    "        while (r==None):\n",
    "            loging.info(\"wait 120s\")\n",
    "            time.sleep(120)\n",
    "            r=self._getHttp(desturl,req_params)\n",
    "        \n",
    "        if (r.status_code!=200):\n",
    "            logging.error(\"req \"+r.url+r.status_code)\n",
    "            return None\n",
    "        \n",
    "        \n",
    "        jdata= r.json()\n",
    "        if (jdata.get(\"data\")==None):    \n",
    "            if (jdata.get(\"retCode\")==\"-1\"):\n",
    "                logging.info(tradeDate+json.dumps(jdata))\n",
    "                return {\"data\":[]}\n",
    "            else:\n",
    "                logging.error(tradeDate+json.dumps(jdata))      \n",
    "                return None      \n",
    "        return jdata\n",
    "        \"\"\"response\n",
    "        secID\tString\t证券内部编码\n",
    "        tradeDate\tDate\t交易日\n",
    "        ticker\tstring\t证券代码\n",
    "        secShortName\tstring\t证券简称\n",
    "        exchangeCD\tstring\t交易所代码\n",
    "        preClosePrice\tDouble\t昨收盘\n",
    "        actPreClosePrice\tDouble\t实际昨收盘\n",
    "        openPrice\tDouble\t今开盘\n",
    "        highestPrice\tDouble\t最高价\n",
    "        lowestPrice\tDouble\t最低价\n",
    "        closePrice\tDouble\t今收盘\n",
    "        turnoverVol\tDouble\t成交量\n",
    "        turnoverValue\tDouble\t成交金额\n",
    "        dealAmount\tInt32\t成交笔数\n",
    "        turnoverRate\tDouble\t日换手率\n",
    "        accumAdjFactor\tDouble\t累积前复权因子，前复权是对历史行情进行调整，除权除息日的行情不受本次除权除息影响，不需进行调整。最新一次除权除息日至最新行情期间的价格不需要进行任何的调整，该期间前复权因子都是1。\n",
    "        negMarketValue\tDouble\t流通市值\n",
    "        marketValue\tDouble\t总市值\n",
    "        PE\tDouble\t滚动市盈率,将于2016-01-01停止维护，推荐使用/api/market/getStockFactorsOneDay或/api/market/getStockFactorsDateRange，返回字段PE\n",
    "        PE1\tDouble\t市盈率，将于2016-01-01停止维护，推荐使用/api/market/getStockFactorsOneDay或/api/market/getStockFactorsDateRange\n",
    "        PB\tDouble\t市净率，将于2016-01-01停止维护，推荐使用/api/market/getStockFactorsOneDay或/api/market/getStockFactorsDateRange，返回字段PB\n",
    "        isOpen\tInt32\t是否开盘\n",
    "        \"\"\"  "
   ]
  },
  {
   "cell_type": "code",
   "execution_count": 3,
   "metadata": {
    "collapsed": true
   },
   "outputs": [],
   "source": [
    "def class mtkDataLocal:\n",
    "    def __init__(self,filepath):\n",
    "        self._filepath=filepath\n",
    "        self._mtkdataPre=\"mtkdata\"\n",
    "        self._mtkday=\"mtkday\"\n",
    "        self._store = pd.HDFStore('/data/notebooks/mtkdata/store_day.h5')\n",
    "        \n",
    "    def __del__(self):\n",
    "        if self._store.isopen()==True:\n",
    "            self._store.close()\n",
    "    \n",
    "    #检查并创建表\n",
    "    def _checkAndCreateTable(self):\n",
    "        if (\"/\"+self._mtkday) not in store.keys():\n",
    "            #todo\n",
    "        if (\"/\"+self._mtkdata) not in store.keys():\n",
    "            #todo\n",
    "    \n",
    "    def setData(self,daystr,df,isReplace=False):\n",
    "        \n",
    "        self._checkAndCreateTable()\n",
    "        \n",
    "        #查询对应日期是否存在数据\n",
    "        dl=store.select(self._mtkday,where=[\"tradeDate=='\"+daystr+\"'\"])\n",
    "            \n",
    "    def removeData(self,daystr):\n",
    "        self._checkAndCreateTable()\n",
    "        days=store[self._mtkday]\n",
    "        if days[]\n",
    "        days.drop([daystr])\n",
    "        del self._store[self._mtkdataPre+daystr]\n",
    "        \n",
    "\n",
    "def hasMtkDate(store,daystr):\n",
    "    tname=\"mtkdate\"\n",
    "    daylinestr=datetime.datetime.strftime(datetime.datetime.strptime(daystr, \"%Y%m%d\"),'%Y-%m-%d')\n",
    "    if (\"/\"+tname) in store.keys():\n",
    "        fd=store.select(\"mtkdate\",where=[\"tradeDate=='\"+daylinestr+\"'\"])\n",
    "        #print daylinestr,len(fd)\n",
    "        #print len(fd)\n",
    "        if len(fd)==0:\n",
    "            return False\n",
    "        else:\n",
    "            return True\n",
    "    else:\n",
    "        return False"
   ]
  },
  {
   "cell_type": "code",
   "execution_count": null,
   "metadata": {
    "collapsed": false
   },
   "outputs": [
    {
     "name": "stderr",
     "output_type": "stream",
     "text": [
      "root        : ERROR    20070101{\"retCode\": -1, \"retMsg\": \"No Data Returned\"}\n",
      "root        : ERROR    20070102{\"retCode\": -1, \"retMsg\": \"No Data Returned\"}\n"
     ]
    },
    {
     "name": "stdout",
     "output_type": "stream",
     "text": [
      "20070101  nodata\n",
      "20070102  nodata\n"
     ]
    },
    {
     "name": "stderr",
     "output_type": "stream",
     "text": [
      "root        : ERROR    20070103{\"retCode\": -1, \"retMsg\": \"No Data Returned\"}\n"
     ]
    },
    {
     "name": "stdout",
     "output_type": "stream",
     "text": [
      "20070103  nodata\n",
      "20070104  done\n"
     ]
    },
    {
     "name": "stderr",
     "output_type": "stream",
     "text": [
      "root        : ERROR    20070106{\"retCode\": -1, \"retMsg\": \"No Data Returned\"}\n"
     ]
    },
    {
     "name": "stdout",
     "output_type": "stream",
     "text": [
      "20070105  done\n",
      "20070106  nodata\n"
     ]
    },
    {
     "name": "stderr",
     "output_type": "stream",
     "text": [
      "root        : ERROR    20070107{\"retCode\": -1, \"retMsg\": \"No Data Returned\"}\n"
     ]
    },
    {
     "name": "stdout",
     "output_type": "stream",
     "text": [
      "20070107  nodata\n",
      "20070108  done\n",
      "20070109  done\n",
      "20070110  done\n",
      "20070111  done\n"
     ]
    },
    {
     "name": "stderr",
     "output_type": "stream",
     "text": [
      "root        : ERROR    20070113{\"retCode\": -1, \"retMsg\": \"No Data Returned\"}\n"
     ]
    },
    {
     "name": "stdout",
     "output_type": "stream",
     "text": [
      "20070112  done\n",
      "20070113  nodata\n"
     ]
    },
    {
     "name": "stderr",
     "output_type": "stream",
     "text": [
      "root        : ERROR    20070114{\"retCode\": -1, \"retMsg\": \"No Data Returned\"}\n"
     ]
    },
    {
     "name": "stdout",
     "output_type": "stream",
     "text": [
      "20070114  nodata\n",
      "20070115  done\n",
      "20070116  done\n",
      "20070117  done\n",
      "20070118  done\n"
     ]
    },
    {
     "name": "stderr",
     "output_type": "stream",
     "text": [
      "root        : ERROR    20070120{\"retCode\": -1, \"retMsg\": \"No Data Returned\"}\n"
     ]
    },
    {
     "name": "stdout",
     "output_type": "stream",
     "text": [
      "20070119  done\n",
      "20070120  nodata\n"
     ]
    },
    {
     "name": "stderr",
     "output_type": "stream",
     "text": [
      "root        : ERROR    20070121{\"retCode\": -1, \"retMsg\": \"No Data Returned\"}\n"
     ]
    },
    {
     "name": "stdout",
     "output_type": "stream",
     "text": [
      "20070121  nodata\n",
      "20070122  done\n",
      "20070123  done\n",
      "20070124  done\n",
      "20070125  done\n"
     ]
    },
    {
     "name": "stderr",
     "output_type": "stream",
     "text": [
      "root        : ERROR    20070127{\"retCode\": -1, \"retMsg\": \"No Data Returned\"}\n"
     ]
    },
    {
     "name": "stdout",
     "output_type": "stream",
     "text": [
      "20070126  done\n",
      "20070127  nodata\n"
     ]
    },
    {
     "name": "stderr",
     "output_type": "stream",
     "text": [
      "root        : ERROR    20070128{\"retCode\": -1, \"retMsg\": \"No Data Returned\"}\n"
     ]
    },
    {
     "name": "stdout",
     "output_type": "stream",
     "text": [
      "20070128  nodata\n",
      "20070129  done\n",
      "20070130  done\n",
      "20070131  done\n",
      "20070201  done\n"
     ]
    },
    {
     "name": "stderr",
     "output_type": "stream",
     "text": [
      "root        : ERROR    20070203{\"retCode\": -1, \"retMsg\": \"No Data Returned\"}\n"
     ]
    },
    {
     "name": "stdout",
     "output_type": "stream",
     "text": [
      "20070202  done\n",
      "20070203  nodata\n"
     ]
    },
    {
     "name": "stderr",
     "output_type": "stream",
     "text": [
      "root        : ERROR    20070204{\"retCode\": -1, \"retMsg\": \"No Data Returned\"}\n"
     ]
    },
    {
     "name": "stdout",
     "output_type": "stream",
     "text": [
      "20070204  nodata\n",
      "20070205  done\n",
      "20070206  done\n",
      "20070207  done\n",
      "20070208  done\n"
     ]
    },
    {
     "name": "stderr",
     "output_type": "stream",
     "text": [
      "root        : ERROR    20070210{\"retCode\": -1, \"retMsg\": \"No Data Returned\"}\n"
     ]
    },
    {
     "name": "stdout",
     "output_type": "stream",
     "text": [
      "20070209  done\n",
      "20070210  nodata\n"
     ]
    },
    {
     "name": "stderr",
     "output_type": "stream",
     "text": [
      "root        : ERROR    20070211{\"retCode\": -1, \"retMsg\": \"No Data Returned\"}\n"
     ]
    },
    {
     "name": "stdout",
     "output_type": "stream",
     "text": [
      "20070211  nodata\n",
      "20070212  done\n",
      "20070213  done\n",
      "20070214  done\n",
      "20070215  done\n"
     ]
    },
    {
     "name": "stderr",
     "output_type": "stream",
     "text": [
      "root        : ERROR    20070217{\"retCode\": -1, \"retMsg\": \"No Data Returned\"}\n"
     ]
    },
    {
     "name": "stdout",
     "output_type": "stream",
     "text": [
      "20070216  done\n",
      "20070217  nodata\n"
     ]
    },
    {
     "name": "stderr",
     "output_type": "stream",
     "text": [
      "root        : ERROR    20070218{\"retCode\": -1, \"retMsg\": \"No Data Returned\"}\n",
      "root        : ERROR    20070219{\"retCode\": -1, \"retMsg\": \"No Data Returned\"}\n"
     ]
    },
    {
     "name": "stdout",
     "output_type": "stream",
     "text": [
      "20070218  nodata\n",
      "20070219  nodata\n"
     ]
    },
    {
     "name": "stderr",
     "output_type": "stream",
     "text": [
      "root        : ERROR    20070220{\"retCode\": -1, \"retMsg\": \"No Data Returned\"}\n",
      "root        : ERROR    20070221{\"retCode\": -1, \"retMsg\": \"No Data Returned\"}\n"
     ]
    },
    {
     "name": "stdout",
     "output_type": "stream",
     "text": [
      "20070220  nodata\n",
      "20070221  nodata\n"
     ]
    },
    {
     "name": "stderr",
     "output_type": "stream",
     "text": [
      "root        : ERROR    20070222{\"retCode\": -1, \"retMsg\": \"No Data Returned\"}\n",
      "root        : ERROR    20070223{\"retCode\": -1, \"retMsg\": \"No Data Returned\"}\n"
     ]
    },
    {
     "name": "stdout",
     "output_type": "stream",
     "text": [
      "20070222  nodata\n",
      "20070223  nodata\n"
     ]
    },
    {
     "name": "stderr",
     "output_type": "stream",
     "text": [
      "root        : ERROR    20070224{\"retCode\": -1, \"retMsg\": \"No Data Returned\"}\n",
      "root        : ERROR    20070225{\"retCode\": -1, \"retMsg\": \"No Data Returned\"}\n"
     ]
    },
    {
     "name": "stdout",
     "output_type": "stream",
     "text": [
      "20070224  nodata\n",
      "20070225  nodata\n",
      "20070226  done\n",
      "20070227  done\n",
      "20070228  done\n",
      "20070301  done\n"
     ]
    },
    {
     "name": "stderr",
     "output_type": "stream",
     "text": [
      "root        : ERROR    20070303{\"retCode\": -1, \"retMsg\": \"No Data Returned\"}\n"
     ]
    },
    {
     "name": "stdout",
     "output_type": "stream",
     "text": [
      "20070302  done\n",
      "20070303  nodata\n"
     ]
    },
    {
     "name": "stderr",
     "output_type": "stream",
     "text": [
      "root        : ERROR    20070304{\"retCode\": -1, \"retMsg\": \"No Data Returned\"}\n"
     ]
    },
    {
     "name": "stdout",
     "output_type": "stream",
     "text": [
      "20070304  nodata\n",
      "20070305  done\n",
      "20070306  done\n",
      "20070307  done\n",
      "20070308  done\n"
     ]
    },
    {
     "name": "stderr",
     "output_type": "stream",
     "text": [
      "root        : ERROR    20070310{\"retCode\": -1, \"retMsg\": \"No Data Returned\"}\n"
     ]
    },
    {
     "name": "stdout",
     "output_type": "stream",
     "text": [
      "20070309  done\n",
      "20070310  nodata\n"
     ]
    },
    {
     "name": "stderr",
     "output_type": "stream",
     "text": [
      "root        : ERROR    20070311{\"retCode\": -1, \"retMsg\": \"No Data Returned\"}\n"
     ]
    },
    {
     "name": "stdout",
     "output_type": "stream",
     "text": [
      "20070311  nodata\n",
      "20070312  done\n",
      "20070313  done\n",
      "20070314  done\n",
      "20070315  done\n"
     ]
    },
    {
     "name": "stderr",
     "output_type": "stream",
     "text": [
      "root        : ERROR    20070317{\"retCode\": -1, \"retMsg\": \"No Data Returned\"}\n"
     ]
    },
    {
     "name": "stdout",
     "output_type": "stream",
     "text": [
      "20070316  done\n",
      "20070317  nodata\n"
     ]
    },
    {
     "name": "stderr",
     "output_type": "stream",
     "text": [
      "root        : ERROR    20070318{\"retCode\": -1, \"retMsg\": \"No Data Returned\"}\n"
     ]
    },
    {
     "name": "stdout",
     "output_type": "stream",
     "text": [
      "20070318  nodata\n",
      "20070319  done\n",
      "20070320  done\n",
      "20070321  done\n",
      "20070322  done\n"
     ]
    },
    {
     "name": "stderr",
     "output_type": "stream",
     "text": [
      "root        : ERROR    20070324{\"retCode\": -1, \"retMsg\": \"No Data Returned\"}\n"
     ]
    },
    {
     "name": "stdout",
     "output_type": "stream",
     "text": [
      "20070323  done\n",
      "20070324  nodata\n"
     ]
    },
    {
     "name": "stderr",
     "output_type": "stream",
     "text": [
      "root        : ERROR    20070325{\"retCode\": -1, \"retMsg\": \"No Data Returned\"}\n"
     ]
    },
    {
     "name": "stdout",
     "output_type": "stream",
     "text": [
      "20070325  nodata\n",
      "20070326  done\n",
      "20070327  done\n",
      "20070328  done\n",
      "20070329  done\n"
     ]
    },
    {
     "name": "stderr",
     "output_type": "stream",
     "text": [
      "root        : ERROR    20070331{\"retCode\": -1, \"retMsg\": \"No Data Returned\"}\n"
     ]
    },
    {
     "name": "stdout",
     "output_type": "stream",
     "text": [
      "20070330  done\n",
      "20070331  nodata\n"
     ]
    },
    {
     "name": "stderr",
     "output_type": "stream",
     "text": [
      "root        : ERROR    20070401{\"retCode\": -1, \"retMsg\": \"No Data Returned\"}\n"
     ]
    },
    {
     "name": "stdout",
     "output_type": "stream",
     "text": [
      "20070401  nodata\n",
      "20070402  done\n",
      "20070403  done\n",
      "20070404  done\n",
      "20070405  done\n"
     ]
    },
    {
     "name": "stderr",
     "output_type": "stream",
     "text": [
      "root        : ERROR    20070407{\"retCode\": -1, \"retMsg\": \"No Data Returned\"}\n"
     ]
    },
    {
     "name": "stdout",
     "output_type": "stream",
     "text": [
      "20070406  done\n",
      "20070407  nodata\n"
     ]
    },
    {
     "name": "stderr",
     "output_type": "stream",
     "text": [
      "root        : ERROR    20070408{\"retCode\": -1, \"retMsg\": \"No Data Returned\"}\n"
     ]
    },
    {
     "name": "stdout",
     "output_type": "stream",
     "text": [
      "20070408  nodata\n",
      "20070409  done\n",
      "20070410  done\n",
      "20070411  done\n",
      "20070412  done\n"
     ]
    },
    {
     "name": "stderr",
     "output_type": "stream",
     "text": [
      "root        : ERROR    20070414{\"retCode\": -1, \"retMsg\": \"No Data Returned\"}\n"
     ]
    },
    {
     "name": "stdout",
     "output_type": "stream",
     "text": [
      "20070413  done\n",
      "20070414  nodata\n"
     ]
    },
    {
     "name": "stderr",
     "output_type": "stream",
     "text": [
      "root        : ERROR    20070415{\"retCode\": -1, \"retMsg\": \"No Data Returned\"}\n"
     ]
    },
    {
     "name": "stdout",
     "output_type": "stream",
     "text": [
      "20070415  nodata\n",
      "20070416  done\n",
      "20070417  done\n",
      "20070418  done\n",
      "20070419  done\n"
     ]
    },
    {
     "name": "stderr",
     "output_type": "stream",
     "text": [
      "root        : ERROR    20070421{\"retCode\": -1, \"retMsg\": \"No Data Returned\"}\n"
     ]
    },
    {
     "name": "stdout",
     "output_type": "stream",
     "text": [
      "20070420  done\n",
      "20070421  nodata\n"
     ]
    },
    {
     "name": "stderr",
     "output_type": "stream",
     "text": [
      "root        : ERROR    20070422{\"retCode\": -1, \"retMsg\": \"No Data Returned\"}\n"
     ]
    },
    {
     "name": "stdout",
     "output_type": "stream",
     "text": [
      "20070422  nodata\n",
      "20070423  done\n",
      "20070424  done\n",
      "20070425  done\n",
      "20070426  done\n"
     ]
    },
    {
     "name": "stderr",
     "output_type": "stream",
     "text": [
      "root        : ERROR    20070428{\"retCode\": -1, \"retMsg\": \"No Data Returned\"}\n"
     ]
    },
    {
     "name": "stdout",
     "output_type": "stream",
     "text": [
      "20070427  done\n",
      "20070428  nodata\n"
     ]
    },
    {
     "name": "stderr",
     "output_type": "stream",
     "text": [
      "root        : ERROR    20070429{\"retCode\": -1, \"retMsg\": \"No Data Returned\"}\n"
     ]
    },
    {
     "name": "stdout",
     "output_type": "stream",
     "text": [
      "20070429  nodata\n"
     ]
    },
    {
     "name": "stderr",
     "output_type": "stream",
     "text": [
      "root        : ERROR    20070501{\"retCode\": -1, \"retMsg\": \"No Data Returned\"}\n"
     ]
    },
    {
     "name": "stdout",
     "output_type": "stream",
     "text": [
      "20070430  done\n",
      "20070501  nodata\n"
     ]
    },
    {
     "name": "stderr",
     "output_type": "stream",
     "text": [
      "root        : ERROR    20070502{\"retCode\": -1, \"retMsg\": \"No Data Returned\"}\n",
      "root        : ERROR    20070503{\"retCode\": -1, \"retMsg\": \"No Data Returned\"}\n"
     ]
    },
    {
     "name": "stdout",
     "output_type": "stream",
     "text": [
      "20070502  nodata\n",
      "20070503  nodata\n"
     ]
    },
    {
     "name": "stderr",
     "output_type": "stream",
     "text": [
      "root        : ERROR    20070504{\"retCode\": -1, \"retMsg\": \"No Data Returned\"}\n",
      "root        : ERROR    20070505{\"retCode\": -1, \"retMsg\": \"No Data Returned\"}\n"
     ]
    },
    {
     "name": "stdout",
     "output_type": "stream",
     "text": [
      "20070504  nodata\n",
      "20070505  nodata\n"
     ]
    },
    {
     "name": "stderr",
     "output_type": "stream",
     "text": [
      "root        : ERROR    20070506{\"retCode\": -1, \"retMsg\": \"No Data Returned\"}\n",
      "root        : ERROR    20070507{\"retCode\": -1, \"retMsg\": \"No Data Returned\"}\n"
     ]
    },
    {
     "name": "stdout",
     "output_type": "stream",
     "text": [
      "20070506  nodata\n",
      "20070507  nodata\n",
      "20070508  done\n",
      "20070509  done\n",
      "20070510  done\n"
     ]
    },
    {
     "name": "stderr",
     "output_type": "stream",
     "text": [
      "root        : ERROR    20070512{\"retCode\": -1, \"retMsg\": \"No Data Returned\"}\n"
     ]
    },
    {
     "name": "stdout",
     "output_type": "stream",
     "text": [
      "20070511  done\n",
      "20070512  nodata\n"
     ]
    },
    {
     "name": "stderr",
     "output_type": "stream",
     "text": [
      "root        : ERROR    20070513{\"retCode\": -1, \"retMsg\": \"No Data Returned\"}\n"
     ]
    },
    {
     "name": "stdout",
     "output_type": "stream",
     "text": [
      "20070513  nodata\n",
      "20070514  done\n",
      "20070515  done\n",
      "20070516  done\n",
      "20070517  done\n"
     ]
    },
    {
     "name": "stderr",
     "output_type": "stream",
     "text": [
      "root        : ERROR    20070519{\"retCode\": -1, \"retMsg\": \"No Data Returned\"}\n"
     ]
    },
    {
     "name": "stdout",
     "output_type": "stream",
     "text": [
      "20070518  done\n",
      "20070519  nodata\n"
     ]
    },
    {
     "name": "stderr",
     "output_type": "stream",
     "text": [
      "root        : ERROR    20070520{\"retCode\": -1, \"retMsg\": \"No Data Returned\"}\n"
     ]
    },
    {
     "name": "stdout",
     "output_type": "stream",
     "text": [
      "20070520  nodata\n",
      "20070521  done\n",
      "20070522  done\n",
      "20070523  done\n",
      "20070524  done\n"
     ]
    },
    {
     "name": "stderr",
     "output_type": "stream",
     "text": [
      "root        : ERROR    20070526{\"retCode\": -1, \"retMsg\": \"No Data Returned\"}\n"
     ]
    },
    {
     "name": "stdout",
     "output_type": "stream",
     "text": [
      "20070525  done\n",
      "20070526  nodata\n"
     ]
    },
    {
     "name": "stderr",
     "output_type": "stream",
     "text": [
      "root        : ERROR    20070527{\"retCode\": -1, \"retMsg\": \"No Data Returned\"}\n"
     ]
    },
    {
     "name": "stdout",
     "output_type": "stream",
     "text": [
      "20070527  nodata\n",
      "20070528  done\n",
      "20070529  done\n",
      "20070530  done\n",
      "20070531  done\n"
     ]
    },
    {
     "name": "stderr",
     "output_type": "stream",
     "text": [
      "root        : ERROR    20070602{\"retCode\": -1, \"retMsg\": \"No Data Returned\"}\n"
     ]
    },
    {
     "name": "stdout",
     "output_type": "stream",
     "text": [
      "20070601  done\n",
      "20070602  nodata\n"
     ]
    },
    {
     "name": "stderr",
     "output_type": "stream",
     "text": [
      "root        : ERROR    20070603{\"retCode\": -1, \"retMsg\": \"No Data Returned\"}\n"
     ]
    },
    {
     "name": "stdout",
     "output_type": "stream",
     "text": [
      "20070603  nodata\n",
      "20070604  done\n",
      "20070605  done\n",
      "20070606  done\n",
      "20070607  done\n"
     ]
    },
    {
     "name": "stderr",
     "output_type": "stream",
     "text": [
      "root        : ERROR    20070609{\"retCode\": -1, \"retMsg\": \"No Data Returned\"}\n"
     ]
    },
    {
     "name": "stdout",
     "output_type": "stream",
     "text": [
      "20070608  done\n",
      "20070609  nodata\n"
     ]
    },
    {
     "name": "stderr",
     "output_type": "stream",
     "text": [
      "root        : ERROR    20070610{\"retCode\": -1, \"retMsg\": \"No Data Returned\"}\n"
     ]
    },
    {
     "name": "stdout",
     "output_type": "stream",
     "text": [
      "20070610  nodata\n",
      "20070611  done\n",
      "20070612  done\n",
      "20070613  done\n",
      "20070614  done\n"
     ]
    },
    {
     "name": "stderr",
     "output_type": "stream",
     "text": [
      "root        : ERROR    20070616{\"retCode\": -1, \"retMsg\": \"No Data Returned\"}\n"
     ]
    },
    {
     "name": "stdout",
     "output_type": "stream",
     "text": [
      "20070615  done\n",
      "20070616  nodata\n"
     ]
    },
    {
     "name": "stderr",
     "output_type": "stream",
     "text": [
      "root        : ERROR    20070617{\"retCode\": -1, \"retMsg\": \"No Data Returned\"}\n"
     ]
    },
    {
     "name": "stdout",
     "output_type": "stream",
     "text": [
      "20070617  nodata\n",
      "20070618  done\n",
      "20070619  done\n",
      "20070620  done\n",
      "20070621  done\n"
     ]
    },
    {
     "name": "stderr",
     "output_type": "stream",
     "text": [
      "root        : ERROR    20070623{\"retCode\": -1, \"retMsg\": \"No Data Returned\"}\n"
     ]
    },
    {
     "name": "stdout",
     "output_type": "stream",
     "text": [
      "20070622  done\n",
      "20070623  nodata\n"
     ]
    },
    {
     "name": "stderr",
     "output_type": "stream",
     "text": [
      "root        : ERROR    20070624{\"retCode\": -1, \"retMsg\": \"No Data Returned\"}\n"
     ]
    },
    {
     "name": "stdout",
     "output_type": "stream",
     "text": [
      "20070624  nodata\n",
      "20070625  done\n",
      "20070626  done\n",
      "20070627  done\n",
      "20070628  done\n"
     ]
    },
    {
     "name": "stderr",
     "output_type": "stream",
     "text": [
      "root        : ERROR    20070630{\"retCode\": -1, \"retMsg\": \"No Data Returned\"}\n"
     ]
    },
    {
     "name": "stdout",
     "output_type": "stream",
     "text": [
      "20070629  done\n",
      "20070630  nodata\n"
     ]
    },
    {
     "name": "stderr",
     "output_type": "stream",
     "text": [
      "root        : ERROR    20070701{\"retCode\": -1, \"retMsg\": \"No Data Returned\"}\n"
     ]
    },
    {
     "name": "stdout",
     "output_type": "stream",
     "text": [
      "20070701  nodata\n",
      "20070702  done\n",
      "20070703  done\n",
      "20070704  done\n",
      "20070705  done\n"
     ]
    },
    {
     "name": "stderr",
     "output_type": "stream",
     "text": [
      "root        : ERROR    20070707{\"retCode\": -1, \"retMsg\": \"No Data Returned\"}\n"
     ]
    },
    {
     "name": "stdout",
     "output_type": "stream",
     "text": [
      "20070706  done\n",
      "20070707  nodata\n"
     ]
    },
    {
     "name": "stderr",
     "output_type": "stream",
     "text": [
      "root        : ERROR    20070708{\"retCode\": -1, \"retMsg\": \"No Data Returned\"}\n"
     ]
    },
    {
     "name": "stdout",
     "output_type": "stream",
     "text": [
      "20070708  nodata\n",
      "20070709  done\n",
      "20070710  done\n",
      "20070711  done\n",
      "20070712  done\n",
      "20070713  done\n"
     ]
    },
    {
     "name": "stderr",
     "output_type": "stream",
     "text": [
      "root        : ERROR    20070714{\"retCode\": -1, \"retMsg\": \"No Data Returned\"}\n",
      "root        : ERROR    20070715{\"retCode\": -1, \"retMsg\": \"No Data Returned\"}\n"
     ]
    },
    {
     "name": "stdout",
     "output_type": "stream",
     "text": [
      "20070714  nodata\n",
      "20070715  nodata\n",
      "20070716  done\n",
      "20070717  done\n",
      "20070718  done\n",
      "20070719  done\n"
     ]
    },
    {
     "name": "stderr",
     "output_type": "stream",
     "text": [
      "root        : ERROR    20070721{\"retCode\": -1, \"retMsg\": \"No Data Returned\"}\n"
     ]
    },
    {
     "name": "stdout",
     "output_type": "stream",
     "text": [
      "20070720  done\n",
      "20070721  nodata\n"
     ]
    },
    {
     "name": "stderr",
     "output_type": "stream",
     "text": [
      "root        : ERROR    20070722{\"retCode\": -1, \"retMsg\": \"No Data Returned\"}\n"
     ]
    },
    {
     "name": "stdout",
     "output_type": "stream",
     "text": [
      "20070722  nodata\n",
      "20070723  done\n",
      "20070724  done\n",
      "20070725  done\n",
      "20070726  done\n"
     ]
    },
    {
     "name": "stderr",
     "output_type": "stream",
     "text": [
      "root        : ERROR    20070728{\"retCode\": -1, \"retMsg\": \"No Data Returned\"}\n"
     ]
    },
    {
     "name": "stdout",
     "output_type": "stream",
     "text": [
      "20070727  done\n",
      "20070728  nodata\n"
     ]
    },
    {
     "name": "stderr",
     "output_type": "stream",
     "text": [
      "root        : ERROR    20070729{\"retCode\": -1, \"retMsg\": \"No Data Returned\"}\n"
     ]
    },
    {
     "name": "stdout",
     "output_type": "stream",
     "text": [
      "20070729  nodata\n",
      "20070730  done\n",
      "20070731  done\n",
      "20070801  done\n",
      "20070802  done\n"
     ]
    },
    {
     "name": "stderr",
     "output_type": "stream",
     "text": [
      "root        : ERROR    20070804{\"retCode\": -1, \"retMsg\": \"No Data Returned\"}\n"
     ]
    },
    {
     "name": "stdout",
     "output_type": "stream",
     "text": [
      "20070803  done\n",
      "20070804  nodata\n"
     ]
    },
    {
     "name": "stderr",
     "output_type": "stream",
     "text": [
      "root        : ERROR    20070805{\"retCode\": -1, \"retMsg\": \"No Data Returned\"}\n"
     ]
    },
    {
     "name": "stdout",
     "output_type": "stream",
     "text": [
      "20070805  nodata\n",
      "20070806  done\n",
      "20070807  done\n",
      "20070808  done\n",
      "20070809  done\n"
     ]
    },
    {
     "name": "stderr",
     "output_type": "stream",
     "text": [
      "root        : ERROR    20070811{\"retCode\": -1, \"retMsg\": \"No Data Returned\"}\n"
     ]
    },
    {
     "name": "stdout",
     "output_type": "stream",
     "text": [
      "20070810  done\n",
      "20070811  nodata\n"
     ]
    },
    {
     "name": "stderr",
     "output_type": "stream",
     "text": [
      "root        : ERROR    20070812{\"retCode\": -1, \"retMsg\": \"No Data Returned\"}\n"
     ]
    },
    {
     "name": "stdout",
     "output_type": "stream",
     "text": [
      "20070812  nodata\n",
      "20070813  done\n",
      "20070814  done\n",
      "20070815  done\n",
      "20070816  done\n"
     ]
    },
    {
     "name": "stderr",
     "output_type": "stream",
     "text": [
      "root        : ERROR    20070818{\"retCode\": -1, \"retMsg\": \"No Data Returned\"}\n"
     ]
    },
    {
     "name": "stdout",
     "output_type": "stream",
     "text": [
      "20070817  done\n",
      "20070818  nodata\n"
     ]
    },
    {
     "name": "stderr",
     "output_type": "stream",
     "text": [
      "root        : ERROR    20070819{\"retCode\": -1, \"retMsg\": \"No Data Returned\"}\n"
     ]
    },
    {
     "name": "stdout",
     "output_type": "stream",
     "text": [
      "20070819  nodata\n",
      "20070820  done\n",
      "20070821  done\n",
      "20070822  done\n",
      "20070823  done\n"
     ]
    },
    {
     "name": "stderr",
     "output_type": "stream",
     "text": [
      "root        : ERROR    20070825{\"retCode\": -1, \"retMsg\": \"No Data Returned\"}\n"
     ]
    },
    {
     "name": "stdout",
     "output_type": "stream",
     "text": [
      "20070824  done\n",
      "20070825  nodata\n"
     ]
    },
    {
     "name": "stderr",
     "output_type": "stream",
     "text": [
      "root        : ERROR    20070826{\"retCode\": -1, \"retMsg\": \"No Data Returned\"}\n"
     ]
    },
    {
     "name": "stdout",
     "output_type": "stream",
     "text": [
      "20070826  nodata\n",
      "20070827  done\n",
      "20070828  done\n",
      "20070829  done\n",
      "20070830  done\n"
     ]
    },
    {
     "name": "stderr",
     "output_type": "stream",
     "text": [
      "root        : ERROR    20070901{\"retCode\": -1, \"retMsg\": \"No Data Returned\"}\n"
     ]
    },
    {
     "name": "stdout",
     "output_type": "stream",
     "text": [
      "20070831  done\n",
      "20070901  nodata\n"
     ]
    },
    {
     "name": "stderr",
     "output_type": "stream",
     "text": [
      "root        : ERROR    20070902{\"retCode\": -1, \"retMsg\": \"No Data Returned\"}\n"
     ]
    },
    {
     "name": "stdout",
     "output_type": "stream",
     "text": [
      "20070902  nodata\n",
      "20070903  done\n",
      "20070904  done\n",
      "20070905  done\n",
      "20070906  done\n"
     ]
    },
    {
     "name": "stderr",
     "output_type": "stream",
     "text": [
      "root        : ERROR    20070908{\"retCode\": -1, \"retMsg\": \"No Data Returned\"}\n"
     ]
    },
    {
     "name": "stdout",
     "output_type": "stream",
     "text": [
      "20070907  done\n",
      "20070908  nodata\n"
     ]
    },
    {
     "name": "stderr",
     "output_type": "stream",
     "text": [
      "root        : ERROR    20070909{\"retCode\": -1, \"retMsg\": \"No Data Returned\"}\n"
     ]
    },
    {
     "name": "stdout",
     "output_type": "stream",
     "text": [
      "20070909  nodata\n",
      "20070910  done\n",
      "20070911  done\n",
      "20070912  done\n",
      "20070913  done\n"
     ]
    },
    {
     "name": "stderr",
     "output_type": "stream",
     "text": [
      "root        : ERROR    20070915{\"retCode\": -1, \"retMsg\": \"No Data Returned\"}\n"
     ]
    },
    {
     "name": "stdout",
     "output_type": "stream",
     "text": [
      "20070914  done\n",
      "20070915  nodata\n"
     ]
    },
    {
     "name": "stderr",
     "output_type": "stream",
     "text": [
      "root        : ERROR    20070916{\"retCode\": -1, \"retMsg\": \"No Data Returned\"}\n"
     ]
    },
    {
     "name": "stdout",
     "output_type": "stream",
     "text": [
      "20070916  nodata\n",
      "20070917  done\n",
      "20070918  done\n",
      "20070919  done\n",
      "20070920  done\n"
     ]
    },
    {
     "name": "stderr",
     "output_type": "stream",
     "text": [
      "root        : ERROR    20070922{\"retCode\": -1, \"retMsg\": \"No Data Returned\"}\n"
     ]
    },
    {
     "name": "stdout",
     "output_type": "stream",
     "text": [
      "20070921  done\n",
      "20070922  nodata\n"
     ]
    },
    {
     "name": "stderr",
     "output_type": "stream",
     "text": [
      "root        : ERROR    20070923{\"retCode\": -1, \"retMsg\": \"No Data Returned\"}\n"
     ]
    },
    {
     "name": "stdout",
     "output_type": "stream",
     "text": [
      "20070923  nodata\n",
      "20070924  done\n",
      "20070925  done\n",
      "20070926  done\n",
      "20070927  done\n"
     ]
    },
    {
     "name": "stderr",
     "output_type": "stream",
     "text": [
      "root        : ERROR    20070929{\"retCode\": -1, \"retMsg\": \"No Data Returned\"}\n"
     ]
    },
    {
     "name": "stdout",
     "output_type": "stream",
     "text": [
      "20070928  done\n",
      "20070929  nodata\n"
     ]
    },
    {
     "name": "stderr",
     "output_type": "stream",
     "text": [
      "root        : ERROR    20070930{\"retCode\": -1, \"retMsg\": \"No Data Returned\"}\n",
      "root        : ERROR    20071001{\"retCode\": -1, \"retMsg\": \"No Data Returned\"}\n"
     ]
    },
    {
     "name": "stdout",
     "output_type": "stream",
     "text": [
      "20070930  nodata\n",
      "20071001  nodata\n"
     ]
    },
    {
     "name": "stderr",
     "output_type": "stream",
     "text": [
      "root        : ERROR    20071002{\"retCode\": -1, \"retMsg\": \"No Data Returned\"}\n",
      "root        : ERROR    20071003{\"retCode\": -1, \"retMsg\": \"No Data Returned\"}\n"
     ]
    },
    {
     "name": "stdout",
     "output_type": "stream",
     "text": [
      "20071002  nodata\n",
      "20071003  nodata\n"
     ]
    },
    {
     "name": "stderr",
     "output_type": "stream",
     "text": [
      "root        : ERROR    20071004{\"retCode\": -1, \"retMsg\": \"No Data Returned\"}\n",
      "root        : ERROR    20071005{\"retCode\": -1, \"retMsg\": \"No Data Returned\"}\n"
     ]
    },
    {
     "name": "stdout",
     "output_type": "stream",
     "text": [
      "20071004  nodata\n",
      "20071005  nodata\n"
     ]
    },
    {
     "name": "stderr",
     "output_type": "stream",
     "text": [
      "root        : ERROR    20071006{\"retCode\": -1, \"retMsg\": \"No Data Returned\"}\n",
      "root        : ERROR    20071007{\"retCode\": -1, \"retMsg\": \"No Data Returned\"}\n"
     ]
    },
    {
     "name": "stdout",
     "output_type": "stream",
     "text": [
      "20071006  nodata\n",
      "20071007  nodata\n",
      "20071008  done\n",
      "20071009  done\n",
      "20071010  done\n",
      "20071011  done\n"
     ]
    },
    {
     "name": "stderr",
     "output_type": "stream",
     "text": [
      "root        : ERROR    20071013{\"retCode\": -1, \"retMsg\": \"No Data Returned\"}\n"
     ]
    },
    {
     "name": "stdout",
     "output_type": "stream",
     "text": [
      "20071012  done\n",
      "20071013  nodata\n"
     ]
    },
    {
     "name": "stderr",
     "output_type": "stream",
     "text": [
      "root        : ERROR    20071014{\"retCode\": -1, \"retMsg\": \"No Data Returned\"}\n"
     ]
    },
    {
     "name": "stdout",
     "output_type": "stream",
     "text": [
      "20071014  nodata\n",
      "20071015  done\n",
      "20071016  done\n",
      "20071017  done\n",
      "20071018  done\n"
     ]
    },
    {
     "name": "stderr",
     "output_type": "stream",
     "text": [
      "root        : ERROR    20071020{\"retCode\": -1, \"retMsg\": \"No Data Returned\"}\n"
     ]
    },
    {
     "name": "stdout",
     "output_type": "stream",
     "text": [
      "20071019  done\n",
      "20071020  nodata\n"
     ]
    },
    {
     "name": "stderr",
     "output_type": "stream",
     "text": [
      "root        : ERROR    20071021{\"retCode\": -1, \"retMsg\": \"No Data Returned\"}\n"
     ]
    },
    {
     "name": "stdout",
     "output_type": "stream",
     "text": [
      "20071021  nodata\n",
      "20071022  done\n",
      "20071023  done\n",
      "20071024  done\n",
      "20071025  done\n"
     ]
    },
    {
     "name": "stderr",
     "output_type": "stream",
     "text": [
      "root        : ERROR    20071027{\"retCode\": -1, \"retMsg\": \"No Data Returned\"}\n"
     ]
    },
    {
     "name": "stdout",
     "output_type": "stream",
     "text": [
      "20071026  done\n",
      "20071027  nodata\n"
     ]
    },
    {
     "name": "stderr",
     "output_type": "stream",
     "text": [
      "root        : ERROR    20071028{\"retCode\": -1, \"retMsg\": \"No Data Returned\"}\n"
     ]
    },
    {
     "name": "stdout",
     "output_type": "stream",
     "text": [
      "20071028  nodata\n",
      "20071029  done\n",
      "20071030  done\n",
      "20071031  done\n",
      "20071101  done\n"
     ]
    },
    {
     "name": "stderr",
     "output_type": "stream",
     "text": [
      "root        : ERROR    20071103{\"retCode\": -1, \"retMsg\": \"No Data Returned\"}\n"
     ]
    },
    {
     "name": "stdout",
     "output_type": "stream",
     "text": [
      "20071102  done\n",
      "20071103  nodata\n"
     ]
    },
    {
     "name": "stderr",
     "output_type": "stream",
     "text": [
      "root        : ERROR    20071104{\"retCode\": -1, \"retMsg\": \"No Data Returned\"}\n"
     ]
    },
    {
     "name": "stdout",
     "output_type": "stream",
     "text": [
      "20071104  nodata\n",
      "20071105  done\n",
      "20071106  done\n",
      "20071107  done\n",
      "20071108  done\n"
     ]
    },
    {
     "name": "stderr",
     "output_type": "stream",
     "text": [
      "root        : ERROR    20071110{\"retCode\": -1, \"retMsg\": \"No Data Returned\"}\n"
     ]
    },
    {
     "name": "stdout",
     "output_type": "stream",
     "text": [
      "20071109  done\n",
      "20071110  nodata\n"
     ]
    },
    {
     "name": "stderr",
     "output_type": "stream",
     "text": [
      "root        : ERROR    20071111{\"retCode\": -1, \"retMsg\": \"No Data Returned\"}\n"
     ]
    },
    {
     "name": "stdout",
     "output_type": "stream",
     "text": [
      "20071111  nodata\n",
      "20071112  done\n",
      "20071113  done\n",
      "20071114  done\n",
      "20071115  done\n"
     ]
    },
    {
     "name": "stderr",
     "output_type": "stream",
     "text": [
      "root        : ERROR    20071117{\"retCode\": -1, \"retMsg\": \"No Data Returned\"}\n"
     ]
    },
    {
     "name": "stdout",
     "output_type": "stream",
     "text": [
      "20071116  done\n",
      "20071117  nodata\n"
     ]
    },
    {
     "name": "stderr",
     "output_type": "stream",
     "text": [
      "root        : ERROR    20071118{\"retCode\": -1, \"retMsg\": \"No Data Returned\"}\n"
     ]
    },
    {
     "name": "stdout",
     "output_type": "stream",
     "text": [
      "20071118  nodata\n",
      "20071119  done\n",
      "20071120  done\n",
      "20071121  done\n",
      "20071122  done\n"
     ]
    },
    {
     "name": "stderr",
     "output_type": "stream",
     "text": [
      "root        : ERROR    20071124{\"retCode\": -1, \"retMsg\": \"No Data Returned\"}\n"
     ]
    },
    {
     "name": "stdout",
     "output_type": "stream",
     "text": [
      "20071123  done\n",
      "20071124  nodata\n"
     ]
    },
    {
     "name": "stderr",
     "output_type": "stream",
     "text": [
      "root        : ERROR    20071125{\"retCode\": -1, \"retMsg\": \"No Data Returned\"}\n"
     ]
    },
    {
     "name": "stdout",
     "output_type": "stream",
     "text": [
      "20071125  nodata\n",
      "20071126  done\n",
      "20071127  done\n",
      "20071128  done\n",
      "20071129  done\n"
     ]
    },
    {
     "name": "stderr",
     "output_type": "stream",
     "text": [
      "root        : ERROR    20071201{\"retCode\": -1, \"retMsg\": \"No Data Returned\"}\n"
     ]
    },
    {
     "name": "stdout",
     "output_type": "stream",
     "text": [
      "20071130  done\n",
      "20071201  nodata\n"
     ]
    },
    {
     "name": "stderr",
     "output_type": "stream",
     "text": [
      "root        : ERROR    20071202{\"retCode\": -1, \"retMsg\": \"No Data Returned\"}\n"
     ]
    },
    {
     "name": "stdout",
     "output_type": "stream",
     "text": [
      "20071202  nodata\n",
      "20071203  done\n",
      "20071204  done\n",
      "20071205  done\n",
      "20071206  done\n"
     ]
    },
    {
     "name": "stderr",
     "output_type": "stream",
     "text": [
      "root        : ERROR    20071208{\"retCode\": -1, \"retMsg\": \"No Data Returned\"}\n"
     ]
    },
    {
     "name": "stdout",
     "output_type": "stream",
     "text": [
      "20071207  done\n",
      "20071208  nodata\n"
     ]
    },
    {
     "name": "stderr",
     "output_type": "stream",
     "text": [
      "root        : ERROR    20071209{\"retCode\": -1, \"retMsg\": \"No Data Returned\"}\n"
     ]
    },
    {
     "name": "stdout",
     "output_type": "stream",
     "text": [
      "20071209  nodata\n",
      "20071210  done\n",
      "20071211  done\n",
      "20071212  done\n",
      "20071213  done\n"
     ]
    },
    {
     "name": "stderr",
     "output_type": "stream",
     "text": [
      "root        : ERROR    20071215{\"retCode\": -1, \"retMsg\": \"No Data Returned\"}\n"
     ]
    },
    {
     "name": "stdout",
     "output_type": "stream",
     "text": [
      "20071214  done\n",
      "20071215  nodata\n"
     ]
    },
    {
     "name": "stderr",
     "output_type": "stream",
     "text": [
      "root        : ERROR    20071216{\"retCode\": -1, \"retMsg\": \"No Data Returned\"}\n"
     ]
    },
    {
     "name": "stdout",
     "output_type": "stream",
     "text": [
      "20071216  nodata\n",
      "20071217  done\n",
      "20071218  done\n",
      "20071219  done\n",
      "20071220  done\n"
     ]
    },
    {
     "name": "stderr",
     "output_type": "stream",
     "text": [
      "root        : ERROR    20071222{\"retCode\": -1, \"retMsg\": \"No Data Returned\"}\n"
     ]
    },
    {
     "name": "stdout",
     "output_type": "stream",
     "text": [
      "20071221  done\n",
      "20071222  nodata\n"
     ]
    },
    {
     "name": "stderr",
     "output_type": "stream",
     "text": [
      "root        : ERROR    20071223{\"retCode\": -1, \"retMsg\": \"No Data Returned\"}\n"
     ]
    },
    {
     "name": "stdout",
     "output_type": "stream",
     "text": [
      "20071223  nodata\n",
      "20071224  done\n",
      "20071225  done\n",
      "20071226  done\n",
      "20071227  done\n"
     ]
    },
    {
     "name": "stderr",
     "output_type": "stream",
     "text": [
      "root        : ERROR    20071229{\"retCode\": -1, \"retMsg\": \"No Data Returned\"}\n"
     ]
    },
    {
     "name": "stdout",
     "output_type": "stream",
     "text": [
      "20071228  done\n",
      "20071229  nodata\n"
     ]
    },
    {
     "name": "stderr",
     "output_type": "stream",
     "text": [
      "root        : ERROR    20071230{\"retCode\": -1, \"retMsg\": \"No Data Returned\"}\n",
      "root        : ERROR    20071231{\"retCode\": -1, \"retMsg\": \"No Data Returned\"}\n"
     ]
    },
    {
     "name": "stdout",
     "output_type": "stream",
     "text": [
      "20071230  nodata\n",
      "20071231  nodata\n"
     ]
    },
    {
     "name": "stderr",
     "output_type": "stream",
     "text": [
      "root        : ERROR    20080101{\"retCode\": -1, \"retMsg\": \"No Data Returned\"}\n"
     ]
    },
    {
     "name": "stdout",
     "output_type": "stream",
     "text": [
      "20080101  nodata\n",
      "20080102  done\n",
      "20080103  done\n"
     ]
    },
    {
     "name": "stderr",
     "output_type": "stream",
     "text": [
      "root        : ERROR    20080105{\"retCode\": -1, \"retMsg\": \"No Data Returned\"}\n"
     ]
    },
    {
     "name": "stdout",
     "output_type": "stream",
     "text": [
      "20080104  done\n",
      "20080105  nodata\n"
     ]
    },
    {
     "name": "stderr",
     "output_type": "stream",
     "text": [
      "root        : ERROR    20080106{\"retCode\": -1, \"retMsg\": \"No Data Returned\"}\n"
     ]
    },
    {
     "name": "stdout",
     "output_type": "stream",
     "text": [
      "20080106  nodata\n",
      "20080107  done\n",
      "20080108  done\n",
      "20080109  done\n",
      "20080110  done\n"
     ]
    },
    {
     "name": "stderr",
     "output_type": "stream",
     "text": [
      "root        : ERROR    20080112{\"retCode\": -1, \"retMsg\": \"No Data Returned\"}\n"
     ]
    },
    {
     "name": "stdout",
     "output_type": "stream",
     "text": [
      "20080111  done\n",
      "20080112  nodata\n"
     ]
    },
    {
     "name": "stderr",
     "output_type": "stream",
     "text": [
      "root        : ERROR    20080113{\"retCode\": -1, \"retMsg\": \"No Data Returned\"}\n"
     ]
    },
    {
     "name": "stdout",
     "output_type": "stream",
     "text": [
      "20080113  nodata\n",
      "20080114  done\n",
      "20080115  done\n",
      "20080116  done\n",
      "20080117  done\n"
     ]
    },
    {
     "name": "stderr",
     "output_type": "stream",
     "text": [
      "root        : ERROR    20080119{\"retCode\": -1, \"retMsg\": \"No Data Returned\"}\n"
     ]
    },
    {
     "name": "stdout",
     "output_type": "stream",
     "text": [
      "20080118  done\n",
      "20080119  nodata\n"
     ]
    },
    {
     "name": "stderr",
     "output_type": "stream",
     "text": [
      "root        : ERROR    20080120{\"retCode\": -1, \"retMsg\": \"No Data Returned\"}\n"
     ]
    },
    {
     "name": "stdout",
     "output_type": "stream",
     "text": [
      "20080120  nodata\n",
      "20080121  done\n",
      "20080122  done\n",
      "20080123  done\n",
      "20080124  done\n"
     ]
    },
    {
     "name": "stderr",
     "output_type": "stream",
     "text": [
      "root        : ERROR    20080126{\"retCode\": -1, \"retMsg\": \"No Data Returned\"}\n"
     ]
    },
    {
     "name": "stdout",
     "output_type": "stream",
     "text": [
      "20080125  done\n",
      "20080126  nodata\n"
     ]
    },
    {
     "name": "stderr",
     "output_type": "stream",
     "text": [
      "root        : ERROR    20080127{\"retCode\": -1, \"retMsg\": \"No Data Returned\"}\n"
     ]
    },
    {
     "name": "stdout",
     "output_type": "stream",
     "text": [
      "20080127  nodata\n",
      "20080128  done\n",
      "20080129  done\n",
      "20080130  done\n",
      "20080131  done\n"
     ]
    },
    {
     "name": "stderr",
     "output_type": "stream",
     "text": [
      "root        : ERROR    20080202{\"retCode\": -1, \"retMsg\": \"No Data Returned\"}\n"
     ]
    },
    {
     "name": "stdout",
     "output_type": "stream",
     "text": [
      "20080201  done\n",
      "20080202  nodata\n"
     ]
    },
    {
     "name": "stderr",
     "output_type": "stream",
     "text": [
      "root        : ERROR    20080203{\"retCode\": -1, \"retMsg\": \"No Data Returned\"}\n"
     ]
    },
    {
     "name": "stdout",
     "output_type": "stream",
     "text": [
      "20080203  nodata\n",
      "20080204  done\n"
     ]
    },
    {
     "name": "stderr",
     "output_type": "stream",
     "text": [
      "root        : ERROR    20080206{\"retCode\": -1, \"retMsg\": \"No Data Returned\"}\n"
     ]
    },
    {
     "name": "stdout",
     "output_type": "stream",
     "text": [
      "20080205  done\n",
      "20080206  nodata\n"
     ]
    },
    {
     "name": "stderr",
     "output_type": "stream",
     "text": [
      "root        : ERROR    20080207{\"retCode\": -1, \"retMsg\": \"No Data Returned\"}\n",
      "root        : ERROR    20080208{\"retCode\": -1, \"retMsg\": \"No Data Returned\"}\n"
     ]
    },
    {
     "name": "stdout",
     "output_type": "stream",
     "text": [
      "20080207  nodata\n",
      "20080208  nodata\n"
     ]
    },
    {
     "name": "stderr",
     "output_type": "stream",
     "text": [
      "root        : ERROR    20080209{\"retCode\": -1, \"retMsg\": \"No Data Returned\"}\n",
      "root        : ERROR    20080210{\"retCode\": -1, \"retMsg\": \"No Data Returned\"}\n"
     ]
    },
    {
     "name": "stdout",
     "output_type": "stream",
     "text": [
      "20080209  nodata\n",
      "20080210  nodata\n"
     ]
    },
    {
     "name": "stderr",
     "output_type": "stream",
     "text": [
      "root        : ERROR    20080211{\"retCode\": -1, \"retMsg\": \"No Data Returned\"}\n",
      "root        : ERROR    20080212{\"retCode\": -1, \"retMsg\": \"No Data Returned\"}\n"
     ]
    },
    {
     "name": "stdout",
     "output_type": "stream",
     "text": [
      "20080211  nodata\n",
      "20080212  nodata\n",
      "20080213  done\n",
      "20080214  done\n"
     ]
    },
    {
     "name": "stderr",
     "output_type": "stream",
     "text": [
      "root        : ERROR    20080216{\"retCode\": -1, \"retMsg\": \"No Data Returned\"}\n"
     ]
    },
    {
     "name": "stdout",
     "output_type": "stream",
     "text": [
      "20080215  done\n",
      "20080216  nodata\n"
     ]
    },
    {
     "name": "stderr",
     "output_type": "stream",
     "text": [
      "root        : ERROR    20080217{\"retCode\": -1, \"retMsg\": \"No Data Returned\"}\n"
     ]
    },
    {
     "name": "stdout",
     "output_type": "stream",
     "text": [
      "20080217  nodata\n",
      "20080218  done\n",
      "20080219  done\n",
      "20080220  done\n",
      "20080221  done\n"
     ]
    },
    {
     "name": "stderr",
     "output_type": "stream",
     "text": [
      "root        : ERROR    20080223{\"retCode\": -1, \"retMsg\": \"No Data Returned\"}\n"
     ]
    },
    {
     "name": "stdout",
     "output_type": "stream",
     "text": [
      "20080222  done\n",
      "20080223  nodata\n"
     ]
    },
    {
     "name": "stderr",
     "output_type": "stream",
     "text": [
      "root        : ERROR    20080224{\"retCode\": -1, \"retMsg\": \"No Data Returned\"}\n"
     ]
    },
    {
     "name": "stdout",
     "output_type": "stream",
     "text": [
      "20080224  nodata\n",
      "20080225  done\n",
      "20080226  done\n",
      "20080227  done\n",
      "20080228  done\n"
     ]
    },
    {
     "name": "stderr",
     "output_type": "stream",
     "text": [
      "root        : ERROR    20080301{\"retCode\": -1, \"retMsg\": \"No Data Returned\"}\n"
     ]
    },
    {
     "name": "stdout",
     "output_type": "stream",
     "text": [
      "20080229  done\n",
      "20080301  nodata\n"
     ]
    },
    {
     "name": "stderr",
     "output_type": "stream",
     "text": [
      "root        : ERROR    20080302{\"retCode\": -1, \"retMsg\": \"No Data Returned\"}\n"
     ]
    },
    {
     "name": "stdout",
     "output_type": "stream",
     "text": [
      "20080302  nodata\n",
      "20080303  done\n",
      "20080304  done\n",
      "20080305  done\n",
      "20080306  done\n"
     ]
    },
    {
     "name": "stderr",
     "output_type": "stream",
     "text": [
      "root        : ERROR    20080308{\"retCode\": -1, \"retMsg\": \"No Data Returned\"}\n"
     ]
    },
    {
     "name": "stdout",
     "output_type": "stream",
     "text": [
      "20080307  done\n",
      "20080308  nodata\n"
     ]
    },
    {
     "name": "stderr",
     "output_type": "stream",
     "text": [
      "root        : ERROR    20080309{\"retCode\": -1, \"retMsg\": \"No Data Returned\"}\n"
     ]
    },
    {
     "name": "stdout",
     "output_type": "stream",
     "text": [
      "20080309  nodata\n",
      "20080310  done\n",
      "20080311  done\n",
      "20080312  done\n",
      "20080313  done\n"
     ]
    },
    {
     "name": "stderr",
     "output_type": "stream",
     "text": [
      "root        : ERROR    20080315{\"retCode\": -1, \"retMsg\": \"No Data Returned\"}\n"
     ]
    },
    {
     "name": "stdout",
     "output_type": "stream",
     "text": [
      "20080314  done\n",
      "20080315  nodata\n"
     ]
    },
    {
     "name": "stderr",
     "output_type": "stream",
     "text": [
      "root        : ERROR    20080316{\"retCode\": -1, \"retMsg\": \"No Data Returned\"}\n"
     ]
    },
    {
     "name": "stdout",
     "output_type": "stream",
     "text": [
      "20080316  nodata\n",
      "20080317  done\n",
      "20080318  done\n",
      "20080319  done\n",
      "20080320  done\n"
     ]
    },
    {
     "name": "stderr",
     "output_type": "stream",
     "text": [
      "root        : ERROR    20080322{\"retCode\": -1, \"retMsg\": \"No Data Returned\"}\n"
     ]
    },
    {
     "name": "stdout",
     "output_type": "stream",
     "text": [
      "20080321  done\n",
      "20080322  nodata\n"
     ]
    },
    {
     "name": "stderr",
     "output_type": "stream",
     "text": [
      "root        : ERROR    20080323{\"retCode\": -1, \"retMsg\": \"No Data Returned\"}\n"
     ]
    },
    {
     "name": "stdout",
     "output_type": "stream",
     "text": [
      "20080323  nodata\n",
      "20080324  done\n",
      "20080325  done\n",
      "20080326  done\n",
      "20080327  done\n"
     ]
    },
    {
     "name": "stderr",
     "output_type": "stream",
     "text": [
      "root        : ERROR    20080329{\"retCode\": -1, \"retMsg\": \"No Data Returned\"}\n"
     ]
    },
    {
     "name": "stdout",
     "output_type": "stream",
     "text": [
      "20080328  done\n",
      "20080329  nodata\n"
     ]
    },
    {
     "name": "stderr",
     "output_type": "stream",
     "text": [
      "root        : ERROR    20080330{\"retCode\": -1, \"retMsg\": \"No Data Returned\"}\n"
     ]
    },
    {
     "name": "stdout",
     "output_type": "stream",
     "text": [
      "20080330  nodata\n",
      "20080331  done\n",
      "20080401  done\n",
      "20080402  done\n"
     ]
    },
    {
     "name": "stderr",
     "output_type": "stream",
     "text": [
      "root        : ERROR    20080404{\"retCode\": -1, \"retMsg\": \"No Data Returned\"}\n"
     ]
    },
    {
     "name": "stdout",
     "output_type": "stream",
     "text": [
      "20080403  done\n",
      "20080404  nodata\n"
     ]
    },
    {
     "name": "stderr",
     "output_type": "stream",
     "text": [
      "root        : ERROR    20080405{\"retCode\": -1, \"retMsg\": \"No Data Returned\"}\n",
      "root        : ERROR    20080406{\"retCode\": -1, \"retMsg\": \"No Data Returned\"}\n"
     ]
    },
    {
     "name": "stdout",
     "output_type": "stream",
     "text": [
      "20080405  nodata\n",
      "20080406  nodata\n",
      "20080407  done\n",
      "20080408  done\n",
      "20080409  done\n",
      "20080410  done\n"
     ]
    },
    {
     "name": "stderr",
     "output_type": "stream",
     "text": [
      "root        : ERROR    20080412{\"retCode\": -1, \"retMsg\": \"No Data Returned\"}\n"
     ]
    },
    {
     "name": "stdout",
     "output_type": "stream",
     "text": [
      "20080411  done\n",
      "20080412  nodata\n"
     ]
    },
    {
     "name": "stderr",
     "output_type": "stream",
     "text": [
      "root        : ERROR    20080413{\"retCode\": -1, \"retMsg\": \"No Data Returned\"}\n"
     ]
    },
    {
     "name": "stdout",
     "output_type": "stream",
     "text": [
      "20080413  nodata\n",
      "20080414  done\n",
      "20080415  done\n",
      "20080416  done\n",
      "20080417  done\n"
     ]
    },
    {
     "name": "stderr",
     "output_type": "stream",
     "text": [
      "root        : ERROR    20080419{\"retCode\": -1, \"retMsg\": \"No Data Returned\"}\n"
     ]
    },
    {
     "name": "stdout",
     "output_type": "stream",
     "text": [
      "20080418  done\n",
      "20080419  nodata\n"
     ]
    },
    {
     "name": "stderr",
     "output_type": "stream",
     "text": [
      "root        : ERROR    20080420{\"retCode\": -1, \"retMsg\": \"No Data Returned\"}\n"
     ]
    },
    {
     "name": "stdout",
     "output_type": "stream",
     "text": [
      "20080420  nodata\n",
      "20080421  done\n",
      "20080422  done\n",
      "20080423  done\n",
      "20080424  done\n"
     ]
    },
    {
     "name": "stderr",
     "output_type": "stream",
     "text": [
      "root        : ERROR    20080426{\"retCode\": -1, \"retMsg\": \"No Data Returned\"}\n"
     ]
    },
    {
     "name": "stdout",
     "output_type": "stream",
     "text": [
      "20080425  done\n",
      "20080426  nodata\n"
     ]
    },
    {
     "name": "stderr",
     "output_type": "stream",
     "text": [
      "root        : ERROR    20080427{\"retCode\": -1, \"retMsg\": \"No Data Returned\"}\n"
     ]
    },
    {
     "name": "stdout",
     "output_type": "stream",
     "text": [
      "20080427  nodata\n",
      "20080428  done\n",
      "20080429  done\n"
     ]
    },
    {
     "name": "stderr",
     "output_type": "stream",
     "text": [
      "root        : ERROR    20080501{\"retCode\": -1, \"retMsg\": \"No Data Returned\"}\n"
     ]
    },
    {
     "name": "stdout",
     "output_type": "stream",
     "text": [
      "20080430  done\n",
      "20080501  nodata\n"
     ]
    },
    {
     "name": "stderr",
     "output_type": "stream",
     "text": [
      "root        : ERROR    20080502{\"retCode\": -1, \"retMsg\": \"No Data Returned\"}\n",
      "root        : ERROR    20080503{\"retCode\": -1, \"retMsg\": \"No Data Returned\"}\n"
     ]
    },
    {
     "name": "stdout",
     "output_type": "stream",
     "text": [
      "20080502  nodata\n",
      "20080503  nodata\n"
     ]
    },
    {
     "name": "stderr",
     "output_type": "stream",
     "text": [
      "root        : ERROR    20080504{\"retCode\": -1, \"retMsg\": \"No Data Returned\"}\n"
     ]
    },
    {
     "name": "stdout",
     "output_type": "stream",
     "text": [
      "20080504  nodata\n",
      "20080505  done\n",
      "20080506  done\n",
      "20080507  done\n",
      "20080508  done\n"
     ]
    },
    {
     "name": "stderr",
     "output_type": "stream",
     "text": [
      "root        : ERROR    20080510{\"retCode\": -1, \"retMsg\": \"No Data Returned\"}\n"
     ]
    },
    {
     "name": "stdout",
     "output_type": "stream",
     "text": [
      "20080509  done\n",
      "20080510  nodata\n"
     ]
    },
    {
     "name": "stderr",
     "output_type": "stream",
     "text": [
      "root        : ERROR    20080511{\"retCode\": -1, \"retMsg\": \"No Data Returned\"}\n"
     ]
    },
    {
     "name": "stdout",
     "output_type": "stream",
     "text": [
      "20080511  nodata\n",
      "20080512  done\n",
      "20080513  done\n",
      "20080514  done\n",
      "20080515  done\n"
     ]
    },
    {
     "name": "stderr",
     "output_type": "stream",
     "text": [
      "root        : ERROR    20080517{\"retCode\": -1, \"retMsg\": \"No Data Returned\"}\n"
     ]
    },
    {
     "name": "stdout",
     "output_type": "stream",
     "text": [
      "20080516  done\n",
      "20080517  nodata\n"
     ]
    },
    {
     "name": "stderr",
     "output_type": "stream",
     "text": [
      "root        : ERROR    20080518{\"retCode\": -1, \"retMsg\": \"No Data Returned\"}\n"
     ]
    },
    {
     "name": "stdout",
     "output_type": "stream",
     "text": [
      "20080518  nodata\n",
      "20080519  done\n",
      "20080520  done\n",
      "20080521  done\n",
      "20080522  done\n"
     ]
    },
    {
     "name": "stderr",
     "output_type": "stream",
     "text": [
      "root        : ERROR    20080524{\"retCode\": -1, \"retMsg\": \"No Data Returned\"}\n"
     ]
    },
    {
     "name": "stdout",
     "output_type": "stream",
     "text": [
      "20080523  done\n",
      "20080524  nodata\n"
     ]
    },
    {
     "name": "stderr",
     "output_type": "stream",
     "text": [
      "root        : ERROR    20080525{\"retCode\": -1, \"retMsg\": \"No Data Returned\"}\n"
     ]
    },
    {
     "name": "stdout",
     "output_type": "stream",
     "text": [
      "20080525  nodata\n",
      "20080526  done\n",
      "20080527  done\n",
      "20080528  done\n",
      "20080529  done\n"
     ]
    },
    {
     "name": "stderr",
     "output_type": "stream",
     "text": [
      "root        : ERROR    20080531{\"retCode\": -1, \"retMsg\": \"No Data Returned\"}\n"
     ]
    },
    {
     "name": "stdout",
     "output_type": "stream",
     "text": [
      "20080530  done\n",
      "20080531  nodata\n"
     ]
    },
    {
     "name": "stderr",
     "output_type": "stream",
     "text": [
      "root        : ERROR    20080601{\"retCode\": -1, \"retMsg\": \"No Data Returned\"}\n"
     ]
    },
    {
     "name": "stdout",
     "output_type": "stream",
     "text": [
      "20080601  nodata\n",
      "20080602  done\n",
      "20080603  done\n",
      "20080604  done\n",
      "20080605  done\n"
     ]
    },
    {
     "name": "stderr",
     "output_type": "stream",
     "text": [
      "root        : ERROR    20080607{\"retCode\": -1, \"retMsg\": \"No Data Returned\"}\n"
     ]
    },
    {
     "name": "stdout",
     "output_type": "stream",
     "text": [
      "20080606  done\n",
      "20080607  nodata\n"
     ]
    },
    {
     "name": "stderr",
     "output_type": "stream",
     "text": [
      "root        : ERROR    20080608{\"retCode\": -1, \"retMsg\": \"No Data Returned\"}\n",
      "root        : ERROR    20080609{\"retCode\": -1, \"retMsg\": \"No Data Returned\"}\n"
     ]
    },
    {
     "name": "stdout",
     "output_type": "stream",
     "text": [
      "20080608  nodata\n",
      "20080609  nodata\n",
      "20080610  done\n",
      "20080611  done\n",
      "20080612  done\n"
     ]
    },
    {
     "name": "stderr",
     "output_type": "stream",
     "text": [
      "root        : ERROR    20080614{\"retCode\": -1, \"retMsg\": \"No Data Returned\"}\n"
     ]
    },
    {
     "name": "stdout",
     "output_type": "stream",
     "text": [
      "20080613  done\n",
      "20080614  nodata\n"
     ]
    },
    {
     "name": "stderr",
     "output_type": "stream",
     "text": [
      "root        : ERROR    20080615{\"retCode\": -1, \"retMsg\": \"No Data Returned\"}\n"
     ]
    },
    {
     "name": "stdout",
     "output_type": "stream",
     "text": [
      "20080615  nodata\n",
      "20080616  done\n",
      "20080617  done\n",
      "20080618  done\n",
      "20080619  done\n"
     ]
    },
    {
     "name": "stderr",
     "output_type": "stream",
     "text": [
      "root        : ERROR    20080621{\"retCode\": -1, \"retMsg\": \"No Data Returned\"}\n"
     ]
    },
    {
     "name": "stdout",
     "output_type": "stream",
     "text": [
      "20080620  done\n",
      "20080621  nodata\n"
     ]
    },
    {
     "name": "stderr",
     "output_type": "stream",
     "text": [
      "root        : ERROR    20080622{\"retCode\": -1, \"retMsg\": \"No Data Returned\"}\n"
     ]
    },
    {
     "name": "stdout",
     "output_type": "stream",
     "text": [
      "20080622  nodata\n",
      "20080623  done\n",
      "20080624  done\n",
      "20080625  done\n",
      "20080626  done\n"
     ]
    },
    {
     "name": "stderr",
     "output_type": "stream",
     "text": [
      "root        : ERROR    20080628{\"retCode\": -1, \"retMsg\": \"No Data Returned\"}\n"
     ]
    },
    {
     "name": "stdout",
     "output_type": "stream",
     "text": [
      "20080627  done\n",
      "20080628  nodata\n"
     ]
    },
    {
     "name": "stderr",
     "output_type": "stream",
     "text": [
      "root        : ERROR    20080629{\"retCode\": -1, \"retMsg\": \"No Data Returned\"}\n"
     ]
    },
    {
     "name": "stdout",
     "output_type": "stream",
     "text": [
      "20080629  nodata\n",
      "20080630  done\n",
      "20080701  done\n",
      "20080702  done\n",
      "20080703  done\n"
     ]
    },
    {
     "name": "stderr",
     "output_type": "stream",
     "text": [
      "root        : ERROR    20080705{\"retCode\": -1, \"retMsg\": \"No Data Returned\"}\n"
     ]
    },
    {
     "name": "stdout",
     "output_type": "stream",
     "text": [
      "20080704  done\n",
      "20080705  nodata\n"
     ]
    },
    {
     "name": "stderr",
     "output_type": "stream",
     "text": [
      "root        : ERROR    20080706{\"retCode\": -1, \"retMsg\": \"No Data Returned\"}\n"
     ]
    },
    {
     "name": "stdout",
     "output_type": "stream",
     "text": [
      "20080706  nodata\n",
      "20080707  done\n",
      "20080708  done\n",
      "20080709  done\n",
      "20080710  done\n"
     ]
    },
    {
     "name": "stderr",
     "output_type": "stream",
     "text": [
      "root        : ERROR    20080712{\"retCode\": -1, \"retMsg\": \"No Data Returned\"}\n"
     ]
    },
    {
     "name": "stdout",
     "output_type": "stream",
     "text": [
      "20080711  done\n",
      "20080712  nodata\n"
     ]
    },
    {
     "name": "stderr",
     "output_type": "stream",
     "text": [
      "root        : ERROR    20080713{\"retCode\": -1, \"retMsg\": \"No Data Returned\"}\n"
     ]
    },
    {
     "name": "stdout",
     "output_type": "stream",
     "text": [
      "20080713  nodata\n",
      "20080714  done\n",
      "20080715  done\n",
      "20080716  done\n",
      "20080717  done\n"
     ]
    },
    {
     "name": "stderr",
     "output_type": "stream",
     "text": [
      "root        : ERROR    20080719{\"retCode\": -1, \"retMsg\": \"No Data Returned\"}\n"
     ]
    },
    {
     "name": "stdout",
     "output_type": "stream",
     "text": [
      "20080718  done\n",
      "20080719  nodata\n"
     ]
    },
    {
     "name": "stderr",
     "output_type": "stream",
     "text": [
      "root        : ERROR    20080720{\"retCode\": -1, \"retMsg\": \"No Data Returned\"}\n"
     ]
    },
    {
     "name": "stdout",
     "output_type": "stream",
     "text": [
      "20080720  nodata\n",
      "20080721  done\n",
      "20080722  done\n",
      "20080723  done\n",
      "20080724  done\n"
     ]
    },
    {
     "name": "stderr",
     "output_type": "stream",
     "text": [
      "root        : ERROR    20080726{\"retCode\": -1, \"retMsg\": \"No Data Returned\"}\n"
     ]
    },
    {
     "name": "stdout",
     "output_type": "stream",
     "text": [
      "20080725  done\n",
      "20080726  nodata\n"
     ]
    },
    {
     "name": "stderr",
     "output_type": "stream",
     "text": [
      "root        : ERROR    20080727{\"retCode\": -1, \"retMsg\": \"No Data Returned\"}\n"
     ]
    },
    {
     "name": "stdout",
     "output_type": "stream",
     "text": [
      "20080727  nodata\n",
      "20080728  done\n",
      "20080729  done\n",
      "20080730  done\n",
      "20080731  done\n"
     ]
    },
    {
     "name": "stderr",
     "output_type": "stream",
     "text": [
      "root        : ERROR    20080802{\"retCode\": -1, \"retMsg\": \"No Data Returned\"}\n"
     ]
    },
    {
     "name": "stdout",
     "output_type": "stream",
     "text": [
      "20080801  done\n",
      "20080802  nodata\n"
     ]
    },
    {
     "name": "stderr",
     "output_type": "stream",
     "text": [
      "root        : ERROR    20080803{\"retCode\": -1, \"retMsg\": \"No Data Returned\"}\n"
     ]
    },
    {
     "name": "stdout",
     "output_type": "stream",
     "text": [
      "20080803  nodata\n",
      "20080804  done\n",
      "20080805  done\n",
      "20080806  done\n",
      "20080807  done\n"
     ]
    },
    {
     "name": "stderr",
     "output_type": "stream",
     "text": [
      "root        : ERROR    20080809{\"retCode\": -1, \"retMsg\": \"No Data Returned\"}\n"
     ]
    },
    {
     "name": "stdout",
     "output_type": "stream",
     "text": [
      "20080808  done\n",
      "20080809  nodata\n"
     ]
    },
    {
     "name": "stderr",
     "output_type": "stream",
     "text": [
      "root        : ERROR    20080810{\"retCode\": -1, \"retMsg\": \"No Data Returned\"}\n"
     ]
    },
    {
     "name": "stdout",
     "output_type": "stream",
     "text": [
      "20080810  nodata\n",
      "20080811  done\n",
      "20080812  done\n",
      "20080813  done\n",
      "20080814  done\n"
     ]
    },
    {
     "name": "stderr",
     "output_type": "stream",
     "text": [
      "root        : ERROR    20080816{\"retCode\": -1, \"retMsg\": \"No Data Returned\"}\n"
     ]
    },
    {
     "name": "stdout",
     "output_type": "stream",
     "text": [
      "20080815  done\n",
      "20080816  nodata\n"
     ]
    },
    {
     "name": "stderr",
     "output_type": "stream",
     "text": [
      "root        : ERROR    20080817{\"retCode\": -1, \"retMsg\": \"No Data Returned\"}\n"
     ]
    },
    {
     "name": "stdout",
     "output_type": "stream",
     "text": [
      "20080817  nodata\n",
      "20080818  done\n",
      "20080819  done\n",
      "20080820  done\n",
      "20080821  done\n"
     ]
    },
    {
     "name": "stderr",
     "output_type": "stream",
     "text": [
      "root        : ERROR    20080823{\"retCode\": -1, \"retMsg\": \"No Data Returned\"}\n"
     ]
    },
    {
     "name": "stdout",
     "output_type": "stream",
     "text": [
      "20080822  done\n",
      "20080823  nodata\n"
     ]
    },
    {
     "name": "stderr",
     "output_type": "stream",
     "text": [
      "root        : ERROR    20080824{\"retCode\": -1, \"retMsg\": \"No Data Returned\"}\n"
     ]
    },
    {
     "name": "stdout",
     "output_type": "stream",
     "text": [
      "20080824  nodata\n",
      "20080825  done\n",
      "20080826  done\n",
      "20080827  done\n",
      "20080828  done\n"
     ]
    },
    {
     "name": "stderr",
     "output_type": "stream",
     "text": [
      "root        : ERROR    20080830{\"retCode\": -1, \"retMsg\": \"No Data Returned\"}\n"
     ]
    },
    {
     "name": "stdout",
     "output_type": "stream",
     "text": [
      "20080829  done\n",
      "20080830  nodata\n"
     ]
    },
    {
     "name": "stderr",
     "output_type": "stream",
     "text": [
      "root        : ERROR    20080831{\"retCode\": -1, \"retMsg\": \"No Data Returned\"}\n"
     ]
    },
    {
     "name": "stdout",
     "output_type": "stream",
     "text": [
      "20080831  nodata\n",
      "20080901  done\n",
      "20080902  done\n",
      "20080903  done\n",
      "20080904  done\n"
     ]
    },
    {
     "name": "stderr",
     "output_type": "stream",
     "text": [
      "root        : ERROR    20080906{\"retCode\": -1, \"retMsg\": \"No Data Returned\"}\n"
     ]
    },
    {
     "name": "stdout",
     "output_type": "stream",
     "text": [
      "20080905  done\n",
      "20080906  nodata\n"
     ]
    },
    {
     "name": "stderr",
     "output_type": "stream",
     "text": [
      "root        : ERROR    20080907{\"retCode\": -1, \"retMsg\": \"No Data Returned\"}\n"
     ]
    },
    {
     "name": "stdout",
     "output_type": "stream",
     "text": [
      "20080907  nodata\n",
      "20080908  done\n",
      "20080909  done\n",
      "20080910  done\n",
      "20080911  done\n"
     ]
    },
    {
     "name": "stderr",
     "output_type": "stream",
     "text": [
      "root        : ERROR    20080913{\"retCode\": -1, \"retMsg\": \"No Data Returned\"}\n"
     ]
    },
    {
     "name": "stdout",
     "output_type": "stream",
     "text": [
      "20080912  done\n",
      "20080913  nodata\n"
     ]
    },
    {
     "name": "stderr",
     "output_type": "stream",
     "text": [
      "root        : ERROR    20080914{\"retCode\": -1, \"retMsg\": \"No Data Returned\"}\n",
      "root        : ERROR    20080915{\"retCode\": -1, \"retMsg\": \"No Data Returned\"}\n"
     ]
    },
    {
     "name": "stdout",
     "output_type": "stream",
     "text": [
      "20080914  nodata\n",
      "20080915  nodata\n",
      "20080916  done\n",
      "20080917  done\n",
      "20080918  done\n"
     ]
    },
    {
     "name": "stderr",
     "output_type": "stream",
     "text": [
      "root        : ERROR    20080920{\"retCode\": -1, \"retMsg\": \"No Data Returned\"}\n"
     ]
    },
    {
     "name": "stdout",
     "output_type": "stream",
     "text": [
      "20080919  done\n",
      "20080920  nodata\n"
     ]
    },
    {
     "name": "stderr",
     "output_type": "stream",
     "text": [
      "root        : ERROR    20080921{\"retCode\": -1, \"retMsg\": \"No Data Returned\"}\n"
     ]
    },
    {
     "name": "stdout",
     "output_type": "stream",
     "text": [
      "20080921  nodata\n",
      "20080922  done\n",
      "20080923  done\n",
      "20080924  done\n",
      "20080925  done\n"
     ]
    },
    {
     "name": "stderr",
     "output_type": "stream",
     "text": [
      "root        : ERROR    20080927{\"retCode\": -1, \"retMsg\": \"No Data Returned\"}\n"
     ]
    },
    {
     "name": "stdout",
     "output_type": "stream",
     "text": [
      "20080926  done\n",
      "20080927  nodata\n"
     ]
    },
    {
     "name": "stderr",
     "output_type": "stream",
     "text": [
      "root        : ERROR    20080928{\"retCode\": -1, \"retMsg\": \"No Data Returned\"}\n",
      "root        : ERROR    20080929{\"retCode\": -1, \"retMsg\": \"No Data Returned\"}\n"
     ]
    },
    {
     "name": "stdout",
     "output_type": "stream",
     "text": [
      "20080928  nodata\n",
      "20080929  nodata\n"
     ]
    },
    {
     "name": "stderr",
     "output_type": "stream",
     "text": [
      "root        : ERROR    20080930{\"retCode\": -1, \"retMsg\": \"No Data Returned\"}\n",
      "root        : ERROR    20081001{\"retCode\": -1, \"retMsg\": \"No Data Returned\"}\n"
     ]
    },
    {
     "name": "stdout",
     "output_type": "stream",
     "text": [
      "20080930  nodata\n",
      "20081001  nodata\n"
     ]
    },
    {
     "name": "stderr",
     "output_type": "stream",
     "text": [
      "root        : ERROR    20081002{\"retCode\": -1, \"retMsg\": \"No Data Returned\"}\n",
      "root        : ERROR    20081003{\"retCode\": -1, \"retMsg\": \"No Data Returned\"}\n"
     ]
    },
    {
     "name": "stdout",
     "output_type": "stream",
     "text": [
      "20081002  nodata\n",
      "20081003  nodata\n"
     ]
    },
    {
     "name": "stderr",
     "output_type": "stream",
     "text": [
      "root        : ERROR    20081004{\"retCode\": -1, \"retMsg\": \"No Data Returned\"}\n",
      "root        : ERROR    20081005{\"retCode\": -1, \"retMsg\": \"No Data Returned\"}\n"
     ]
    },
    {
     "name": "stdout",
     "output_type": "stream",
     "text": [
      "20081004  nodata\n",
      "20081005  nodata\n",
      "20081006  done\n",
      "20081007  done\n",
      "20081008  done\n",
      "20081009  done\n"
     ]
    },
    {
     "name": "stderr",
     "output_type": "stream",
     "text": [
      "root        : ERROR    20081011{\"retCode\": -1, \"retMsg\": \"No Data Returned\"}\n"
     ]
    },
    {
     "name": "stdout",
     "output_type": "stream",
     "text": [
      "20081010  done\n",
      "20081011  nodata\n"
     ]
    },
    {
     "name": "stderr",
     "output_type": "stream",
     "text": [
      "root        : ERROR    20081012{\"retCode\": -1, \"retMsg\": \"No Data Returned\"}\n"
     ]
    },
    {
     "name": "stdout",
     "output_type": "stream",
     "text": [
      "20081012  nodata\n",
      "20081013  done\n",
      "20081014  done\n",
      "20081015  done\n",
      "20081016  done\n"
     ]
    },
    {
     "name": "stderr",
     "output_type": "stream",
     "text": [
      "root        : ERROR    20081018{\"retCode\": -1, \"retMsg\": \"No Data Returned\"}\n"
     ]
    },
    {
     "name": "stdout",
     "output_type": "stream",
     "text": [
      "20081017  done\n",
      "20081018  nodata\n"
     ]
    },
    {
     "name": "stderr",
     "output_type": "stream",
     "text": [
      "root        : ERROR    20081019{\"retCode\": -1, \"retMsg\": \"No Data Returned\"}\n"
     ]
    },
    {
     "name": "stdout",
     "output_type": "stream",
     "text": [
      "20081019  nodata\n",
      "20081020  done\n",
      "20081021  done\n",
      "20081022  done\n",
      "20081023  done\n"
     ]
    },
    {
     "name": "stderr",
     "output_type": "stream",
     "text": [
      "root        : ERROR    20081025{\"retCode\": -1, \"retMsg\": \"No Data Returned\"}\n"
     ]
    },
    {
     "name": "stdout",
     "output_type": "stream",
     "text": [
      "20081024  done\n",
      "20081025  nodata\n"
     ]
    },
    {
     "name": "stderr",
     "output_type": "stream",
     "text": [
      "root        : ERROR    20081026{\"retCode\": -1, \"retMsg\": \"No Data Returned\"}\n"
     ]
    },
    {
     "name": "stdout",
     "output_type": "stream",
     "text": [
      "20081026  nodata\n",
      "20081027  done\n",
      "20081028  done\n",
      "20081029  done\n",
      "20081030  done\n"
     ]
    },
    {
     "name": "stderr",
     "output_type": "stream",
     "text": [
      "root        : ERROR    20081101{\"retCode\": -1, \"retMsg\": \"No Data Returned\"}\n"
     ]
    },
    {
     "name": "stdout",
     "output_type": "stream",
     "text": [
      "20081031  done\n",
      "20081101  nodata\n"
     ]
    },
    {
     "name": "stderr",
     "output_type": "stream",
     "text": [
      "root        : ERROR    20081102{\"retCode\": -1, \"retMsg\": \"No Data Returned\"}\n"
     ]
    },
    {
     "name": "stdout",
     "output_type": "stream",
     "text": [
      "20081102  nodata\n",
      "20081103  done\n",
      "20081104  done\n",
      "20081105  done\n",
      "20081106  done\n"
     ]
    },
    {
     "name": "stderr",
     "output_type": "stream",
     "text": [
      "root        : ERROR    20081108{\"retCode\": -1, \"retMsg\": \"No Data Returned\"}\n"
     ]
    },
    {
     "name": "stdout",
     "output_type": "stream",
     "text": [
      "20081107  done\n",
      "20081108  nodata\n"
     ]
    },
    {
     "name": "stderr",
     "output_type": "stream",
     "text": [
      "root        : ERROR    20081109{\"retCode\": -1, \"retMsg\": \"No Data Returned\"}\n"
     ]
    },
    {
     "name": "stdout",
     "output_type": "stream",
     "text": [
      "20081109  nodata\n",
      "20081110  done\n",
      "20081111  done\n",
      "20081112  done\n",
      "20081113  done\n"
     ]
    },
    {
     "name": "stderr",
     "output_type": "stream",
     "text": [
      "root        : ERROR    20081115{\"retCode\": -1, \"retMsg\": \"No Data Returned\"}\n"
     ]
    },
    {
     "name": "stdout",
     "output_type": "stream",
     "text": [
      "20081114  done\n",
      "20081115  nodata\n"
     ]
    },
    {
     "name": "stderr",
     "output_type": "stream",
     "text": [
      "root        : ERROR    20081116{\"retCode\": -1, \"retMsg\": \"No Data Returned\"}\n"
     ]
    },
    {
     "name": "stdout",
     "output_type": "stream",
     "text": [
      "20081116  nodata\n",
      "20081117  done\n",
      "20081118  done\n",
      "20081119  done\n",
      "20081120  done\n"
     ]
    },
    {
     "name": "stderr",
     "output_type": "stream",
     "text": [
      "root        : ERROR    20081122{\"retCode\": -1, \"retMsg\": \"No Data Returned\"}\n"
     ]
    },
    {
     "name": "stdout",
     "output_type": "stream",
     "text": [
      "20081121  done\n",
      "20081122  nodata\n"
     ]
    },
    {
     "name": "stderr",
     "output_type": "stream",
     "text": [
      "root        : ERROR    20081123{\"retCode\": -1, \"retMsg\": \"No Data Returned\"}\n"
     ]
    },
    {
     "name": "stdout",
     "output_type": "stream",
     "text": [
      "20081123  nodata\n",
      "20081124  done\n",
      "20081125  done\n",
      "20081126  done\n",
      "20081127  done\n"
     ]
    },
    {
     "name": "stderr",
     "output_type": "stream",
     "text": [
      "root        : ERROR    20081129{\"retCode\": -1, \"retMsg\": \"No Data Returned\"}\n"
     ]
    },
    {
     "name": "stdout",
     "output_type": "stream",
     "text": [
      "20081128  done\n",
      "20081129  nodata\n"
     ]
    },
    {
     "name": "stderr",
     "output_type": "stream",
     "text": [
      "root        : ERROR    20081130{\"retCode\": -1, \"retMsg\": \"No Data Returned\"}\n"
     ]
    },
    {
     "name": "stdout",
     "output_type": "stream",
     "text": [
      "20081130  nodata\n",
      "20081201  done\n",
      "20081202  done\n",
      "20081203  done\n",
      "20081204  done\n"
     ]
    },
    {
     "name": "stderr",
     "output_type": "stream",
     "text": [
      "root        : ERROR    20081206{\"retCode\": -1, \"retMsg\": \"No Data Returned\"}\n"
     ]
    },
    {
     "name": "stdout",
     "output_type": "stream",
     "text": [
      "20081205  done\n",
      "20081206  nodata\n"
     ]
    },
    {
     "name": "stderr",
     "output_type": "stream",
     "text": [
      "root        : ERROR    20081207{\"retCode\": -1, \"retMsg\": \"No Data Returned\"}\n"
     ]
    },
    {
     "name": "stdout",
     "output_type": "stream",
     "text": [
      "20081207  nodata\n",
      "20081208  done\n",
      "20081209  done\n",
      "20081210  done\n",
      "20081211  done\n"
     ]
    },
    {
     "name": "stderr",
     "output_type": "stream",
     "text": [
      "root        : ERROR    20081213{\"retCode\": -1, \"retMsg\": \"No Data Returned\"}\n"
     ]
    },
    {
     "name": "stdout",
     "output_type": "stream",
     "text": [
      "20081212  done\n",
      "20081213  nodata\n"
     ]
    },
    {
     "name": "stderr",
     "output_type": "stream",
     "text": [
      "root        : ERROR    20081214{\"retCode\": -1, \"retMsg\": \"No Data Returned\"}\n"
     ]
    },
    {
     "name": "stdout",
     "output_type": "stream",
     "text": [
      "20081214  nodata\n",
      "20081215  done\n",
      "20081216  done\n",
      "20081217  done\n",
      "20081218  done\n"
     ]
    },
    {
     "name": "stderr",
     "output_type": "stream",
     "text": [
      "root        : ERROR    20081220{\"retCode\": -1, \"retMsg\": \"No Data Returned\"}\n"
     ]
    },
    {
     "name": "stdout",
     "output_type": "stream",
     "text": [
      "20081219  done\n",
      "20081220  nodata\n"
     ]
    },
    {
     "name": "stderr",
     "output_type": "stream",
     "text": [
      "root        : ERROR    20081221{\"retCode\": -1, \"retMsg\": \"No Data Returned\"}\n"
     ]
    },
    {
     "name": "stdout",
     "output_type": "stream",
     "text": [
      "20081221  nodata\n",
      "20081222  done\n",
      "20081223  done\n",
      "20081224  done\n",
      "20081225  done\n"
     ]
    },
    {
     "name": "stderr",
     "output_type": "stream",
     "text": [
      "root        : ERROR    20081227{\"retCode\": -1, \"retMsg\": \"No Data Returned\"}\n"
     ]
    },
    {
     "name": "stdout",
     "output_type": "stream",
     "text": [
      "20081226  done\n",
      "20081227  nodata\n"
     ]
    },
    {
     "name": "stderr",
     "output_type": "stream",
     "text": [
      "root        : ERROR    20081228{\"retCode\": -1, \"retMsg\": \"No Data Returned\"}\n"
     ]
    },
    {
     "name": "stdout",
     "output_type": "stream",
     "text": [
      "20081228  nodata\n",
      "20081229  done\n",
      "20081230  done\n"
     ]
    },
    {
     "name": "stderr",
     "output_type": "stream",
     "text": [
      "root        : ERROR    20090101{\"retCode\": -1, \"retMsg\": \"No Data Returned\"}\n"
     ]
    },
    {
     "name": "stdout",
     "output_type": "stream",
     "text": [
      "20081231  done\n",
      "20090101  nodata\n"
     ]
    },
    {
     "name": "stderr",
     "output_type": "stream",
     "text": [
      "root        : ERROR    20090102{\"retCode\": -1, \"retMsg\": \"No Data Returned\"}\n",
      "root        : ERROR    20090103{\"retCode\": -1, \"retMsg\": \"No Data Returned\"}\n"
     ]
    },
    {
     "name": "stdout",
     "output_type": "stream",
     "text": [
      "20090102  nodata\n",
      "20090103  nodata\n"
     ]
    },
    {
     "name": "stderr",
     "output_type": "stream",
     "text": [
      "root        : ERROR    20090104{\"retCode\": -1, \"retMsg\": \"No Data Returned\"}\n"
     ]
    },
    {
     "name": "stdout",
     "output_type": "stream",
     "text": [
      "20090104  nodata\n",
      "20090105  done\n",
      "20090106  done\n",
      "20090107  done\n",
      "20090108  done\n"
     ]
    },
    {
     "name": "stderr",
     "output_type": "stream",
     "text": [
      "root        : ERROR    20090110{\"retCode\": -1, \"retMsg\": \"No Data Returned\"}\n"
     ]
    },
    {
     "name": "stdout",
     "output_type": "stream",
     "text": [
      "20090109  done\n",
      "20090110  nodata\n"
     ]
    },
    {
     "name": "stderr",
     "output_type": "stream",
     "text": [
      "root        : ERROR    20090111{\"retCode\": -1, \"retMsg\": \"No Data Returned\"}\n"
     ]
    },
    {
     "name": "stdout",
     "output_type": "stream",
     "text": [
      "20090111  nodata\n",
      "20090112  done\n",
      "20090113  done\n",
      "20090114  done\n",
      "20090115  done\n"
     ]
    },
    {
     "name": "stderr",
     "output_type": "stream",
     "text": [
      "root        : ERROR    20090117{\"retCode\": -1, \"retMsg\": \"No Data Returned\"}\n"
     ]
    },
    {
     "name": "stdout",
     "output_type": "stream",
     "text": [
      "20090116  done\n",
      "20090117  nodata\n"
     ]
    },
    {
     "name": "stderr",
     "output_type": "stream",
     "text": [
      "root        : ERROR    20090118{\"retCode\": -1, \"retMsg\": \"No Data Returned\"}\n"
     ]
    },
    {
     "name": "stdout",
     "output_type": "stream",
     "text": [
      "20090118  nodata\n",
      "20090119  done\n",
      "20090120  done\n",
      "20090121  done\n",
      "20090122  done\n",
      "20090123  done\n"
     ]
    },
    {
     "name": "stderr",
     "output_type": "stream",
     "text": [
      "root        : ERROR    20090124{\"retCode\": -1, \"retMsg\": \"No Data Returned\"}\n",
      "root        : ERROR    20090125{\"retCode\": -1, \"retMsg\": \"No Data Returned\"}\n"
     ]
    },
    {
     "name": "stdout",
     "output_type": "stream",
     "text": [
      "20090124  nodata\n",
      "20090125  nodata\n"
     ]
    },
    {
     "name": "stderr",
     "output_type": "stream",
     "text": [
      "root        : ERROR    20090126{\"retCode\": -1, \"retMsg\": \"No Data Returned\"}\n",
      "root        : ERROR    20090127{\"retCode\": -1, \"retMsg\": \"No Data Returned\"}\n"
     ]
    },
    {
     "name": "stdout",
     "output_type": "stream",
     "text": [
      "20090126  nodata\n",
      "20090127  nodata\n"
     ]
    },
    {
     "name": "stderr",
     "output_type": "stream",
     "text": [
      "root        : ERROR    20090128{\"retCode\": -1, \"retMsg\": \"No Data Returned\"}\n",
      "root        : ERROR    20090129{\"retCode\": -1, \"retMsg\": \"No Data Returned\"}\n"
     ]
    },
    {
     "name": "stdout",
     "output_type": "stream",
     "text": [
      "20090128  nodata\n",
      "20090129  nodata\n"
     ]
    },
    {
     "name": "stderr",
     "output_type": "stream",
     "text": [
      "root        : ERROR    20090130{\"retCode\": -1, \"retMsg\": \"No Data Returned\"}\n",
      "root        : ERROR    20090131{\"retCode\": -1, \"retMsg\": \"No Data Returned\"}\n"
     ]
    },
    {
     "name": "stdout",
     "output_type": "stream",
     "text": [
      "20090130  nodata\n",
      "20090131  nodata\n"
     ]
    },
    {
     "name": "stderr",
     "output_type": "stream",
     "text": [
      "root        : ERROR    20090201{\"retCode\": -1, \"retMsg\": \"No Data Returned\"}\n"
     ]
    },
    {
     "name": "stdout",
     "output_type": "stream",
     "text": [
      "20090201  nodata\n",
      "20090202  done\n",
      "20090203  done\n",
      "20090204  done\n",
      "20090205  done\n"
     ]
    },
    {
     "name": "stderr",
     "output_type": "stream",
     "text": [
      "root        : ERROR    20090207{\"retCode\": -1, \"retMsg\": \"No Data Returned\"}\n"
     ]
    },
    {
     "name": "stdout",
     "output_type": "stream",
     "text": [
      "20090206  done\n",
      "20090207  nodata\n"
     ]
    },
    {
     "name": "stderr",
     "output_type": "stream",
     "text": [
      "root        : ERROR    20090208{\"retCode\": -1, \"retMsg\": \"No Data Returned\"}\n"
     ]
    },
    {
     "name": "stdout",
     "output_type": "stream",
     "text": [
      "20090208  nodata\n",
      "20090209  done\n",
      "20090210  done\n",
      "20090211  done\n",
      "20090212  done\n"
     ]
    },
    {
     "name": "stderr",
     "output_type": "stream",
     "text": [
      "root        : ERROR    20090214{\"retCode\": -1, \"retMsg\": \"No Data Returned\"}\n"
     ]
    },
    {
     "name": "stdout",
     "output_type": "stream",
     "text": [
      "20090213  done\n",
      "20090214  nodata\n"
     ]
    },
    {
     "name": "stderr",
     "output_type": "stream",
     "text": [
      "root        : ERROR    20090215{\"retCode\": -1, \"retMsg\": \"No Data Returned\"}\n"
     ]
    },
    {
     "name": "stdout",
     "output_type": "stream",
     "text": [
      "20090215  nodata\n",
      "20090216  done\n",
      "20090217  done\n",
      "20090218  done\n",
      "20090219  done\n"
     ]
    },
    {
     "name": "stderr",
     "output_type": "stream",
     "text": [
      "root        : ERROR    20090221{\"retCode\": -1, \"retMsg\": \"No Data Returned\"}\n"
     ]
    },
    {
     "name": "stdout",
     "output_type": "stream",
     "text": [
      "20090220  done\n",
      "20090221  nodata\n"
     ]
    },
    {
     "name": "stderr",
     "output_type": "stream",
     "text": [
      "root        : ERROR    20090222{\"retCode\": -1, \"retMsg\": \"No Data Returned\"}\n"
     ]
    },
    {
     "name": "stdout",
     "output_type": "stream",
     "text": [
      "20090222  nodata\n",
      "20090223  done\n",
      "20090224  done\n",
      "20090225  done\n",
      "20090226  done\n"
     ]
    },
    {
     "name": "stderr",
     "output_type": "stream",
     "text": [
      "root        : ERROR    20090228{\"retCode\": -1, \"retMsg\": \"No Data Returned\"}\n"
     ]
    },
    {
     "name": "stdout",
     "output_type": "stream",
     "text": [
      "20090227  done\n",
      "20090228  nodata\n"
     ]
    },
    {
     "name": "stderr",
     "output_type": "stream",
     "text": [
      "root        : ERROR    20090301{\"retCode\": -1, \"retMsg\": \"No Data Returned\"}\n"
     ]
    },
    {
     "name": "stdout",
     "output_type": "stream",
     "text": [
      "20090301  nodata\n",
      "20090302  done\n",
      "20090303  done\n",
      "20090304  done\n",
      "20090305  done\n"
     ]
    },
    {
     "name": "stderr",
     "output_type": "stream",
     "text": [
      "root        : ERROR    20090307{\"retCode\": -1, \"retMsg\": \"No Data Returned\"}\n"
     ]
    },
    {
     "name": "stdout",
     "output_type": "stream",
     "text": [
      "20090306  done\n",
      "20090307  nodata\n"
     ]
    },
    {
     "name": "stderr",
     "output_type": "stream",
     "text": [
      "root        : ERROR    20090308{\"retCode\": -1, \"retMsg\": \"No Data Returned\"}\n"
     ]
    },
    {
     "name": "stdout",
     "output_type": "stream",
     "text": [
      "20090308  nodata\n",
      "20090309  done\n",
      "20090310  done\n",
      "20090311  done\n",
      "20090312  done\n"
     ]
    },
    {
     "name": "stderr",
     "output_type": "stream",
     "text": [
      "root        : ERROR    20090314{\"retCode\": -1, \"retMsg\": \"No Data Returned\"}\n"
     ]
    },
    {
     "name": "stdout",
     "output_type": "stream",
     "text": [
      "20090313  done\n",
      "20090314  nodata\n"
     ]
    },
    {
     "name": "stderr",
     "output_type": "stream",
     "text": [
      "root        : ERROR    20090315{\"retCode\": -1, \"retMsg\": \"No Data Returned\"}\n"
     ]
    },
    {
     "name": "stdout",
     "output_type": "stream",
     "text": [
      "20090315  nodata\n",
      "20090316  done\n",
      "20090317  done\n",
      "20090318  done\n",
      "20090319  done\n"
     ]
    },
    {
     "name": "stderr",
     "output_type": "stream",
     "text": [
      "root        : ERROR    20090321{\"retCode\": -1, \"retMsg\": \"No Data Returned\"}\n"
     ]
    },
    {
     "name": "stdout",
     "output_type": "stream",
     "text": [
      "20090320  done\n",
      "20090321  nodata\n"
     ]
    },
    {
     "name": "stderr",
     "output_type": "stream",
     "text": [
      "root        : ERROR    20090322{\"retCode\": -1, \"retMsg\": \"No Data Returned\"}\n"
     ]
    },
    {
     "name": "stdout",
     "output_type": "stream",
     "text": [
      "20090322  nodata\n",
      "20090323  done\n",
      "20090324  done\n",
      "20090325  done\n",
      "20090326  done\n"
     ]
    },
    {
     "name": "stderr",
     "output_type": "stream",
     "text": [
      "root        : ERROR    20090328{\"retCode\": -1, \"retMsg\": \"No Data Returned\"}\n"
     ]
    },
    {
     "name": "stdout",
     "output_type": "stream",
     "text": [
      "20090327  done\n",
      "20090328  nodata\n"
     ]
    },
    {
     "name": "stderr",
     "output_type": "stream",
     "text": [
      "root        : ERROR    20090329{\"retCode\": -1, \"retMsg\": \"No Data Returned\"}\n"
     ]
    },
    {
     "name": "stdout",
     "output_type": "stream",
     "text": [
      "20090329  nodata\n",
      "20090330  done\n",
      "20090331  done\n",
      "20090401  done\n",
      "20090402  done\n"
     ]
    },
    {
     "name": "stderr",
     "output_type": "stream",
     "text": [
      "root        : ERROR    20090404{\"retCode\": -1, \"retMsg\": \"No Data Returned\"}\n"
     ]
    },
    {
     "name": "stdout",
     "output_type": "stream",
     "text": [
      "20090403  done\n",
      "20090404  nodata\n"
     ]
    },
    {
     "name": "stderr",
     "output_type": "stream",
     "text": [
      "root        : ERROR    20090405{\"retCode\": -1, \"retMsg\": \"No Data Returned\"}\n",
      "root        : ERROR    20090406{\"retCode\": -1, \"retMsg\": \"No Data Returned\"}\n"
     ]
    },
    {
     "name": "stdout",
     "output_type": "stream",
     "text": [
      "20090405  nodata\n",
      "20090406  nodata\n",
      "20090407  done\n",
      "20090408  done\n",
      "20090409  done\n"
     ]
    },
    {
     "name": "stderr",
     "output_type": "stream",
     "text": [
      "root        : ERROR    20090411{\"retCode\": -1, \"retMsg\": \"No Data Returned\"}\n"
     ]
    },
    {
     "name": "stdout",
     "output_type": "stream",
     "text": [
      "20090410  done\n",
      "20090411  nodata\n"
     ]
    },
    {
     "name": "stderr",
     "output_type": "stream",
     "text": [
      "root        : ERROR    20090412{\"retCode\": -1, \"retMsg\": \"No Data Returned\"}\n"
     ]
    },
    {
     "name": "stdout",
     "output_type": "stream",
     "text": [
      "20090412  nodata\n",
      "20090413  done\n",
      "20090414  done\n",
      "20090415  done\n",
      "20090416  done\n"
     ]
    },
    {
     "name": "stderr",
     "output_type": "stream",
     "text": [
      "root        : ERROR    20090418{\"retCode\": -1, \"retMsg\": \"No Data Returned\"}\n"
     ]
    },
    {
     "name": "stdout",
     "output_type": "stream",
     "text": [
      "20090417  done\n",
      "20090418  nodata\n"
     ]
    },
    {
     "name": "stderr",
     "output_type": "stream",
     "text": [
      "root        : ERROR    20090419{\"retCode\": -1, \"retMsg\": \"No Data Returned\"}\n"
     ]
    },
    {
     "name": "stdout",
     "output_type": "stream",
     "text": [
      "20090419  nodata\n",
      "20090420  done\n",
      "20090421  done\n",
      "20090422  done\n",
      "20090423  done\n"
     ]
    },
    {
     "name": "stderr",
     "output_type": "stream",
     "text": [
      "root        : ERROR    20090425{\"retCode\": -1, \"retMsg\": \"No Data Returned\"}\n"
     ]
    },
    {
     "name": "stdout",
     "output_type": "stream",
     "text": [
      "20090424  done\n",
      "20090425  nodata\n"
     ]
    },
    {
     "name": "stderr",
     "output_type": "stream",
     "text": [
      "root        : ERROR    20090426{\"retCode\": -1, \"retMsg\": \"No Data Returned\"}\n"
     ]
    },
    {
     "name": "stdout",
     "output_type": "stream",
     "text": [
      "20090426  nodata\n",
      "20090427  done\n",
      "20090428  done\n",
      "20090429  done\n"
     ]
    },
    {
     "name": "stderr",
     "output_type": "stream",
     "text": [
      "root        : ERROR    20090501{\"retCode\": -1, \"retMsg\": \"No Data Returned\"}\n"
     ]
    },
    {
     "name": "stdout",
     "output_type": "stream",
     "text": [
      "20090430  done\n",
      "20090501  nodata\n"
     ]
    },
    {
     "name": "stderr",
     "output_type": "stream",
     "text": [
      "root        : ERROR    20090502{\"retCode\": -1, \"retMsg\": \"No Data Returned\"}\n",
      "root        : ERROR    20090503{\"retCode\": -1, \"retMsg\": \"No Data Returned\"}\n"
     ]
    },
    {
     "name": "stdout",
     "output_type": "stream",
     "text": [
      "20090502  nodata\n",
      "20090503  nodata\n",
      "20090504  done\n",
      "20090505  done\n",
      "20090506  done\n",
      "20090507  done\n"
     ]
    },
    {
     "name": "stderr",
     "output_type": "stream",
     "text": [
      "root        : ERROR    20090509{\"retCode\": -1, \"retMsg\": \"No Data Returned\"}\n"
     ]
    },
    {
     "name": "stdout",
     "output_type": "stream",
     "text": [
      "20090508  done\n",
      "20090509  nodata\n"
     ]
    },
    {
     "name": "stderr",
     "output_type": "stream",
     "text": [
      "root        : ERROR    20090510{\"retCode\": -1, \"retMsg\": \"No Data Returned\"}\n"
     ]
    },
    {
     "name": "stdout",
     "output_type": "stream",
     "text": [
      "20090510  nodata\n",
      "20090511  done\n",
      "20090512  done\n",
      "20090513  done\n",
      "20090514  done\n"
     ]
    },
    {
     "name": "stderr",
     "output_type": "stream",
     "text": [
      "root        : ERROR    20090516{\"retCode\": -1, \"retMsg\": \"No Data Returned\"}\n"
     ]
    },
    {
     "name": "stdout",
     "output_type": "stream",
     "text": [
      "20090515  done\n",
      "20090516  nodata\n"
     ]
    },
    {
     "name": "stderr",
     "output_type": "stream",
     "text": [
      "root        : ERROR    20090517{\"retCode\": -1, \"retMsg\": \"No Data Returned\"}\n"
     ]
    },
    {
     "name": "stdout",
     "output_type": "stream",
     "text": [
      "20090517  nodata\n",
      "20090518  done\n",
      "20090519  done\n",
      "20090520  done\n",
      "20090521  done\n"
     ]
    },
    {
     "name": "stderr",
     "output_type": "stream",
     "text": [
      "root        : ERROR    20090523{\"retCode\": -1, \"retMsg\": \"No Data Returned\"}\n"
     ]
    },
    {
     "name": "stdout",
     "output_type": "stream",
     "text": [
      "20090522  done\n",
      "20090523  nodata\n"
     ]
    },
    {
     "name": "stderr",
     "output_type": "stream",
     "text": [
      "root        : ERROR    20090524{\"retCode\": -1, \"retMsg\": \"No Data Returned\"}\n"
     ]
    },
    {
     "name": "stdout",
     "output_type": "stream",
     "text": [
      "20090524  nodata\n",
      "20090525  done\n",
      "20090526  done\n"
     ]
    },
    {
     "name": "stderr",
     "output_type": "stream",
     "text": [
      "root        : ERROR    20090528{\"retCode\": -1, \"retMsg\": \"No Data Returned\"}\n"
     ]
    },
    {
     "name": "stdout",
     "output_type": "stream",
     "text": [
      "20090527  done\n",
      "20090528  nodata\n"
     ]
    },
    {
     "name": "stderr",
     "output_type": "stream",
     "text": [
      "root        : ERROR    20090529{\"retCode\": -1, \"retMsg\": \"No Data Returned\"}\n",
      "root        : ERROR    20090530{\"retCode\": -1, \"retMsg\": \"No Data Returned\"}\n"
     ]
    },
    {
     "name": "stdout",
     "output_type": "stream",
     "text": [
      "20090529  nodata\n",
      "20090530  nodata\n"
     ]
    },
    {
     "name": "stderr",
     "output_type": "stream",
     "text": [
      "root        : ERROR    20090531{\"retCode\": -1, \"retMsg\": \"No Data Returned\"}\n"
     ]
    },
    {
     "name": "stdout",
     "output_type": "stream",
     "text": [
      "20090531  nodata\n",
      "20090601  done\n",
      "20090602  done\n",
      "20090603  done\n",
      "20090604  done\n"
     ]
    },
    {
     "name": "stderr",
     "output_type": "stream",
     "text": [
      "root        : ERROR    20090606{\"retCode\": -1, \"retMsg\": \"No Data Returned\"}\n"
     ]
    },
    {
     "name": "stdout",
     "output_type": "stream",
     "text": [
      "20090605  done\n",
      "20090606  nodata\n"
     ]
    },
    {
     "name": "stderr",
     "output_type": "stream",
     "text": [
      "root        : ERROR    20090607{\"retCode\": -1, \"retMsg\": \"No Data Returned\"}\n"
     ]
    },
    {
     "name": "stdout",
     "output_type": "stream",
     "text": [
      "20090607  nodata\n",
      "20090608  done\n",
      "20090609  done\n",
      "20090610  done\n",
      "20090611  done\n"
     ]
    },
    {
     "name": "stderr",
     "output_type": "stream",
     "text": [
      "root        : ERROR    20090613{\"retCode\": -1, \"retMsg\": \"No Data Returned\"}\n"
     ]
    },
    {
     "name": "stdout",
     "output_type": "stream",
     "text": [
      "20090612  done\n",
      "20090613  nodata\n"
     ]
    },
    {
     "name": "stderr",
     "output_type": "stream",
     "text": [
      "root        : ERROR    20090614{\"retCode\": -1, \"retMsg\": \"No Data Returned\"}\n"
     ]
    },
    {
     "name": "stdout",
     "output_type": "stream",
     "text": [
      "20090614  nodata\n",
      "20090615  done\n",
      "20090616  done\n",
      "20090617  done\n",
      "20090618  done\n"
     ]
    },
    {
     "name": "stderr",
     "output_type": "stream",
     "text": [
      "root        : ERROR    20090620{\"retCode\": -1, \"retMsg\": \"No Data Returned\"}\n"
     ]
    },
    {
     "name": "stdout",
     "output_type": "stream",
     "text": [
      "20090619  done\n",
      "20090620  nodata\n"
     ]
    },
    {
     "name": "stderr",
     "output_type": "stream",
     "text": [
      "root        : ERROR    20090621{\"retCode\": -1, \"retMsg\": \"No Data Returned\"}\n"
     ]
    },
    {
     "name": "stdout",
     "output_type": "stream",
     "text": [
      "20090621  nodata\n",
      "20090622  done\n",
      "20090623  done\n",
      "20090624  done\n",
      "20090625  done\n"
     ]
    },
    {
     "name": "stderr",
     "output_type": "stream",
     "text": [
      "root        : ERROR    20090627{\"retCode\": -1, \"retMsg\": \"No Data Returned\"}\n"
     ]
    },
    {
     "name": "stdout",
     "output_type": "stream",
     "text": [
      "20090626  done\n",
      "20090627  nodata\n"
     ]
    },
    {
     "name": "stderr",
     "output_type": "stream",
     "text": [
      "root        : ERROR    20090628{\"retCode\": -1, \"retMsg\": \"No Data Returned\"}\n"
     ]
    },
    {
     "name": "stdout",
     "output_type": "stream",
     "text": [
      "20090628  nodata\n",
      "20090629  done\n",
      "20090630  done\n",
      "20090701  done\n",
      "20090702  done\n"
     ]
    },
    {
     "name": "stderr",
     "output_type": "stream",
     "text": [
      "root        : ERROR    20090704{\"retCode\": -1, \"retMsg\": \"No Data Returned\"}\n"
     ]
    },
    {
     "name": "stdout",
     "output_type": "stream",
     "text": [
      "20090703  done\n",
      "20090704  nodata\n"
     ]
    },
    {
     "name": "stderr",
     "output_type": "stream",
     "text": [
      "root        : ERROR    20090705{\"retCode\": -1, \"retMsg\": \"No Data Returned\"}\n"
     ]
    },
    {
     "name": "stdout",
     "output_type": "stream",
     "text": [
      "20090705  nodata\n",
      "20090706  done\n",
      "20090707  done\n",
      "20090708  done\n",
      "20090709  done\n"
     ]
    },
    {
     "name": "stderr",
     "output_type": "stream",
     "text": [
      "root        : ERROR    20090711{\"retCode\": -1, \"retMsg\": \"No Data Returned\"}\n"
     ]
    },
    {
     "name": "stdout",
     "output_type": "stream",
     "text": [
      "20090710  done\n",
      "20090711  nodata\n"
     ]
    },
    {
     "name": "stderr",
     "output_type": "stream",
     "text": [
      "root        : ERROR    20090712{\"retCode\": -1, \"retMsg\": \"No Data Returned\"}\n"
     ]
    },
    {
     "name": "stdout",
     "output_type": "stream",
     "text": [
      "20090712  nodata\n",
      "20090713  done\n",
      "20090714  done\n",
      "20090715  done\n",
      "20090716  done\n"
     ]
    },
    {
     "name": "stderr",
     "output_type": "stream",
     "text": [
      "root        : ERROR    20090718{\"retCode\": -1, \"retMsg\": \"No Data Returned\"}\n"
     ]
    },
    {
     "name": "stdout",
     "output_type": "stream",
     "text": [
      "20090717  done\n",
      "20090718  nodata\n"
     ]
    },
    {
     "name": "stderr",
     "output_type": "stream",
     "text": [
      "root        : ERROR    20090719{\"retCode\": -1, \"retMsg\": \"No Data Returned\"}\n"
     ]
    },
    {
     "name": "stdout",
     "output_type": "stream",
     "text": [
      "20090719  nodata\n",
      "20090720  done\n",
      "20090721  done\n",
      "20090722  done\n",
      "20090723  done\n"
     ]
    },
    {
     "name": "stderr",
     "output_type": "stream",
     "text": [
      "root        : ERROR    20090725{\"retCode\": -1, \"retMsg\": \"No Data Returned\"}\n"
     ]
    },
    {
     "name": "stdout",
     "output_type": "stream",
     "text": [
      "20090724  done\n",
      "20090725  nodata\n"
     ]
    },
    {
     "name": "stderr",
     "output_type": "stream",
     "text": [
      "root        : ERROR    20090726{\"retCode\": -1, \"retMsg\": \"No Data Returned\"}\n"
     ]
    },
    {
     "name": "stdout",
     "output_type": "stream",
     "text": [
      "20090726  nodata\n",
      "20090727  done\n",
      "20090728  done\n",
      "20090729  done\n",
      "20090730  done\n"
     ]
    },
    {
     "name": "stderr",
     "output_type": "stream",
     "text": [
      "root        : ERROR    20090801{\"retCode\": -1, \"retMsg\": \"No Data Returned\"}\n"
     ]
    },
    {
     "name": "stdout",
     "output_type": "stream",
     "text": [
      "20090731  done\n",
      "20090801  nodata\n"
     ]
    },
    {
     "name": "stderr",
     "output_type": "stream",
     "text": [
      "root        : ERROR    20090802{\"retCode\": -1, \"retMsg\": \"No Data Returned\"}\n"
     ]
    },
    {
     "name": "stdout",
     "output_type": "stream",
     "text": [
      "20090802  nodata\n",
      "20090803  done\n",
      "20090804  done\n",
      "20090805  done\n",
      "20090806  done\n"
     ]
    },
    {
     "name": "stderr",
     "output_type": "stream",
     "text": [
      "root        : ERROR    20090808{\"retCode\": -1, \"retMsg\": \"No Data Returned\"}\n"
     ]
    },
    {
     "name": "stdout",
     "output_type": "stream",
     "text": [
      "20090807  done\n",
      "20090808  nodata\n"
     ]
    },
    {
     "name": "stderr",
     "output_type": "stream",
     "text": [
      "root        : ERROR    20090809{\"retCode\": -1, \"retMsg\": \"No Data Returned\"}\n"
     ]
    },
    {
     "name": "stdout",
     "output_type": "stream",
     "text": [
      "20090809  nodata\n",
      "20090810  done\n",
      "20090811  done\n",
      "20090812  done\n",
      "20090813  done\n"
     ]
    },
    {
     "name": "stderr",
     "output_type": "stream",
     "text": [
      "root        : ERROR    20090815{\"retCode\": -1, \"retMsg\": \"No Data Returned\"}\n"
     ]
    },
    {
     "name": "stdout",
     "output_type": "stream",
     "text": [
      "20090814  done\n",
      "20090815  nodata\n"
     ]
    },
    {
     "name": "stderr",
     "output_type": "stream",
     "text": [
      "root        : ERROR    20090816{\"retCode\": -1, \"retMsg\": \"No Data Returned\"}\n"
     ]
    },
    {
     "name": "stdout",
     "output_type": "stream",
     "text": [
      "20090816  nodata\n",
      "20090817  done\n",
      "20090818  done\n",
      "20090819  done\n",
      "20090820  done\n"
     ]
    },
    {
     "name": "stderr",
     "output_type": "stream",
     "text": [
      "root        : ERROR    20090822{\"retCode\": -1, \"retMsg\": \"No Data Returned\"}\n"
     ]
    },
    {
     "name": "stdout",
     "output_type": "stream",
     "text": [
      "20090821  done\n",
      "20090822  nodata\n"
     ]
    },
    {
     "name": "stderr",
     "output_type": "stream",
     "text": [
      "root        : ERROR    20090823{\"retCode\": -1, \"retMsg\": \"No Data Returned\"}\n"
     ]
    },
    {
     "name": "stdout",
     "output_type": "stream",
     "text": [
      "20090823  nodata\n",
      "20090824  done\n",
      "20090825  done\n",
      "20090826  done\n",
      "20090827  done\n"
     ]
    },
    {
     "name": "stderr",
     "output_type": "stream",
     "text": [
      "root        : ERROR    20090829{\"retCode\": -1, \"retMsg\": \"No Data Returned\"}\n"
     ]
    },
    {
     "name": "stdout",
     "output_type": "stream",
     "text": [
      "20090828  done\n",
      "20090829  nodata\n"
     ]
    },
    {
     "name": "stderr",
     "output_type": "stream",
     "text": [
      "root        : ERROR    20090830{\"retCode\": -1, \"retMsg\": \"No Data Returned\"}\n"
     ]
    },
    {
     "name": "stdout",
     "output_type": "stream",
     "text": [
      "20090830  nodata\n",
      "20090831  done\n",
      "20090901  done\n",
      "20090902  done\n",
      "20090903  done\n"
     ]
    },
    {
     "name": "stderr",
     "output_type": "stream",
     "text": [
      "root        : ERROR    20090905{\"retCode\": -1, \"retMsg\": \"No Data Returned\"}\n"
     ]
    },
    {
     "name": "stdout",
     "output_type": "stream",
     "text": [
      "20090904  done\n",
      "20090905  nodata\n"
     ]
    },
    {
     "name": "stderr",
     "output_type": "stream",
     "text": [
      "root        : ERROR    20090906{\"retCode\": -1, \"retMsg\": \"No Data Returned\"}\n"
     ]
    },
    {
     "name": "stdout",
     "output_type": "stream",
     "text": [
      "20090906  nodata\n",
      "20090907  done\n",
      "20090908  done\n",
      "20090909  done\n",
      "20090910  done\n"
     ]
    },
    {
     "name": "stderr",
     "output_type": "stream",
     "text": [
      "root        : ERROR    20090912{\"retCode\": -1, \"retMsg\": \"No Data Returned\"}\n"
     ]
    },
    {
     "name": "stdout",
     "output_type": "stream",
     "text": [
      "20090911  done\n",
      "20090912  nodata\n"
     ]
    },
    {
     "name": "stderr",
     "output_type": "stream",
     "text": [
      "root        : ERROR    20090913{\"retCode\": -1, \"retMsg\": \"No Data Returned\"}\n"
     ]
    },
    {
     "name": "stdout",
     "output_type": "stream",
     "text": [
      "20090913  nodata\n",
      "20090914  done\n",
      "20090915  done\n",
      "20090916  done\n",
      "20090917  done\n"
     ]
    },
    {
     "name": "stderr",
     "output_type": "stream",
     "text": [
      "root        : ERROR    20090919{\"retCode\": -1, \"retMsg\": \"No Data Returned\"}\n"
     ]
    },
    {
     "name": "stdout",
     "output_type": "stream",
     "text": [
      "20090918  done\n",
      "20090919  nodata\n"
     ]
    },
    {
     "name": "stderr",
     "output_type": "stream",
     "text": [
      "root        : ERROR    20090920{\"retCode\": -1, \"retMsg\": \"No Data Returned\"}\n"
     ]
    },
    {
     "name": "stdout",
     "output_type": "stream",
     "text": [
      "20090920  nodata\n",
      "20090921  done\n",
      "20090922  done\n",
      "20090923  done\n",
      "20090924  done\n"
     ]
    },
    {
     "name": "stderr",
     "output_type": "stream",
     "text": [
      "root        : ERROR    20090926{\"retCode\": -1, \"retMsg\": \"No Data Returned\"}\n"
     ]
    },
    {
     "name": "stdout",
     "output_type": "stream",
     "text": [
      "20090925  done\n",
      "20090926  nodata\n"
     ]
    },
    {
     "name": "stderr",
     "output_type": "stream",
     "text": [
      "root        : ERROR    20090927{\"retCode\": -1, \"retMsg\": \"No Data Returned\"}\n"
     ]
    },
    {
     "name": "stdout",
     "output_type": "stream",
     "text": [
      "20090927  nodata\n",
      "20090928  done\n",
      "20090929  done\n"
     ]
    },
    {
     "name": "stderr",
     "output_type": "stream",
     "text": [
      "root        : ERROR    20091001{\"retCode\": -1, \"retMsg\": \"No Data Returned\"}\n"
     ]
    },
    {
     "name": "stdout",
     "output_type": "stream",
     "text": [
      "20090930  done\n",
      "20091001  nodata\n"
     ]
    },
    {
     "name": "stderr",
     "output_type": "stream",
     "text": [
      "root        : ERROR    20091002{\"retCode\": -1, \"retMsg\": \"No Data Returned\"}\n",
      "root        : ERROR    20091003{\"retCode\": -1, \"retMsg\": \"No Data Returned\"}\n"
     ]
    },
    {
     "name": "stdout",
     "output_type": "stream",
     "text": [
      "20091002  nodata\n",
      "20091003  nodata\n"
     ]
    },
    {
     "name": "stderr",
     "output_type": "stream",
     "text": [
      "root        : ERROR    20091004{\"retCode\": -1, \"retMsg\": \"No Data Returned\"}\n",
      "root        : ERROR    20091005{\"retCode\": -1, \"retMsg\": \"No Data Returned\"}\n"
     ]
    },
    {
     "name": "stdout",
     "output_type": "stream",
     "text": [
      "20091004  nodata\n",
      "20091005  nodata\n"
     ]
    },
    {
     "name": "stderr",
     "output_type": "stream",
     "text": [
      "root        : ERROR    20091006{\"retCode\": -1, \"retMsg\": \"No Data Returned\"}\n",
      "root        : ERROR    20091007{\"retCode\": -1, \"retMsg\": \"No Data Returned\"}\n"
     ]
    },
    {
     "name": "stdout",
     "output_type": "stream",
     "text": [
      "20091006  nodata\n",
      "20091007  nodata\n"
     ]
    },
    {
     "name": "stderr",
     "output_type": "stream",
     "text": [
      "root        : ERROR    20091008{\"retCode\": -1, \"retMsg\": \"No Data Returned\"}\n"
     ]
    },
    {
     "name": "stdout",
     "output_type": "stream",
     "text": [
      "20091008  nodata\n"
     ]
    },
    {
     "name": "stderr",
     "output_type": "stream",
     "text": [
      "root        : ERROR    20091010{\"retCode\": -1, \"retMsg\": \"No Data Returned\"}\n"
     ]
    },
    {
     "name": "stdout",
     "output_type": "stream",
     "text": [
      "20091009  done\n",
      "20091010  nodata\n"
     ]
    },
    {
     "name": "stderr",
     "output_type": "stream",
     "text": [
      "root        : ERROR    20091011{\"retCode\": -1, \"retMsg\": \"No Data Returned\"}\n"
     ]
    },
    {
     "name": "stdout",
     "output_type": "stream",
     "text": [
      "20091011  nodata\n",
      "20091012  done\n",
      "20091013  done\n",
      "20091014  done\n",
      "20091015  done\n"
     ]
    },
    {
     "name": "stderr",
     "output_type": "stream",
     "text": [
      "root        : ERROR    20091017{\"retCode\": -1, \"retMsg\": \"No Data Returned\"}\n"
     ]
    },
    {
     "name": "stdout",
     "output_type": "stream",
     "text": [
      "20091016  done\n",
      "20091017  nodata\n"
     ]
    },
    {
     "name": "stderr",
     "output_type": "stream",
     "text": [
      "root        : ERROR    20091018{\"retCode\": -1, \"retMsg\": \"No Data Returned\"}\n"
     ]
    },
    {
     "name": "stdout",
     "output_type": "stream",
     "text": [
      "20091018  nodata\n",
      "20091019  done\n",
      "20091020  done\n",
      "20091021  done\n",
      "20091022  done\n"
     ]
    },
    {
     "name": "stderr",
     "output_type": "stream",
     "text": [
      "root        : ERROR    20091024{\"retCode\": -1, \"retMsg\": \"No Data Returned\"}\n"
     ]
    },
    {
     "name": "stdout",
     "output_type": "stream",
     "text": [
      "20091023  done\n",
      "20091024  nodata\n"
     ]
    },
    {
     "name": "stderr",
     "output_type": "stream",
     "text": [
      "root        : ERROR    20091025{\"retCode\": -1, \"retMsg\": \"No Data Returned\"}\n"
     ]
    },
    {
     "name": "stdout",
     "output_type": "stream",
     "text": [
      "20091025  nodata\n",
      "20091026  done\n",
      "20091027  done\n",
      "20091028  done\n",
      "20091029  done\n"
     ]
    },
    {
     "name": "stderr",
     "output_type": "stream",
     "text": [
      "root        : ERROR    20091031{\"retCode\": -1, \"retMsg\": \"No Data Returned\"}\n"
     ]
    },
    {
     "name": "stdout",
     "output_type": "stream",
     "text": [
      "20091030  done\n",
      "20091031  nodata\n"
     ]
    },
    {
     "name": "stderr",
     "output_type": "stream",
     "text": [
      "root        : ERROR    20091101{\"retCode\": -1, \"retMsg\": \"No Data Returned\"}\n"
     ]
    },
    {
     "name": "stdout",
     "output_type": "stream",
     "text": [
      "20091101  nodata\n",
      "20091102  done\n",
      "20091103  done\n",
      "20091104  done\n",
      "20091105  done\n"
     ]
    },
    {
     "name": "stderr",
     "output_type": "stream",
     "text": [
      "root        : ERROR    20091107{\"retCode\": -1, \"retMsg\": \"No Data Returned\"}\n"
     ]
    },
    {
     "name": "stdout",
     "output_type": "stream",
     "text": [
      "20091106  done\n",
      "20091107  nodata\n"
     ]
    },
    {
     "name": "stderr",
     "output_type": "stream",
     "text": [
      "root        : ERROR    20091108{\"retCode\": -1, \"retMsg\": \"No Data Returned\"}\n"
     ]
    },
    {
     "name": "stdout",
     "output_type": "stream",
     "text": [
      "20091108  nodata\n",
      "20091109  done\n",
      "20091110  done\n",
      "20091111  done\n",
      "20091112  done\n"
     ]
    },
    {
     "name": "stderr",
     "output_type": "stream",
     "text": [
      "root        : ERROR    20091114{\"retCode\": -1, \"retMsg\": \"No Data Returned\"}\n"
     ]
    },
    {
     "name": "stdout",
     "output_type": "stream",
     "text": [
      "20091113  done\n",
      "20091114  nodata\n"
     ]
    },
    {
     "name": "stderr",
     "output_type": "stream",
     "text": [
      "root        : ERROR    20091115{\"retCode\": -1, \"retMsg\": \"No Data Returned\"}\n"
     ]
    },
    {
     "name": "stdout",
     "output_type": "stream",
     "text": [
      "20091115  nodata\n",
      "20091116  done\n",
      "20091117  done\n",
      "20091118  done\n",
      "20091119  done\n"
     ]
    },
    {
     "name": "stderr",
     "output_type": "stream",
     "text": [
      "root        : ERROR    20091121{\"retCode\": -1, \"retMsg\": \"No Data Returned\"}\n"
     ]
    },
    {
     "name": "stdout",
     "output_type": "stream",
     "text": [
      "20091120  done\n",
      "20091121  nodata\n"
     ]
    },
    {
     "name": "stderr",
     "output_type": "stream",
     "text": [
      "root        : ERROR    20091122{\"retCode\": -1, \"retMsg\": \"No Data Returned\"}\n"
     ]
    },
    {
     "name": "stdout",
     "output_type": "stream",
     "text": [
      "20091122  nodata\n",
      "20091123  done\n",
      "20091124  done\n",
      "20091125  done\n",
      "20091126  done\n"
     ]
    },
    {
     "name": "stderr",
     "output_type": "stream",
     "text": [
      "root        : ERROR    20091128{\"retCode\": -1, \"retMsg\": \"No Data Returned\"}\n"
     ]
    },
    {
     "name": "stdout",
     "output_type": "stream",
     "text": [
      "20091127  done\n",
      "20091128  nodata\n"
     ]
    },
    {
     "name": "stderr",
     "output_type": "stream",
     "text": [
      "root        : ERROR    20091129{\"retCode\": -1, \"retMsg\": \"No Data Returned\"}\n"
     ]
    },
    {
     "name": "stdout",
     "output_type": "stream",
     "text": [
      "20091129  nodata\n",
      "20091130  done\n",
      "20091201  done\n",
      "20091202  done\n",
      "20091203  done\n"
     ]
    },
    {
     "name": "stderr",
     "output_type": "stream",
     "text": [
      "root        : ERROR    20091205{\"retCode\": -1, \"retMsg\": \"No Data Returned\"}\n"
     ]
    },
    {
     "name": "stdout",
     "output_type": "stream",
     "text": [
      "20091204  done\n",
      "20091205  nodata\n"
     ]
    },
    {
     "name": "stderr",
     "output_type": "stream",
     "text": [
      "root        : ERROR    20091206{\"retCode\": -1, \"retMsg\": \"No Data Returned\"}\n"
     ]
    },
    {
     "name": "stdout",
     "output_type": "stream",
     "text": [
      "20091206  nodata\n",
      "20091207  done\n",
      "20091208  done\n",
      "20091209  done\n",
      "20091210  done\n"
     ]
    },
    {
     "name": "stderr",
     "output_type": "stream",
     "text": [
      "root        : ERROR    20091212{\"retCode\": -1, \"retMsg\": \"No Data Returned\"}\n"
     ]
    },
    {
     "name": "stdout",
     "output_type": "stream",
     "text": [
      "20091211  done\n",
      "20091212  nodata\n"
     ]
    },
    {
     "name": "stderr",
     "output_type": "stream",
     "text": [
      "root        : ERROR    20091213{\"retCode\": -1, \"retMsg\": \"No Data Returned\"}\n"
     ]
    },
    {
     "name": "stdout",
     "output_type": "stream",
     "text": [
      "20091213  nodata\n",
      "20091214  done\n",
      "20091215  done\n",
      "20091216  done\n",
      "20091217  done\n"
     ]
    },
    {
     "name": "stderr",
     "output_type": "stream",
     "text": [
      "root        : ERROR    20091219{\"retCode\": -1, \"retMsg\": \"No Data Returned\"}\n"
     ]
    },
    {
     "name": "stdout",
     "output_type": "stream",
     "text": [
      "20091218  done\n",
      "20091219  nodata\n"
     ]
    },
    {
     "name": "stderr",
     "output_type": "stream",
     "text": [
      "root        : ERROR    20091220{\"retCode\": -1, \"retMsg\": \"No Data Returned\"}\n"
     ]
    },
    {
     "name": "stdout",
     "output_type": "stream",
     "text": [
      "20091220  nodata\n",
      "20091221  done\n",
      "20091222  done\n",
      "20091223  done\n",
      "20091224  done\n"
     ]
    },
    {
     "name": "stderr",
     "output_type": "stream",
     "text": [
      "root        : ERROR    20091226{\"retCode\": -1, \"retMsg\": \"No Data Returned\"}\n"
     ]
    },
    {
     "name": "stdout",
     "output_type": "stream",
     "text": [
      "20091225  done\n",
      "20091226  nodata\n"
     ]
    },
    {
     "name": "stderr",
     "output_type": "stream",
     "text": [
      "root        : ERROR    20091227{\"retCode\": -1, \"retMsg\": \"No Data Returned\"}\n"
     ]
    },
    {
     "name": "stdout",
     "output_type": "stream",
     "text": [
      "20091227  nodata\n",
      "20091228  done\n",
      "20091229  done\n",
      "20091230  done\n"
     ]
    },
    {
     "name": "stderr",
     "output_type": "stream",
     "text": [
      "root        : ERROR    20100101{\"retCode\": -1, \"retMsg\": \"No Data Returned\"}\n"
     ]
    },
    {
     "name": "stdout",
     "output_type": "stream",
     "text": [
      "20091231  done\n",
      "20100101  nodata\n"
     ]
    },
    {
     "name": "stderr",
     "output_type": "stream",
     "text": [
      "root        : ERROR    20100102{\"retCode\": -1, \"retMsg\": \"No Data Returned\"}\n",
      "root        : ERROR    20100103{\"retCode\": -1, \"retMsg\": \"No Data Returned\"}\n"
     ]
    },
    {
     "name": "stdout",
     "output_type": "stream",
     "text": [
      "20100102  nodata\n",
      "20100103  nodata\n",
      "20100104  done\n",
      "20100105  done\n",
      "20100106  done\n",
      "20100107  done\n"
     ]
    },
    {
     "name": "stderr",
     "output_type": "stream",
     "text": [
      "root        : ERROR    20100109{\"retCode\": -1, \"retMsg\": \"No Data Returned\"}\n"
     ]
    },
    {
     "name": "stdout",
     "output_type": "stream",
     "text": [
      "20100108  done\n",
      "20100109  nodata\n"
     ]
    },
    {
     "name": "stderr",
     "output_type": "stream",
     "text": [
      "root        : ERROR    20100110{\"retCode\": -1, \"retMsg\": \"No Data Returned\"}\n"
     ]
    },
    {
     "name": "stdout",
     "output_type": "stream",
     "text": [
      "20100110  nodata\n",
      "20100111  done\n",
      "20100112  done\n",
      "20100113  done\n",
      "20100114  done\n"
     ]
    },
    {
     "name": "stderr",
     "output_type": "stream",
     "text": [
      "root        : ERROR    20100116{\"retCode\": -1, \"retMsg\": \"No Data Returned\"}\n"
     ]
    },
    {
     "name": "stdout",
     "output_type": "stream",
     "text": [
      "20100115  done\n",
      "20100116  nodata\n"
     ]
    },
    {
     "name": "stderr",
     "output_type": "stream",
     "text": [
      "root        : ERROR    20100117{\"retCode\": -1, \"retMsg\": \"No Data Returned\"}\n"
     ]
    },
    {
     "name": "stdout",
     "output_type": "stream",
     "text": [
      "20100117  nodata\n",
      "20100118  done\n",
      "20100119  done\n",
      "20100120  done\n",
      "20100121  done\n"
     ]
    },
    {
     "name": "stderr",
     "output_type": "stream",
     "text": [
      "root        : ERROR    20100123{\"retCode\": -1, \"retMsg\": \"No Data Returned\"}\n"
     ]
    },
    {
     "name": "stdout",
     "output_type": "stream",
     "text": [
      "20100122  done\n",
      "20100123  nodata\n"
     ]
    },
    {
     "name": "stderr",
     "output_type": "stream",
     "text": [
      "root        : ERROR    20100124{\"retCode\": -1, \"retMsg\": \"No Data Returned\"}\n"
     ]
    },
    {
     "name": "stdout",
     "output_type": "stream",
     "text": [
      "20100124  nodata\n",
      "20100125  done\n",
      "20100126  done\n",
      "20100127  done\n",
      "20100128  done\n"
     ]
    },
    {
     "name": "stderr",
     "output_type": "stream",
     "text": [
      "root        : ERROR    20100130{\"retCode\": -1, \"retMsg\": \"No Data Returned\"}\n"
     ]
    },
    {
     "name": "stdout",
     "output_type": "stream",
     "text": [
      "20100129  done\n",
      "20100130  nodata\n"
     ]
    },
    {
     "name": "stderr",
     "output_type": "stream",
     "text": [
      "root        : ERROR    20100131{\"retCode\": -1, \"retMsg\": \"No Data Returned\"}\n"
     ]
    },
    {
     "name": "stdout",
     "output_type": "stream",
     "text": [
      "20100131  nodata\n",
      "20100201  done\n",
      "20100202  done\n",
      "20100203  done\n",
      "20100204  done\n"
     ]
    },
    {
     "name": "stderr",
     "output_type": "stream",
     "text": [
      "root        : ERROR    20100206{\"retCode\": -1, \"retMsg\": \"No Data Returned\"}\n"
     ]
    },
    {
     "name": "stdout",
     "output_type": "stream",
     "text": [
      "20100205  done\n",
      "20100206  nodata\n"
     ]
    },
    {
     "name": "stderr",
     "output_type": "stream",
     "text": [
      "root        : ERROR    20100207{\"retCode\": -1, \"retMsg\": \"No Data Returned\"}\n"
     ]
    },
    {
     "name": "stdout",
     "output_type": "stream",
     "text": [
      "20100207  nodata\n",
      "20100208  done\n",
      "20100209  done\n",
      "20100210  done\n",
      "20100211  done\n"
     ]
    },
    {
     "name": "stderr",
     "output_type": "stream",
     "text": [
      "root        : ERROR    20100213{\"retCode\": -1, \"retMsg\": \"No Data Returned\"}\n"
     ]
    },
    {
     "name": "stdout",
     "output_type": "stream",
     "text": [
      "20100212  done\n",
      "20100213  nodata\n"
     ]
    },
    {
     "name": "stderr",
     "output_type": "stream",
     "text": [
      "root        : ERROR    20100214{\"retCode\": -1, \"retMsg\": \"No Data Returned\"}\n",
      "root        : ERROR    20100215{\"retCode\": -1, \"retMsg\": \"No Data Returned\"}\n"
     ]
    },
    {
     "name": "stdout",
     "output_type": "stream",
     "text": [
      "20100214  nodata\n",
      "20100215  nodata\n"
     ]
    },
    {
     "name": "stderr",
     "output_type": "stream",
     "text": [
      "root        : ERROR    20100216{\"retCode\": -1, \"retMsg\": \"No Data Returned\"}\n",
      "root        : ERROR    20100217{\"retCode\": -1, \"retMsg\": \"No Data Returned\"}\n"
     ]
    },
    {
     "name": "stdout",
     "output_type": "stream",
     "text": [
      "20100216  nodata\n",
      "20100217  nodata\n"
     ]
    },
    {
     "name": "stderr",
     "output_type": "stream",
     "text": [
      "root        : ERROR    20100218{\"retCode\": -1, \"retMsg\": \"No Data Returned\"}\n",
      "root        : ERROR    20100219{\"retCode\": -1, \"retMsg\": \"No Data Returned\"}\n"
     ]
    },
    {
     "name": "stdout",
     "output_type": "stream",
     "text": [
      "20100218  nodata\n",
      "20100219  nodata\n"
     ]
    },
    {
     "name": "stderr",
     "output_type": "stream",
     "text": [
      "root        : ERROR    20100220{\"retCode\": -1, \"retMsg\": \"No Data Returned\"}\n",
      "root        : ERROR    20100221{\"retCode\": -1, \"retMsg\": \"No Data Returned\"}\n"
     ]
    },
    {
     "name": "stdout",
     "output_type": "stream",
     "text": [
      "20100220  nodata\n",
      "20100221  nodata\n",
      "20100222  done\n",
      "20100223  done\n",
      "20100224  done\n",
      "20100225  done\n"
     ]
    },
    {
     "name": "stderr",
     "output_type": "stream",
     "text": [
      "root        : ERROR    20100227{\"retCode\": -1, \"retMsg\": \"No Data Returned\"}\n"
     ]
    },
    {
     "name": "stdout",
     "output_type": "stream",
     "text": [
      "20100226  done\n",
      "20100227  nodata\n"
     ]
    },
    {
     "name": "stderr",
     "output_type": "stream",
     "text": [
      "root        : ERROR    20100228{\"retCode\": -1, \"retMsg\": \"No Data Returned\"}\n"
     ]
    },
    {
     "name": "stdout",
     "output_type": "stream",
     "text": [
      "20100228  nodata\n",
      "20100301  done\n",
      "20100302  done\n",
      "20100303  done\n",
      "20100304  done\n"
     ]
    },
    {
     "name": "stderr",
     "output_type": "stream",
     "text": [
      "root        : ERROR    20100306{\"retCode\": -1, \"retMsg\": \"No Data Returned\"}\n"
     ]
    },
    {
     "name": "stdout",
     "output_type": "stream",
     "text": [
      "20100305  done\n",
      "20100306  nodata\n"
     ]
    },
    {
     "name": "stderr",
     "output_type": "stream",
     "text": [
      "root        : ERROR    20100307{\"retCode\": -1, \"retMsg\": \"No Data Returned\"}\n"
     ]
    },
    {
     "name": "stdout",
     "output_type": "stream",
     "text": [
      "20100307  nodata\n",
      "20100308  done\n",
      "20100309  done\n",
      "20100310  done\n",
      "20100311  done\n"
     ]
    },
    {
     "name": "stderr",
     "output_type": "stream",
     "text": [
      "root        : ERROR    20100313{\"retCode\": -1, \"retMsg\": \"No Data Returned\"}\n"
     ]
    },
    {
     "name": "stdout",
     "output_type": "stream",
     "text": [
      "20100312  done\n",
      "20100313  nodata\n"
     ]
    },
    {
     "name": "stderr",
     "output_type": "stream",
     "text": [
      "root        : ERROR    20100314{\"retCode\": -1, \"retMsg\": \"No Data Returned\"}\n"
     ]
    },
    {
     "name": "stdout",
     "output_type": "stream",
     "text": [
      "20100314  nodata\n",
      "20100315  done\n",
      "20100316  done\n",
      "20100317  done\n",
      "20100318  done\n"
     ]
    },
    {
     "name": "stderr",
     "output_type": "stream",
     "text": [
      "root        : ERROR    20100320{\"retCode\": -1, \"retMsg\": \"No Data Returned\"}\n"
     ]
    },
    {
     "name": "stdout",
     "output_type": "stream",
     "text": [
      "20100319  done\n",
      "20100320  nodata\n"
     ]
    },
    {
     "name": "stderr",
     "output_type": "stream",
     "text": [
      "root        : ERROR    20100321{\"retCode\": -1, \"retMsg\": \"No Data Returned\"}\n"
     ]
    },
    {
     "name": "stdout",
     "output_type": "stream",
     "text": [
      "20100321  nodata\n",
      "20100322  done\n",
      "20100323  done\n",
      "20100324  done\n",
      "20100325  done\n"
     ]
    },
    {
     "name": "stderr",
     "output_type": "stream",
     "text": [
      "root        : ERROR    20100327{\"retCode\": -1, \"retMsg\": \"No Data Returned\"}\n"
     ]
    },
    {
     "name": "stdout",
     "output_type": "stream",
     "text": [
      "20100326  done\n",
      "20100327  nodata\n"
     ]
    },
    {
     "name": "stderr",
     "output_type": "stream",
     "text": [
      "root        : ERROR    20100328{\"retCode\": -1, \"retMsg\": \"No Data Returned\"}\n"
     ]
    },
    {
     "name": "stdout",
     "output_type": "stream",
     "text": [
      "20100328  nodata\n",
      "20100329  done\n",
      "20100330  done\n",
      "20100331  done\n",
      "20100401  done\n"
     ]
    },
    {
     "name": "stderr",
     "output_type": "stream",
     "text": [
      "root        : ERROR    20100403{\"retCode\": -1, \"retMsg\": \"No Data Returned\"}\n"
     ]
    },
    {
     "name": "stdout",
     "output_type": "stream",
     "text": [
      "20100402  done\n",
      "20100403  nodata\n"
     ]
    },
    {
     "name": "stderr",
     "output_type": "stream",
     "text": [
      "root        : ERROR    20100404{\"retCode\": -1, \"retMsg\": \"No Data Returned\"}\n",
      "root        : ERROR    20100405{\"retCode\": -1, \"retMsg\": \"No Data Returned\"}\n"
     ]
    },
    {
     "name": "stdout",
     "output_type": "stream",
     "text": [
      "20100404  nodata\n",
      "20100405  nodata\n",
      "20100406  done\n",
      "20100407  done\n",
      "20100408  done\n"
     ]
    },
    {
     "name": "stderr",
     "output_type": "stream",
     "text": [
      "root        : ERROR    20100410{\"retCode\": -1, \"retMsg\": \"No Data Returned\"}\n"
     ]
    },
    {
     "name": "stdout",
     "output_type": "stream",
     "text": [
      "20100409  done\n",
      "20100410  nodata\n"
     ]
    },
    {
     "name": "stderr",
     "output_type": "stream",
     "text": [
      "root        : ERROR    20100411{\"retCode\": -1, \"retMsg\": \"No Data Returned\"}\n"
     ]
    },
    {
     "name": "stdout",
     "output_type": "stream",
     "text": [
      "20100411  nodata\n",
      "20100412  done\n",
      "20100413  done\n",
      "20100414  done\n",
      "20100415  done\n"
     ]
    },
    {
     "name": "stderr",
     "output_type": "stream",
     "text": [
      "root        : ERROR    20100417{\"retCode\": -1, \"retMsg\": \"No Data Returned\"}\n"
     ]
    },
    {
     "name": "stdout",
     "output_type": "stream",
     "text": [
      "20100416  done\n",
      "20100417  nodata\n"
     ]
    },
    {
     "name": "stderr",
     "output_type": "stream",
     "text": [
      "root        : ERROR    20100418{\"retCode\": -1, \"retMsg\": \"No Data Returned\"}\n"
     ]
    },
    {
     "name": "stdout",
     "output_type": "stream",
     "text": [
      "20100418  nodata\n",
      "20100419  done\n",
      "20100420  done\n",
      "20100421  done\n",
      "20100422  done\n"
     ]
    },
    {
     "name": "stderr",
     "output_type": "stream",
     "text": [
      "root        : ERROR    20100424{\"retCode\": -1, \"retMsg\": \"No Data Returned\"}\n"
     ]
    },
    {
     "name": "stdout",
     "output_type": "stream",
     "text": [
      "20100423  done\n",
      "20100424  nodata\n"
     ]
    },
    {
     "name": "stderr",
     "output_type": "stream",
     "text": [
      "root        : ERROR    20100425{\"retCode\": -1, \"retMsg\": \"No Data Returned\"}\n"
     ]
    },
    {
     "name": "stdout",
     "output_type": "stream",
     "text": [
      "20100425  nodata\n",
      "20100426  done\n",
      "20100427  done\n",
      "20100428  done\n",
      "20100429  done\n"
     ]
    },
    {
     "name": "stderr",
     "output_type": "stream",
     "text": [
      "root        : ERROR    20100501{\"retCode\": -1, \"retMsg\": \"No Data Returned\"}\n"
     ]
    },
    {
     "name": "stdout",
     "output_type": "stream",
     "text": [
      "20100430  done\n",
      "20100501  nodata\n"
     ]
    },
    {
     "name": "stderr",
     "output_type": "stream",
     "text": [
      "root        : ERROR    20100502{\"retCode\": -1, \"retMsg\": \"No Data Returned\"}\n",
      "root        : ERROR    20100503{\"retCode\": -1, \"retMsg\": \"No Data Returned\"}\n"
     ]
    },
    {
     "name": "stdout",
     "output_type": "stream",
     "text": [
      "20100502  nodata\n",
      "20100503  nodata\n",
      "20100504  done\n",
      "20100505  done\n",
      "20100506  done\n"
     ]
    },
    {
     "name": "stderr",
     "output_type": "stream",
     "text": [
      "root        : ERROR    20100508{\"retCode\": -1, \"retMsg\": \"No Data Returned\"}\n"
     ]
    },
    {
     "name": "stdout",
     "output_type": "stream",
     "text": [
      "20100507  done\n",
      "20100508  nodata\n"
     ]
    },
    {
     "name": "stderr",
     "output_type": "stream",
     "text": [
      "root        : ERROR    20100509{\"retCode\": -1, \"retMsg\": \"No Data Returned\"}\n"
     ]
    },
    {
     "name": "stdout",
     "output_type": "stream",
     "text": [
      "20100509  nodata\n",
      "20100510  done\n",
      "20100511  done\n",
      "20100512  done\n",
      "20100513  done\n"
     ]
    },
    {
     "name": "stderr",
     "output_type": "stream",
     "text": [
      "root        : ERROR    20100515{\"retCode\": -1, \"retMsg\": \"No Data Returned\"}\n"
     ]
    },
    {
     "name": "stdout",
     "output_type": "stream",
     "text": [
      "20100514  done\n",
      "20100515  nodata\n"
     ]
    },
    {
     "name": "stderr",
     "output_type": "stream",
     "text": [
      "root        : ERROR    20100516{\"retCode\": -1, \"retMsg\": \"No Data Returned\"}\n"
     ]
    },
    {
     "name": "stdout",
     "output_type": "stream",
     "text": [
      "20100516  nodata\n",
      "20100517  done\n",
      "20100518  done\n",
      "20100519  done\n",
      "20100520  done\n"
     ]
    },
    {
     "name": "stderr",
     "output_type": "stream",
     "text": [
      "root        : ERROR    20100522{\"retCode\": -1, \"retMsg\": \"No Data Returned\"}\n"
     ]
    },
    {
     "name": "stdout",
     "output_type": "stream",
     "text": [
      "20100521  done\n",
      "20100522  nodata\n"
     ]
    },
    {
     "name": "stderr",
     "output_type": "stream",
     "text": [
      "root        : ERROR    20100523{\"retCode\": -1, \"retMsg\": \"No Data Returned\"}\n"
     ]
    },
    {
     "name": "stdout",
     "output_type": "stream",
     "text": [
      "20100523  nodata\n",
      "20100524  done\n",
      "20100525  done\n",
      "20100526  done\n",
      "20100527  done\n"
     ]
    },
    {
     "name": "stderr",
     "output_type": "stream",
     "text": [
      "root        : ERROR    20100529{\"retCode\": -1, \"retMsg\": \"No Data Returned\"}\n"
     ]
    },
    {
     "name": "stdout",
     "output_type": "stream",
     "text": [
      "20100528  done\n",
      "20100529  nodata\n"
     ]
    },
    {
     "name": "stderr",
     "output_type": "stream",
     "text": [
      "root        : ERROR    20100530{\"retCode\": -1, \"retMsg\": \"No Data Returned\"}\n"
     ]
    },
    {
     "name": "stdout",
     "output_type": "stream",
     "text": [
      "20100530  nodata\n",
      "20100531  done\n",
      "20100601  done\n",
      "20100602  done\n",
      "20100603  done\n"
     ]
    },
    {
     "name": "stderr",
     "output_type": "stream",
     "text": [
      "root        : ERROR    20100605{\"retCode\": -1, \"retMsg\": \"No Data Returned\"}\n"
     ]
    },
    {
     "name": "stdout",
     "output_type": "stream",
     "text": [
      "20100604  done\n",
      "20100605  nodata\n"
     ]
    },
    {
     "name": "stderr",
     "output_type": "stream",
     "text": [
      "root        : ERROR    20100606{\"retCode\": -1, \"retMsg\": \"No Data Returned\"}\n"
     ]
    },
    {
     "name": "stdout",
     "output_type": "stream",
     "text": [
      "20100606  nodata\n",
      "20100607  done\n",
      "20100608  done\n",
      "20100609  done\n",
      "20100610  done\n"
     ]
    },
    {
     "name": "stderr",
     "output_type": "stream",
     "text": [
      "root        : ERROR    20100612{\"retCode\": -1, \"retMsg\": \"No Data Returned\"}\n"
     ]
    },
    {
     "name": "stdout",
     "output_type": "stream",
     "text": [
      "20100611  done\n",
      "20100612  nodata\n"
     ]
    },
    {
     "name": "stderr",
     "output_type": "stream",
     "text": [
      "root        : ERROR    20100613{\"retCode\": -1, \"retMsg\": \"No Data Returned\"}\n",
      "root        : ERROR    20100614{\"retCode\": -1, \"retMsg\": \"No Data Returned\"}\n"
     ]
    },
    {
     "name": "stdout",
     "output_type": "stream",
     "text": [
      "20100613  nodata\n",
      "20100614  nodata\n"
     ]
    },
    {
     "name": "stderr",
     "output_type": "stream",
     "text": [
      "root        : ERROR    20100615{\"retCode\": -1, \"retMsg\": \"No Data Returned\"}\n",
      "root        : ERROR    20100616{\"retCode\": -1, \"retMsg\": \"No Data Returned\"}\n"
     ]
    },
    {
     "name": "stdout",
     "output_type": "stream",
     "text": [
      "20100615  nodata\n",
      "20100616  nodata\n",
      "20100617  done\n"
     ]
    },
    {
     "name": "stderr",
     "output_type": "stream",
     "text": [
      "root        : ERROR    20100619{\"retCode\": -1, \"retMsg\": \"No Data Returned\"}\n"
     ]
    },
    {
     "name": "stdout",
     "output_type": "stream",
     "text": [
      "20100618  done\n",
      "20100619  nodata\n"
     ]
    },
    {
     "name": "stderr",
     "output_type": "stream",
     "text": [
      "root        : ERROR    20100620{\"retCode\": -1, \"retMsg\": \"No Data Returned\"}\n"
     ]
    },
    {
     "name": "stdout",
     "output_type": "stream",
     "text": [
      "20100620  nodata\n",
      "20100621  done\n",
      "20100622  done\n",
      "20100623  done\n",
      "20100624  done\n"
     ]
    },
    {
     "name": "stderr",
     "output_type": "stream",
     "text": [
      "root        : ERROR    20100626{\"retCode\": -1, \"retMsg\": \"No Data Returned\"}\n"
     ]
    },
    {
     "name": "stdout",
     "output_type": "stream",
     "text": [
      "20100625  done\n",
      "20100626  nodata\n"
     ]
    },
    {
     "name": "stderr",
     "output_type": "stream",
     "text": [
      "root        : ERROR    20100627{\"retCode\": -1, \"retMsg\": \"No Data Returned\"}\n"
     ]
    },
    {
     "name": "stdout",
     "output_type": "stream",
     "text": [
      "20100627  nodata\n",
      "20100628  done\n",
      "20100629  done\n",
      "20100630  done\n",
      "20100701  done\n"
     ]
    },
    {
     "name": "stderr",
     "output_type": "stream",
     "text": [
      "root        : ERROR    20100703{\"retCode\": -1, \"retMsg\": \"No Data Returned\"}\n"
     ]
    },
    {
     "name": "stdout",
     "output_type": "stream",
     "text": [
      "20100702  done\n",
      "20100703  nodata\n"
     ]
    },
    {
     "name": "stderr",
     "output_type": "stream",
     "text": [
      "root        : ERROR    20100704{\"retCode\": -1, \"retMsg\": \"No Data Returned\"}\n"
     ]
    },
    {
     "name": "stdout",
     "output_type": "stream",
     "text": [
      "20100704  nodata\n",
      "20100705  done\n",
      "20100706  done\n",
      "20100707  done\n",
      "20100708  done\n"
     ]
    },
    {
     "name": "stderr",
     "output_type": "stream",
     "text": [
      "root        : ERROR    20100710{\"retCode\": -1, \"retMsg\": \"No Data Returned\"}\n"
     ]
    },
    {
     "name": "stdout",
     "output_type": "stream",
     "text": [
      "20100709  done\n",
      "20100710  nodata\n"
     ]
    },
    {
     "name": "stderr",
     "output_type": "stream",
     "text": [
      "root        : ERROR    20100711{\"retCode\": -1, \"retMsg\": \"No Data Returned\"}\n"
     ]
    },
    {
     "name": "stdout",
     "output_type": "stream",
     "text": [
      "20100711  nodata\n",
      "20100712  done\n",
      "20100713  done\n",
      "20100714  done\n",
      "20100715  done\n"
     ]
    },
    {
     "name": "stderr",
     "output_type": "stream",
     "text": [
      "root        : ERROR    20100717{\"retCode\": -1, \"retMsg\": \"No Data Returned\"}\n"
     ]
    },
    {
     "name": "stdout",
     "output_type": "stream",
     "text": [
      "20100716  done\n",
      "20100717  nodata\n"
     ]
    },
    {
     "name": "stderr",
     "output_type": "stream",
     "text": [
      "root        : ERROR    20100718{\"retCode\": -1, \"retMsg\": \"No Data Returned\"}\n"
     ]
    },
    {
     "name": "stdout",
     "output_type": "stream",
     "text": [
      "20100718  nodata\n",
      "20100719  done\n",
      "20100720  done\n",
      "20100721  done\n",
      "20100722  done\n"
     ]
    },
    {
     "name": "stderr",
     "output_type": "stream",
     "text": [
      "root        : ERROR    20100724{\"retCode\": -1, \"retMsg\": \"No Data Returned\"}\n"
     ]
    },
    {
     "name": "stdout",
     "output_type": "stream",
     "text": [
      "20100723  done\n",
      "20100724  nodata\n"
     ]
    },
    {
     "name": "stderr",
     "output_type": "stream",
     "text": [
      "root        : ERROR    20100725{\"retCode\": -1, \"retMsg\": \"No Data Returned\"}\n"
     ]
    },
    {
     "name": "stdout",
     "output_type": "stream",
     "text": [
      "20100725  nodata\n",
      "20100726  done\n",
      "20100727  done\n",
      "20100728  done\n",
      "20100729  done\n"
     ]
    },
    {
     "name": "stderr",
     "output_type": "stream",
     "text": [
      "root        : ERROR    20100731{\"retCode\": -1, \"retMsg\": \"No Data Returned\"}\n"
     ]
    },
    {
     "name": "stdout",
     "output_type": "stream",
     "text": [
      "20100730  done\n",
      "20100731  nodata\n"
     ]
    },
    {
     "name": "stderr",
     "output_type": "stream",
     "text": [
      "root        : ERROR    20100801{\"retCode\": -1, \"retMsg\": \"No Data Returned\"}\n"
     ]
    },
    {
     "name": "stdout",
     "output_type": "stream",
     "text": [
      "20100801  nodata\n",
      "20100802  done\n",
      "20100803  done\n",
      "20100804  done\n",
      "20100805  done\n"
     ]
    },
    {
     "name": "stderr",
     "output_type": "stream",
     "text": [
      "root        : ERROR    20100807{\"retCode\": -1, \"retMsg\": \"No Data Returned\"}\n"
     ]
    },
    {
     "name": "stdout",
     "output_type": "stream",
     "text": [
      "20100806  done\n",
      "20100807  nodata\n"
     ]
    },
    {
     "name": "stderr",
     "output_type": "stream",
     "text": [
      "root        : ERROR    20100808{\"retCode\": -1, \"retMsg\": \"No Data Returned\"}\n"
     ]
    },
    {
     "name": "stdout",
     "output_type": "stream",
     "text": [
      "20100808  nodata\n",
      "20100809  done\n",
      "20100810  done\n",
      "20100811  done\n",
      "20100812  done\n"
     ]
    },
    {
     "name": "stderr",
     "output_type": "stream",
     "text": [
      "root        : ERROR    20100814{\"retCode\": -1, \"retMsg\": \"No Data Returned\"}\n"
     ]
    },
    {
     "name": "stdout",
     "output_type": "stream",
     "text": [
      "20100813  done\n",
      "20100814  nodata\n"
     ]
    },
    {
     "name": "stderr",
     "output_type": "stream",
     "text": [
      "root        : ERROR    20100815{\"retCode\": -1, \"retMsg\": \"No Data Returned\"}\n"
     ]
    },
    {
     "name": "stdout",
     "output_type": "stream",
     "text": [
      "20100815  nodata\n",
      "20100816  done\n",
      "20100817  done\n",
      "20100818  done\n",
      "20100819  done\n"
     ]
    },
    {
     "name": "stderr",
     "output_type": "stream",
     "text": [
      "root        : ERROR    20100821{\"retCode\": -1, \"retMsg\": \"No Data Returned\"}\n"
     ]
    },
    {
     "name": "stdout",
     "output_type": "stream",
     "text": [
      "20100820  done\n",
      "20100821  nodata\n"
     ]
    },
    {
     "name": "stderr",
     "output_type": "stream",
     "text": [
      "root        : ERROR    20100822{\"retCode\": -1, \"retMsg\": \"No Data Returned\"}\n"
     ]
    },
    {
     "name": "stdout",
     "output_type": "stream",
     "text": [
      "20100822  nodata\n",
      "20100823  done\n",
      "20100824  done\n",
      "20100825  done\n",
      "20100826  done\n"
     ]
    },
    {
     "name": "stderr",
     "output_type": "stream",
     "text": [
      "root        : ERROR    20100828{\"retCode\": -1, \"retMsg\": \"No Data Returned\"}\n"
     ]
    },
    {
     "name": "stdout",
     "output_type": "stream",
     "text": [
      "20100827  done\n",
      "20100828  nodata\n"
     ]
    },
    {
     "name": "stderr",
     "output_type": "stream",
     "text": [
      "root        : ERROR    20100829{\"retCode\": -1, \"retMsg\": \"No Data Returned\"}\n"
     ]
    },
    {
     "name": "stdout",
     "output_type": "stream",
     "text": [
      "20100829  nodata\n",
      "20100830  done\n",
      "20100831  done\n",
      "20100901  done\n",
      "20100902  done\n"
     ]
    },
    {
     "name": "stderr",
     "output_type": "stream",
     "text": [
      "root        : ERROR    20100904{\"retCode\": -1, \"retMsg\": \"No Data Returned\"}\n"
     ]
    },
    {
     "name": "stdout",
     "output_type": "stream",
     "text": [
      "20100903  done\n",
      "20100904  nodata\n"
     ]
    },
    {
     "name": "stderr",
     "output_type": "stream",
     "text": [
      "root        : ERROR    20100905{\"retCode\": -1, \"retMsg\": \"No Data Returned\"}\n"
     ]
    },
    {
     "name": "stdout",
     "output_type": "stream",
     "text": [
      "20100905  nodata\n",
      "20100906  done\n",
      "20100907  done\n",
      "20100908  done\n",
      "20100909  done\n"
     ]
    },
    {
     "name": "stderr",
     "output_type": "stream",
     "text": [
      "root        : ERROR    20100911{\"retCode\": -1, \"retMsg\": \"No Data Returned\"}\n"
     ]
    },
    {
     "name": "stdout",
     "output_type": "stream",
     "text": [
      "20100910  done\n",
      "20100911  nodata\n"
     ]
    },
    {
     "name": "stderr",
     "output_type": "stream",
     "text": [
      "root        : ERROR    20100912{\"retCode\": -1, \"retMsg\": \"No Data Returned\"}\n"
     ]
    },
    {
     "name": "stdout",
     "output_type": "stream",
     "text": [
      "20100912  nodata\n",
      "20100913  done\n",
      "20100914  done\n",
      "20100915  done\n",
      "20100916  done\n"
     ]
    },
    {
     "name": "stderr",
     "output_type": "stream",
     "text": [
      "root        : ERROR    20100918{\"retCode\": -1, \"retMsg\": \"No Data Returned\"}\n"
     ]
    },
    {
     "name": "stdout",
     "output_type": "stream",
     "text": [
      "20100917  done\n",
      "20100918  nodata\n"
     ]
    },
    {
     "name": "stderr",
     "output_type": "stream",
     "text": [
      "root        : ERROR    20100919{\"retCode\": -1, \"retMsg\": \"No Data Returned\"}\n"
     ]
    },
    {
     "name": "stdout",
     "output_type": "stream",
     "text": [
      "20100919  nodata\n",
      "20100920  done\n"
     ]
    },
    {
     "name": "stderr",
     "output_type": "stream",
     "text": [
      "root        : ERROR    20100922{\"retCode\": -1, \"retMsg\": \"No Data Returned\"}\n"
     ]
    },
    {
     "name": "stdout",
     "output_type": "stream",
     "text": [
      "20100921  done\n",
      "20100922  nodata\n"
     ]
    },
    {
     "name": "stderr",
     "output_type": "stream",
     "text": [
      "root        : ERROR    20100923{\"retCode\": -1, \"retMsg\": \"No Data Returned\"}\n",
      "root        : ERROR    20100924{\"retCode\": -1, \"retMsg\": \"No Data Returned\"}\n"
     ]
    },
    {
     "name": "stdout",
     "output_type": "stream",
     "text": [
      "20100923  nodata\n",
      "20100924  nodata\n"
     ]
    },
    {
     "name": "stderr",
     "output_type": "stream",
     "text": [
      "root        : ERROR    20100925{\"retCode\": -1, \"retMsg\": \"No Data Returned\"}\n",
      "root        : ERROR    20100926{\"retCode\": -1, \"retMsg\": \"No Data Returned\"}\n"
     ]
    },
    {
     "name": "stdout",
     "output_type": "stream",
     "text": [
      "20100925  nodata\n",
      "20100926  nodata\n",
      "20100927  done\n",
      "20100928  done\n",
      "20100929  done\n"
     ]
    },
    {
     "name": "stderr",
     "output_type": "stream",
     "text": [
      "root        : ERROR    20101001{\"retCode\": -1, \"retMsg\": \"No Data Returned\"}\n"
     ]
    },
    {
     "name": "stdout",
     "output_type": "stream",
     "text": [
      "20100930  done\n",
      "20101001  nodata\n"
     ]
    },
    {
     "name": "stderr",
     "output_type": "stream",
     "text": [
      "root        : ERROR    20101002{\"retCode\": -1, \"retMsg\": \"No Data Returned\"}\n",
      "root        : ERROR    20101003{\"retCode\": -1, \"retMsg\": \"No Data Returned\"}\n"
     ]
    },
    {
     "name": "stdout",
     "output_type": "stream",
     "text": [
      "20101002  nodata\n",
      "20101003  nodata\n"
     ]
    },
    {
     "name": "stderr",
     "output_type": "stream",
     "text": [
      "root        : ERROR    20101004{\"retCode\": -1, \"retMsg\": \"No Data Returned\"}\n",
      "root        : ERROR    20101005{\"retCode\": -1, \"retMsg\": \"No Data Returned\"}\n"
     ]
    },
    {
     "name": "stdout",
     "output_type": "stream",
     "text": [
      "20101004  nodata\n",
      "20101005  nodata\n"
     ]
    },
    {
     "name": "stderr",
     "output_type": "stream",
     "text": [
      "root        : ERROR    20101006{\"retCode\": -1, \"retMsg\": \"No Data Returned\"}\n",
      "root        : ERROR    20101007{\"retCode\": -1, \"retMsg\": \"No Data Returned\"}\n"
     ]
    },
    {
     "name": "stdout",
     "output_type": "stream",
     "text": [
      "20101006  nodata\n",
      "20101007  nodata\n"
     ]
    },
    {
     "name": "stderr",
     "output_type": "stream",
     "text": [
      "root        : ERROR    20101009{\"retCode\": -1, \"retMsg\": \"No Data Returned\"}\n"
     ]
    },
    {
     "name": "stdout",
     "output_type": "stream",
     "text": [
      "20101008  done\n",
      "20101009  nodata\n"
     ]
    },
    {
     "name": "stderr",
     "output_type": "stream",
     "text": [
      "root        : ERROR    20101010{\"retCode\": -1, \"retMsg\": \"No Data Returned\"}\n"
     ]
    },
    {
     "name": "stdout",
     "output_type": "stream",
     "text": [
      "20101010  nodata\n",
      "20101011  done\n",
      "20101012  done\n",
      "20101013  done\n",
      "20101014  done\n"
     ]
    },
    {
     "name": "stderr",
     "output_type": "stream",
     "text": [
      "root        : ERROR    20101016{\"retCode\": -1, \"retMsg\": \"No Data Returned\"}\n"
     ]
    },
    {
     "name": "stdout",
     "output_type": "stream",
     "text": [
      "20101015  done\n",
      "20101016  nodata\n"
     ]
    },
    {
     "name": "stderr",
     "output_type": "stream",
     "text": [
      "root        : ERROR    20101017{\"retCode\": -1, \"retMsg\": \"No Data Returned\"}\n"
     ]
    },
    {
     "name": "stdout",
     "output_type": "stream",
     "text": [
      "20101017  nodata\n",
      "20101018  done\n",
      "20101019  done\n",
      "20101020  done\n",
      "20101021  done\n"
     ]
    },
    {
     "name": "stderr",
     "output_type": "stream",
     "text": [
      "root        : ERROR    20101023{\"retCode\": -1, \"retMsg\": \"No Data Returned\"}\n"
     ]
    },
    {
     "name": "stdout",
     "output_type": "stream",
     "text": [
      "20101022  done\n",
      "20101023  nodata\n"
     ]
    },
    {
     "name": "stderr",
     "output_type": "stream",
     "text": [
      "root        : ERROR    20101024{\"retCode\": -1, \"retMsg\": \"No Data Returned\"}\n"
     ]
    },
    {
     "name": "stdout",
     "output_type": "stream",
     "text": [
      "20101024  nodata\n",
      "20101025  done\n",
      "20101026  done\n",
      "20101027  done\n",
      "20101028  done\n"
     ]
    },
    {
     "name": "stderr",
     "output_type": "stream",
     "text": [
      "root        : ERROR    20101030{\"retCode\": -1, \"retMsg\": \"No Data Returned\"}\n"
     ]
    },
    {
     "name": "stdout",
     "output_type": "stream",
     "text": [
      "20101029  done\n",
      "20101030  nodata\n"
     ]
    },
    {
     "name": "stderr",
     "output_type": "stream",
     "text": [
      "root        : ERROR    20101031{\"retCode\": -1, \"retMsg\": \"No Data Returned\"}\n"
     ]
    },
    {
     "name": "stdout",
     "output_type": "stream",
     "text": [
      "20101031  nodata\n",
      "20101101  done\n",
      "20101102  done\n",
      "20101103  done\n",
      "20101104  done\n"
     ]
    },
    {
     "name": "stderr",
     "output_type": "stream",
     "text": [
      "root        : ERROR    20101106{\"retCode\": -1, \"retMsg\": \"No Data Returned\"}\n"
     ]
    },
    {
     "name": "stdout",
     "output_type": "stream",
     "text": [
      "20101105  done\n",
      "20101106  nodata\n"
     ]
    },
    {
     "name": "stderr",
     "output_type": "stream",
     "text": [
      "root        : ERROR    20101107{\"retCode\": -1, \"retMsg\": \"No Data Returned\"}\n"
     ]
    },
    {
     "name": "stdout",
     "output_type": "stream",
     "text": [
      "20101107  nodata\n",
      "20101108  done\n",
      "20101109  done\n",
      "20101110  done\n",
      "20101111  done\n"
     ]
    },
    {
     "name": "stderr",
     "output_type": "stream",
     "text": [
      "root        : ERROR    20101113{\"retCode\": -1, \"retMsg\": \"No Data Returned\"}\n"
     ]
    },
    {
     "name": "stdout",
     "output_type": "stream",
     "text": [
      "20101112  done\n",
      "20101113  nodata\n"
     ]
    },
    {
     "name": "stderr",
     "output_type": "stream",
     "text": [
      "root        : ERROR    20101114{\"retCode\": -1, \"retMsg\": \"No Data Returned\"}\n"
     ]
    },
    {
     "name": "stdout",
     "output_type": "stream",
     "text": [
      "20101114  nodata\n",
      "20101115  done\n",
      "20101116  done\n",
      "20101117  done\n",
      "20101118  done\n",
      "20101119  done\n"
     ]
    },
    {
     "name": "stderr",
     "output_type": "stream",
     "text": [
      "root        : ERROR    20101120{\"retCode\": -1, \"retMsg\": \"No Data Returned\"}\n",
      "root        : ERROR    20101121{\"retCode\": -1, \"retMsg\": \"No Data Returned\"}\n"
     ]
    },
    {
     "name": "stdout",
     "output_type": "stream",
     "text": [
      "20101120  nodata\n",
      "20101121  nodata\n",
      "20101122  done\n",
      "20101123  done\n",
      "20101124  done\n",
      "20101125  done\n"
     ]
    },
    {
     "name": "stderr",
     "output_type": "stream",
     "text": [
      "root        : ERROR    20101127{\"retCode\": -1, \"retMsg\": \"No Data Returned\"}\n"
     ]
    },
    {
     "name": "stdout",
     "output_type": "stream",
     "text": [
      "20101126  done\n",
      "20101127  nodata\n"
     ]
    },
    {
     "name": "stderr",
     "output_type": "stream",
     "text": [
      "root        : ERROR    20101128{\"retCode\": -1, \"retMsg\": \"No Data Returned\"}\n"
     ]
    },
    {
     "name": "stdout",
     "output_type": "stream",
     "text": [
      "20101128  nodata\n",
      "20101129  done\n",
      "20101130  done\n",
      "20101201  done\n",
      "20101202  done\n"
     ]
    },
    {
     "name": "stderr",
     "output_type": "stream",
     "text": [
      "root        : ERROR    20101204{\"retCode\": -1, \"retMsg\": \"No Data Returned\"}\n"
     ]
    },
    {
     "name": "stdout",
     "output_type": "stream",
     "text": [
      "20101203  done\n",
      "20101204  nodata\n"
     ]
    },
    {
     "name": "stderr",
     "output_type": "stream",
     "text": [
      "root        : ERROR    20101205{\"retCode\": -1, \"retMsg\": \"No Data Returned\"}\n"
     ]
    },
    {
     "name": "stdout",
     "output_type": "stream",
     "text": [
      "20101205  nodata\n",
      "20101206  done\n",
      "20101207  done\n",
      "20101208  done\n",
      "20101209  done\n"
     ]
    },
    {
     "name": "stderr",
     "output_type": "stream",
     "text": [
      "root        : ERROR    20101211{\"retCode\": -1, \"retMsg\": \"No Data Returned\"}\n"
     ]
    },
    {
     "name": "stdout",
     "output_type": "stream",
     "text": [
      "20101210  done\n",
      "20101211  nodata\n"
     ]
    },
    {
     "name": "stderr",
     "output_type": "stream",
     "text": [
      "root        : ERROR    20101212{\"retCode\": -1, \"retMsg\": \"No Data Returned\"}\n"
     ]
    },
    {
     "name": "stdout",
     "output_type": "stream",
     "text": [
      "20101212  nodata\n",
      "20101213  done\n",
      "20101214  done\n",
      "20101215  done\n",
      "20101216  done\n"
     ]
    },
    {
     "name": "stderr",
     "output_type": "stream",
     "text": [
      "root        : ERROR    20101218{\"retCode\": -1, \"retMsg\": \"No Data Returned\"}\n"
     ]
    },
    {
     "name": "stdout",
     "output_type": "stream",
     "text": [
      "20101217  done\n",
      "20101218  nodata\n"
     ]
    },
    {
     "name": "stderr",
     "output_type": "stream",
     "text": [
      "root        : ERROR    20101219{\"retCode\": -1, \"retMsg\": \"No Data Returned\"}\n"
     ]
    },
    {
     "name": "stdout",
     "output_type": "stream",
     "text": [
      "20101219  nodata\n",
      "20101220  done\n",
      "20101221  done\n",
      "20101222  done\n",
      "20101223  done\n"
     ]
    },
    {
     "name": "stderr",
     "output_type": "stream",
     "text": [
      "root        : ERROR    20101225{\"retCode\": -1, \"retMsg\": \"No Data Returned\"}\n"
     ]
    },
    {
     "name": "stdout",
     "output_type": "stream",
     "text": [
      "20101224  done\n",
      "20101225  nodata\n"
     ]
    },
    {
     "name": "stderr",
     "output_type": "stream",
     "text": [
      "root        : ERROR    20101226{\"retCode\": -1, \"retMsg\": \"No Data Returned\"}\n"
     ]
    },
    {
     "name": "stdout",
     "output_type": "stream",
     "text": [
      "20101226  nodata\n",
      "20101227  done\n",
      "20101228  done\n",
      "20101229  done\n",
      "20101230  done\n"
     ]
    },
    {
     "name": "stderr",
     "output_type": "stream",
     "text": [
      "root        : ERROR    20110101{\"retCode\": -1, \"retMsg\": \"No Data Returned\"}\n"
     ]
    },
    {
     "name": "stdout",
     "output_type": "stream",
     "text": [
      "20101231  done\n",
      "20110101  nodata\n"
     ]
    },
    {
     "name": "stderr",
     "output_type": "stream",
     "text": [
      "root        : ERROR    20110102{\"retCode\": -1, \"retMsg\": \"No Data Returned\"}\n",
      "root        : ERROR    20110103{\"retCode\": -1, \"retMsg\": \"No Data Returned\"}\n"
     ]
    },
    {
     "name": "stdout",
     "output_type": "stream",
     "text": [
      "20110102  nodata\n",
      "20110103  nodata\n",
      "20110104  done\n",
      "20110105  done\n",
      "20110106  done\n"
     ]
    },
    {
     "name": "stderr",
     "output_type": "stream",
     "text": [
      "root        : ERROR    20110108{\"retCode\": -1, \"retMsg\": \"No Data Returned\"}\n"
     ]
    },
    {
     "name": "stdout",
     "output_type": "stream",
     "text": [
      "20110107  done\n",
      "20110108  nodata\n"
     ]
    },
    {
     "name": "stderr",
     "output_type": "stream",
     "text": [
      "root        : ERROR    20110109{\"retCode\": -1, \"retMsg\": \"No Data Returned\"}\n"
     ]
    },
    {
     "name": "stdout",
     "output_type": "stream",
     "text": [
      "20110109  nodata\n",
      "20110110  done\n",
      "20110111  done\n",
      "20110112  done\n",
      "20110113  done\n"
     ]
    },
    {
     "name": "stderr",
     "output_type": "stream",
     "text": [
      "root        : ERROR    20110115{\"retCode\": -1, \"retMsg\": \"No Data Returned\"}\n"
     ]
    },
    {
     "name": "stdout",
     "output_type": "stream",
     "text": [
      "20110114  done\n",
      "20110115  nodata\n"
     ]
    },
    {
     "name": "stderr",
     "output_type": "stream",
     "text": [
      "root        : ERROR    20110116{\"retCode\": -1, \"retMsg\": \"No Data Returned\"}\n"
     ]
    },
    {
     "name": "stdout",
     "output_type": "stream",
     "text": [
      "20110116  nodata\n",
      "20110117  done\n",
      "20110118  done\n",
      "20110119  done\n",
      "20110120  done\n"
     ]
    },
    {
     "name": "stderr",
     "output_type": "stream",
     "text": [
      "root        : ERROR    20110122{\"retCode\": -1, \"retMsg\": \"No Data Returned\"}\n"
     ]
    },
    {
     "name": "stdout",
     "output_type": "stream",
     "text": [
      "20110121  done\n",
      "20110122  nodata\n"
     ]
    },
    {
     "name": "stderr",
     "output_type": "stream",
     "text": [
      "root        : ERROR    20110123{\"retCode\": -1, \"retMsg\": \"No Data Returned\"}\n"
     ]
    },
    {
     "name": "stdout",
     "output_type": "stream",
     "text": [
      "20110123  nodata\n",
      "20110124  done\n",
      "20110125  done\n",
      "20110126  done\n",
      "20110127  done\n"
     ]
    },
    {
     "name": "stderr",
     "output_type": "stream",
     "text": [
      "root        : ERROR    20110129{\"retCode\": -1, \"retMsg\": \"No Data Returned\"}\n"
     ]
    },
    {
     "name": "stdout",
     "output_type": "stream",
     "text": [
      "20110128  done\n",
      "20110129  nodata\n"
     ]
    },
    {
     "name": "stderr",
     "output_type": "stream",
     "text": [
      "root        : ERROR    20110130{\"retCode\": -1, \"retMsg\": \"No Data Returned\"}\n"
     ]
    },
    {
     "name": "stdout",
     "output_type": "stream",
     "text": [
      "20110130  nodata\n",
      "20110131  done\n"
     ]
    },
    {
     "name": "stderr",
     "output_type": "stream",
     "text": [
      "root        : ERROR    20110202{\"retCode\": -1, \"retMsg\": \"No Data Returned\"}\n"
     ]
    },
    {
     "name": "stdout",
     "output_type": "stream",
     "text": [
      "20110201  done\n",
      "20110202  nodata\n"
     ]
    },
    {
     "name": "stderr",
     "output_type": "stream",
     "text": [
      "root        : ERROR    20110203{\"retCode\": -1, \"retMsg\": \"No Data Returned\"}\n",
      "root        : ERROR    20110204{\"retCode\": -1, \"retMsg\": \"No Data Returned\"}\n"
     ]
    },
    {
     "name": "stdout",
     "output_type": "stream",
     "text": [
      "20110203  nodata\n",
      "20110204  nodata\n"
     ]
    },
    {
     "name": "stderr",
     "output_type": "stream",
     "text": [
      "root        : ERROR    20110205{\"retCode\": -1, \"retMsg\": \"No Data Returned\"}\n",
      "root        : ERROR    20110206{\"retCode\": -1, \"retMsg\": \"No Data Returned\"}\n"
     ]
    },
    {
     "name": "stdout",
     "output_type": "stream",
     "text": [
      "20110205  nodata\n",
      "20110206  nodata\n"
     ]
    },
    {
     "name": "stderr",
     "output_type": "stream",
     "text": [
      "root        : ERROR    20110207{\"retCode\": -1, \"retMsg\": \"No Data Returned\"}\n",
      "root        : ERROR    20110208{\"retCode\": -1, \"retMsg\": \"No Data Returned\"}\n"
     ]
    },
    {
     "name": "stdout",
     "output_type": "stream",
     "text": [
      "20110207  nodata\n",
      "20110208  nodata\n",
      "20110209  done\n",
      "20110210  done\n"
     ]
    },
    {
     "name": "stderr",
     "output_type": "stream",
     "text": [
      "root        : ERROR    20110212{\"retCode\": -1, \"retMsg\": \"No Data Returned\"}\n"
     ]
    },
    {
     "name": "stdout",
     "output_type": "stream",
     "text": [
      "20110211  done\n",
      "20110212  nodata\n"
     ]
    },
    {
     "name": "stderr",
     "output_type": "stream",
     "text": [
      "root        : ERROR    20110213{\"retCode\": -1, \"retMsg\": \"No Data Returned\"}\n"
     ]
    },
    {
     "name": "stdout",
     "output_type": "stream",
     "text": [
      "20110213  nodata\n",
      "20110214  done\n",
      "20110215  done\n",
      "20110216  done\n",
      "20110217  done\n"
     ]
    },
    {
     "name": "stderr",
     "output_type": "stream",
     "text": [
      "root        : ERROR    20110219{\"retCode\": -1, \"retMsg\": \"No Data Returned\"}\n"
     ]
    },
    {
     "name": "stdout",
     "output_type": "stream",
     "text": [
      "20110218  done\n",
      "20110219  nodata\n"
     ]
    },
    {
     "name": "stderr",
     "output_type": "stream",
     "text": [
      "root        : ERROR    20110220{\"retCode\": -1, \"retMsg\": \"No Data Returned\"}\n"
     ]
    },
    {
     "name": "stdout",
     "output_type": "stream",
     "text": [
      "20110220  nodata\n",
      "20110221  done\n",
      "20110222  done\n",
      "20110223  done\n",
      "20110224  done\n"
     ]
    },
    {
     "name": "stderr",
     "output_type": "stream",
     "text": [
      "root        : ERROR    20110226{\"retCode\": -1, \"retMsg\": \"No Data Returned\"}\n"
     ]
    },
    {
     "name": "stdout",
     "output_type": "stream",
     "text": [
      "20110225  done\n",
      "20110226  nodata\n"
     ]
    },
    {
     "name": "stderr",
     "output_type": "stream",
     "text": [
      "root        : ERROR    20110227{\"retCode\": -1, \"retMsg\": \"No Data Returned\"}\n"
     ]
    },
    {
     "name": "stdout",
     "output_type": "stream",
     "text": [
      "20110227  nodata\n",
      "20110228  done\n",
      "20110301  done\n",
      "20110302  done\n",
      "20110303  done\n"
     ]
    },
    {
     "name": "stderr",
     "output_type": "stream",
     "text": [
      "root        : ERROR    20110305{\"retCode\": -1, \"retMsg\": \"No Data Returned\"}\n"
     ]
    },
    {
     "name": "stdout",
     "output_type": "stream",
     "text": [
      "20110304  done\n",
      "20110305  nodata\n"
     ]
    },
    {
     "name": "stderr",
     "output_type": "stream",
     "text": [
      "root        : ERROR    20110306{\"retCode\": -1, \"retMsg\": \"No Data Returned\"}\n"
     ]
    },
    {
     "name": "stdout",
     "output_type": "stream",
     "text": [
      "20110306  nodata\n",
      "20110307  done\n",
      "20110308  done\n",
      "20110309  done\n",
      "20110310  done\n"
     ]
    },
    {
     "name": "stderr",
     "output_type": "stream",
     "text": [
      "root        : ERROR    20110312{\"retCode\": -1, \"retMsg\": \"No Data Returned\"}\n"
     ]
    },
    {
     "name": "stdout",
     "output_type": "stream",
     "text": [
      "20110311  done\n",
      "20110312  nodata\n"
     ]
    },
    {
     "name": "stderr",
     "output_type": "stream",
     "text": [
      "root        : ERROR    20110313{\"retCode\": -1, \"retMsg\": \"No Data Returned\"}\n"
     ]
    },
    {
     "name": "stdout",
     "output_type": "stream",
     "text": [
      "20110313  nodata\n",
      "20110314  done\n",
      "20110315  done\n",
      "20110316  done\n",
      "20110317  done\n"
     ]
    },
    {
     "name": "stderr",
     "output_type": "stream",
     "text": [
      "root        : ERROR    20110319{\"retCode\": -1, \"retMsg\": \"No Data Returned\"}\n"
     ]
    },
    {
     "name": "stdout",
     "output_type": "stream",
     "text": [
      "20110318  done\n",
      "20110319  nodata\n"
     ]
    },
    {
     "name": "stderr",
     "output_type": "stream",
     "text": [
      "root        : ERROR    20110320{\"retCode\": -1, \"retMsg\": \"No Data Returned\"}\n"
     ]
    },
    {
     "name": "stdout",
     "output_type": "stream",
     "text": [
      "20110320  nodata\n",
      "20110321  done\n",
      "20110322  done\n",
      "20110323  done\n",
      "20110324  done\n"
     ]
    },
    {
     "name": "stderr",
     "output_type": "stream",
     "text": [
      "root        : ERROR    20110326{\"retCode\": -1, \"retMsg\": \"No Data Returned\"}\n"
     ]
    },
    {
     "name": "stdout",
     "output_type": "stream",
     "text": [
      "20110325  done\n",
      "20110326  nodata\n"
     ]
    },
    {
     "name": "stderr",
     "output_type": "stream",
     "text": [
      "root        : ERROR    20110327{\"retCode\": -1, \"retMsg\": \"No Data Returned\"}\n"
     ]
    },
    {
     "name": "stdout",
     "output_type": "stream",
     "text": [
      "20110327  nodata\n",
      "20110328  done\n",
      "20110329  done\n",
      "20110330  done\n",
      "20110331  done\n"
     ]
    },
    {
     "name": "stderr",
     "output_type": "stream",
     "text": [
      "root        : ERROR    20110402{\"retCode\": -1, \"retMsg\": \"No Data Returned\"}\n"
     ]
    },
    {
     "name": "stdout",
     "output_type": "stream",
     "text": [
      "20110401  done\n",
      "20110402  nodata\n"
     ]
    },
    {
     "name": "stderr",
     "output_type": "stream",
     "text": [
      "root        : ERROR    20110403{\"retCode\": -1, \"retMsg\": \"No Data Returned\"}\n",
      "root        : ERROR    20110404{\"retCode\": -1, \"retMsg\": \"No Data Returned\"}\n"
     ]
    },
    {
     "name": "stdout",
     "output_type": "stream",
     "text": [
      "20110403  nodata\n",
      "20110404  nodata\n"
     ]
    },
    {
     "name": "stderr",
     "output_type": "stream",
     "text": [
      "root        : ERROR    20110405{\"retCode\": -1, \"retMsg\": \"No Data Returned\"}\n"
     ]
    },
    {
     "name": "stdout",
     "output_type": "stream",
     "text": [
      "20110405  nodata\n",
      "20110406  done\n",
      "20110407  done\n"
     ]
    },
    {
     "name": "stderr",
     "output_type": "stream",
     "text": [
      "root        : ERROR    20110409{\"retCode\": -1, \"retMsg\": \"No Data Returned\"}\n"
     ]
    },
    {
     "name": "stdout",
     "output_type": "stream",
     "text": [
      "20110408  done\n",
      "20110409  nodata\n"
     ]
    },
    {
     "name": "stderr",
     "output_type": "stream",
     "text": [
      "root        : ERROR    20110410{\"retCode\": -1, \"retMsg\": \"No Data Returned\"}\n"
     ]
    },
    {
     "name": "stdout",
     "output_type": "stream",
     "text": [
      "20110410  nodata\n",
      "20110411  done\n",
      "20110412  done\n",
      "20110413  done\n",
      "20110414  done\n"
     ]
    },
    {
     "name": "stderr",
     "output_type": "stream",
     "text": [
      "root        : ERROR    20110416{\"retCode\": -1, \"retMsg\": \"No Data Returned\"}\n"
     ]
    },
    {
     "name": "stdout",
     "output_type": "stream",
     "text": [
      "20110415  done\n",
      "20110416  nodata\n"
     ]
    },
    {
     "name": "stderr",
     "output_type": "stream",
     "text": [
      "root        : ERROR    20110417{\"retCode\": -1, \"retMsg\": \"No Data Returned\"}\n"
     ]
    },
    {
     "name": "stdout",
     "output_type": "stream",
     "text": [
      "20110417  nodata\n",
      "20110418  done\n",
      "20110419  done\n",
      "20110420  done\n",
      "20110421  done\n"
     ]
    },
    {
     "name": "stderr",
     "output_type": "stream",
     "text": [
      "root        : ERROR    20110423{\"retCode\": -1, \"retMsg\": \"No Data Returned\"}\n"
     ]
    },
    {
     "name": "stdout",
     "output_type": "stream",
     "text": [
      "20110422  done\n",
      "20110423  nodata\n"
     ]
    },
    {
     "name": "stderr",
     "output_type": "stream",
     "text": [
      "root        : ERROR    20110424{\"retCode\": -1, \"retMsg\": \"No Data Returned\"}\n"
     ]
    },
    {
     "name": "stdout",
     "output_type": "stream",
     "text": [
      "20110424  nodata\n",
      "20110425  done\n",
      "20110426  done\n",
      "20110427  done\n",
      "20110428  done\n"
     ]
    },
    {
     "name": "stderr",
     "output_type": "stream",
     "text": [
      "root        : ERROR    20110430{\"retCode\": -1, \"retMsg\": \"No Data Returned\"}\n"
     ]
    },
    {
     "name": "stdout",
     "output_type": "stream",
     "text": [
      "20110429  done\n",
      "20110430  nodata\n"
     ]
    },
    {
     "name": "stderr",
     "output_type": "stream",
     "text": [
      "root        : ERROR    20110501{\"retCode\": -1, \"retMsg\": \"No Data Returned\"}\n",
      "root        : ERROR    20110502{\"retCode\": -1, \"retMsg\": \"No Data Returned\"}\n"
     ]
    },
    {
     "name": "stdout",
     "output_type": "stream",
     "text": [
      "20110501  nodata\n",
      "20110502  nodata\n",
      "20110503  done\n",
      "20110504  done\n",
      "20110505  done\n"
     ]
    },
    {
     "name": "stderr",
     "output_type": "stream",
     "text": [
      "root        : ERROR    20110507{\"retCode\": -1, \"retMsg\": \"No Data Returned\"}\n"
     ]
    },
    {
     "name": "stdout",
     "output_type": "stream",
     "text": [
      "20110506  done\n",
      "20110507  nodata\n"
     ]
    },
    {
     "name": "stderr",
     "output_type": "stream",
     "text": [
      "root        : ERROR    20110508{\"retCode\": -1, \"retMsg\": \"No Data Returned\"}\n"
     ]
    },
    {
     "name": "stdout",
     "output_type": "stream",
     "text": [
      "20110508  nodata\n",
      "20110509  done\n",
      "20110510  done\n",
      "20110511  done\n",
      "20110512  done\n"
     ]
    },
    {
     "name": "stderr",
     "output_type": "stream",
     "text": [
      "root        : ERROR    20110514{\"retCode\": -1, \"retMsg\": \"No Data Returned\"}\n"
     ]
    },
    {
     "name": "stdout",
     "output_type": "stream",
     "text": [
      "20110513  done\n",
      "20110514  nodata\n"
     ]
    },
    {
     "name": "stderr",
     "output_type": "stream",
     "text": [
      "root        : ERROR    20110515{\"retCode\": -1, \"retMsg\": \"No Data Returned\"}\n"
     ]
    },
    {
     "name": "stdout",
     "output_type": "stream",
     "text": [
      "20110515  nodata\n",
      "20110516  done\n",
      "20110517  done\n",
      "20110518  done\n",
      "20110519  done\n"
     ]
    },
    {
     "name": "stderr",
     "output_type": "stream",
     "text": [
      "root        : ERROR    20110521{\"retCode\": -1, \"retMsg\": \"No Data Returned\"}\n"
     ]
    },
    {
     "name": "stdout",
     "output_type": "stream",
     "text": [
      "20110520  done\n",
      "20110521  nodata\n"
     ]
    },
    {
     "name": "stderr",
     "output_type": "stream",
     "text": [
      "root        : ERROR    20110522{\"retCode\": -1, \"retMsg\": \"No Data Returned\"}\n"
     ]
    },
    {
     "name": "stdout",
     "output_type": "stream",
     "text": [
      "20110522  nodata\n",
      "20110523  done\n",
      "20110524  done\n",
      "20110525  done\n",
      "20110526  done\n"
     ]
    },
    {
     "name": "stderr",
     "output_type": "stream",
     "text": [
      "root        : ERROR    20110528{\"retCode\": -1, \"retMsg\": \"No Data Returned\"}\n"
     ]
    },
    {
     "name": "stdout",
     "output_type": "stream",
     "text": [
      "20110527  done\n",
      "20110528  nodata\n"
     ]
    },
    {
     "name": "stderr",
     "output_type": "stream",
     "text": [
      "root        : ERROR    20110529{\"retCode\": -1, \"retMsg\": \"No Data Returned\"}\n"
     ]
    },
    {
     "name": "stdout",
     "output_type": "stream",
     "text": [
      "20110529  nodata\n",
      "20110530  done\n",
      "20110531  done\n",
      "20110601  done\n",
      "20110602  done\n"
     ]
    },
    {
     "name": "stderr",
     "output_type": "stream",
     "text": [
      "root        : ERROR    20110604{\"retCode\": -1, \"retMsg\": \"No Data Returned\"}\n"
     ]
    },
    {
     "name": "stdout",
     "output_type": "stream",
     "text": [
      "20110603  done\n",
      "20110604  nodata\n"
     ]
    },
    {
     "name": "stderr",
     "output_type": "stream",
     "text": [
      "root        : ERROR    20110605{\"retCode\": -1, \"retMsg\": \"No Data Returned\"}\n",
      "root        : ERROR    20110606{\"retCode\": -1, \"retMsg\": \"No Data Returned\"}\n"
     ]
    },
    {
     "name": "stdout",
     "output_type": "stream",
     "text": [
      "20110605  nodata\n",
      "20110606  nodata\n",
      "20110607  done\n",
      "20110608  done\n",
      "20110609  done\n"
     ]
    },
    {
     "name": "stderr",
     "output_type": "stream",
     "text": [
      "root        : ERROR    20110611{\"retCode\": -1, \"retMsg\": \"No Data Returned\"}\n"
     ]
    },
    {
     "name": "stdout",
     "output_type": "stream",
     "text": [
      "20110610  done\n",
      "20110611  nodata\n"
     ]
    },
    {
     "name": "stderr",
     "output_type": "stream",
     "text": [
      "root        : ERROR    20110612{\"retCode\": -1, \"retMsg\": \"No Data Returned\"}\n"
     ]
    },
    {
     "name": "stdout",
     "output_type": "stream",
     "text": [
      "20110612  nodata\n",
      "20110613  done\n",
      "20110614  done\n",
      "20110615  done\n",
      "20110616  done\n"
     ]
    },
    {
     "name": "stderr",
     "output_type": "stream",
     "text": [
      "root        : ERROR    20110618{\"retCode\": -1, \"retMsg\": \"No Data Returned\"}\n"
     ]
    },
    {
     "name": "stdout",
     "output_type": "stream",
     "text": [
      "20110617  done\n",
      "20110618  nodata\n"
     ]
    },
    {
     "name": "stderr",
     "output_type": "stream",
     "text": [
      "root        : ERROR    20110619{\"retCode\": -1, \"retMsg\": \"No Data Returned\"}\n"
     ]
    },
    {
     "name": "stdout",
     "output_type": "stream",
     "text": [
      "20110619  nodata\n",
      "20110620  done\n",
      "20110621  done\n",
      "20110622  done\n",
      "20110623  done\n"
     ]
    },
    {
     "name": "stderr",
     "output_type": "stream",
     "text": [
      "root        : ERROR    20110625{\"retCode\": -1, \"retMsg\": \"No Data Returned\"}\n"
     ]
    },
    {
     "name": "stdout",
     "output_type": "stream",
     "text": [
      "20110624  done\n",
      "20110625  nodata\n"
     ]
    },
    {
     "name": "stderr",
     "output_type": "stream",
     "text": [
      "root        : ERROR    20110626{\"retCode\": -1, \"retMsg\": \"No Data Returned\"}\n"
     ]
    },
    {
     "name": "stdout",
     "output_type": "stream",
     "text": [
      "20110626  nodata\n",
      "20110627  done\n",
      "20110628  done\n",
      "20110629  done\n",
      "20110630  done\n"
     ]
    },
    {
     "name": "stderr",
     "output_type": "stream",
     "text": [
      "root        : ERROR    20110702{\"retCode\": -1, \"retMsg\": \"No Data Returned\"}\n"
     ]
    },
    {
     "name": "stdout",
     "output_type": "stream",
     "text": [
      "20110701  done\n",
      "20110702  nodata\n"
     ]
    },
    {
     "name": "stderr",
     "output_type": "stream",
     "text": [
      "root        : ERROR    20110703{\"retCode\": -1, \"retMsg\": \"No Data Returned\"}\n"
     ]
    },
    {
     "name": "stdout",
     "output_type": "stream",
     "text": [
      "20110703  nodata\n",
      "20110704  done\n",
      "20110705  done\n",
      "20110706  done\n",
      "20110707  done\n"
     ]
    },
    {
     "name": "stderr",
     "output_type": "stream",
     "text": [
      "root        : ERROR    20110709{\"retCode\": -1, \"retMsg\": \"No Data Returned\"}\n"
     ]
    },
    {
     "name": "stdout",
     "output_type": "stream",
     "text": [
      "20110708  done\n",
      "20110709  nodata\n"
     ]
    },
    {
     "name": "stderr",
     "output_type": "stream",
     "text": [
      "root        : ERROR    20110710{\"retCode\": -1, \"retMsg\": \"No Data Returned\"}\n"
     ]
    },
    {
     "name": "stdout",
     "output_type": "stream",
     "text": [
      "20110710  nodata\n",
      "20110711  done\n",
      "20110712  done\n",
      "20110713  done\n",
      "20110714  done\n"
     ]
    },
    {
     "name": "stderr",
     "output_type": "stream",
     "text": [
      "root        : ERROR    20110716{\"retCode\": -1, \"retMsg\": \"No Data Returned\"}\n"
     ]
    },
    {
     "name": "stdout",
     "output_type": "stream",
     "text": [
      "20110715  done\n",
      "20110716  nodata\n"
     ]
    },
    {
     "name": "stderr",
     "output_type": "stream",
     "text": [
      "root        : ERROR    20110717{\"retCode\": -1, \"retMsg\": \"No Data Returned\"}\n"
     ]
    },
    {
     "name": "stdout",
     "output_type": "stream",
     "text": [
      "20110717  nodata\n",
      "20110718  done\n",
      "20110719  done\n",
      "20110720  done\n",
      "20110721  done\n"
     ]
    },
    {
     "name": "stderr",
     "output_type": "stream",
     "text": [
      "root        : ERROR    20110723{\"retCode\": -1, \"retMsg\": \"No Data Returned\"}\n"
     ]
    },
    {
     "name": "stdout",
     "output_type": "stream",
     "text": [
      "20110722  done\n",
      "20110723  nodata\n"
     ]
    },
    {
     "name": "stderr",
     "output_type": "stream",
     "text": [
      "root        : ERROR    20110724{\"retCode\": -1, \"retMsg\": \"No Data Returned\"}\n"
     ]
    },
    {
     "name": "stdout",
     "output_type": "stream",
     "text": [
      "20110724  nodata\n",
      "20110725  done\n",
      "20110726  done\n",
      "20110727  done\n",
      "20110728  done\n"
     ]
    },
    {
     "name": "stderr",
     "output_type": "stream",
     "text": [
      "root        : ERROR    20110730{\"retCode\": -1, \"retMsg\": \"No Data Returned\"}\n"
     ]
    },
    {
     "name": "stdout",
     "output_type": "stream",
     "text": [
      "20110729  done\n",
      "20110730  nodata\n"
     ]
    },
    {
     "name": "stderr",
     "output_type": "stream",
     "text": [
      "root        : ERROR    20110731{\"retCode\": -1, \"retMsg\": \"No Data Returned\"}\n"
     ]
    },
    {
     "name": "stdout",
     "output_type": "stream",
     "text": [
      "20110731  nodata\n",
      "20110801  done\n",
      "20110802  done\n",
      "20110803  done\n",
      "20110804  done\n"
     ]
    },
    {
     "name": "stderr",
     "output_type": "stream",
     "text": [
      "root        : ERROR    20110806{\"retCode\": -1, \"retMsg\": \"No Data Returned\"}\n"
     ]
    },
    {
     "name": "stdout",
     "output_type": "stream",
     "text": [
      "20110805  done\n",
      "20110806  nodata\n"
     ]
    },
    {
     "name": "stderr",
     "output_type": "stream",
     "text": [
      "root        : ERROR    20110807{\"retCode\": -1, \"retMsg\": \"No Data Returned\"}\n"
     ]
    },
    {
     "name": "stdout",
     "output_type": "stream",
     "text": [
      "20110807  nodata\n",
      "20110808  done\n",
      "20110809  done\n",
      "20110810  done\n",
      "20110811  done\n"
     ]
    },
    {
     "name": "stderr",
     "output_type": "stream",
     "text": [
      "root        : ERROR    20110813{\"retCode\": -1, \"retMsg\": \"No Data Returned\"}\n"
     ]
    },
    {
     "name": "stdout",
     "output_type": "stream",
     "text": [
      "20110812  done\n",
      "20110813  nodata\n"
     ]
    },
    {
     "name": "stderr",
     "output_type": "stream",
     "text": [
      "root        : ERROR    20110814{\"retCode\": -1, \"retMsg\": \"No Data Returned\"}\n"
     ]
    },
    {
     "name": "stdout",
     "output_type": "stream",
     "text": [
      "20110814  nodata\n",
      "20110815  done\n",
      "20110816  done\n",
      "20110817  done\n",
      "20110818  done\n"
     ]
    },
    {
     "name": "stderr",
     "output_type": "stream",
     "text": [
      "root        : ERROR    20110820{\"retCode\": -1, \"retMsg\": \"No Data Returned\"}\n"
     ]
    },
    {
     "name": "stdout",
     "output_type": "stream",
     "text": [
      "20110819  done\n",
      "20110820  nodata\n"
     ]
    },
    {
     "name": "stderr",
     "output_type": "stream",
     "text": [
      "root        : ERROR    20110821{\"retCode\": -1, \"retMsg\": \"No Data Returned\"}\n"
     ]
    },
    {
     "name": "stdout",
     "output_type": "stream",
     "text": [
      "20110821  nodata\n",
      "20110822  done\n",
      "20110823  done\n",
      "20110824  done\n",
      "20110825  done\n"
     ]
    },
    {
     "name": "stderr",
     "output_type": "stream",
     "text": [
      "root        : ERROR    20110827{\"retCode\": -1, \"retMsg\": \"No Data Returned\"}\n"
     ]
    },
    {
     "name": "stdout",
     "output_type": "stream",
     "text": [
      "20110826  done\n",
      "20110827  nodata\n"
     ]
    },
    {
     "name": "stderr",
     "output_type": "stream",
     "text": [
      "root        : ERROR    20110828{\"retCode\": -1, \"retMsg\": \"No Data Returned\"}\n"
     ]
    },
    {
     "name": "stdout",
     "output_type": "stream",
     "text": [
      "20110828  nodata\n",
      "20110829  done\n",
      "20110830  done\n",
      "20110831  done\n",
      "20110901  done\n"
     ]
    },
    {
     "name": "stderr",
     "output_type": "stream",
     "text": [
      "root        : ERROR    20110903{\"retCode\": -1, \"retMsg\": \"No Data Returned\"}\n"
     ]
    },
    {
     "name": "stdout",
     "output_type": "stream",
     "text": [
      "20110902  done\n",
      "20110903  nodata\n"
     ]
    },
    {
     "name": "stderr",
     "output_type": "stream",
     "text": [
      "root        : ERROR    20110904{\"retCode\": -1, \"retMsg\": \"No Data Returned\"}\n"
     ]
    },
    {
     "name": "stdout",
     "output_type": "stream",
     "text": [
      "20110904  nodata\n",
      "20110905  done\n",
      "20110906  done\n",
      "20110907  done\n",
      "20110908  done\n"
     ]
    },
    {
     "name": "stderr",
     "output_type": "stream",
     "text": [
      "root        : ERROR    20110910{\"retCode\": -1, \"retMsg\": \"No Data Returned\"}\n"
     ]
    },
    {
     "name": "stdout",
     "output_type": "stream",
     "text": [
      "20110909  done\n",
      "20110910  nodata\n"
     ]
    },
    {
     "name": "stderr",
     "output_type": "stream",
     "text": [
      "root        : ERROR    20110911{\"retCode\": -1, \"retMsg\": \"No Data Returned\"}\n",
      "root        : ERROR    20110912{\"retCode\": -1, \"retMsg\": \"No Data Returned\"}\n"
     ]
    },
    {
     "name": "stdout",
     "output_type": "stream",
     "text": [
      "20110911  nodata\n",
      "20110912  nodata\n",
      "20110913  done\n",
      "20110914  done\n",
      "20110915  done\n"
     ]
    },
    {
     "name": "stderr",
     "output_type": "stream",
     "text": [
      "root        : ERROR    20110917{\"retCode\": -1, \"retMsg\": \"No Data Returned\"}\n"
     ]
    },
    {
     "name": "stdout",
     "output_type": "stream",
     "text": [
      "20110916  done\n",
      "20110917  nodata\n"
     ]
    },
    {
     "name": "stderr",
     "output_type": "stream",
     "text": [
      "root        : ERROR    20110918{\"retCode\": -1, \"retMsg\": \"No Data Returned\"}\n"
     ]
    },
    {
     "name": "stdout",
     "output_type": "stream",
     "text": [
      "20110918  nodata\n",
      "20110919  done\n",
      "20110920  done\n",
      "20110921  done\n",
      "20110922  done\n"
     ]
    },
    {
     "name": "stderr",
     "output_type": "stream",
     "text": [
      "root        : ERROR    20110924{\"retCode\": -1, \"retMsg\": \"No Data Returned\"}\n"
     ]
    },
    {
     "name": "stdout",
     "output_type": "stream",
     "text": [
      "20110923  done\n",
      "20110924  nodata\n"
     ]
    },
    {
     "name": "stderr",
     "output_type": "stream",
     "text": [
      "root        : ERROR    20110925{\"retCode\": -1, \"retMsg\": \"No Data Returned\"}\n"
     ]
    },
    {
     "name": "stdout",
     "output_type": "stream",
     "text": [
      "20110925  nodata\n",
      "20110926  done\n",
      "20110927  done\n",
      "20110928  done\n",
      "20110929  done\n"
     ]
    },
    {
     "name": "stderr",
     "output_type": "stream",
     "text": [
      "root        : ERROR    20111001{\"retCode\": -1, \"retMsg\": \"No Data Returned\"}\n"
     ]
    },
    {
     "name": "stdout",
     "output_type": "stream",
     "text": [
      "20110930  done\n",
      "20111001  nodata\n"
     ]
    },
    {
     "name": "stderr",
     "output_type": "stream",
     "text": [
      "root        : ERROR    20111002{\"retCode\": -1, \"retMsg\": \"No Data Returned\"}\n",
      "root        : ERROR    20111003{\"retCode\": -1, \"retMsg\": \"No Data Returned\"}\n"
     ]
    },
    {
     "name": "stdout",
     "output_type": "stream",
     "text": [
      "20111002  nodata\n",
      "20111003  nodata\n"
     ]
    },
    {
     "name": "stderr",
     "output_type": "stream",
     "text": [
      "root        : ERROR    20111004{\"retCode\": -1, \"retMsg\": \"No Data Returned\"}\n",
      "root        : ERROR    20111005{\"retCode\": -1, \"retMsg\": \"No Data Returned\"}\n"
     ]
    },
    {
     "name": "stdout",
     "output_type": "stream",
     "text": [
      "20111004  nodata\n",
      "20111005  nodata\n"
     ]
    },
    {
     "name": "stderr",
     "output_type": "stream",
     "text": [
      "root        : ERROR    20111006{\"retCode\": -1, \"retMsg\": \"No Data Returned\"}\n",
      "root        : ERROR    20111007{\"retCode\": -1, \"retMsg\": \"No Data Returned\"}\n"
     ]
    },
    {
     "name": "stdout",
     "output_type": "stream",
     "text": [
      "20111006  nodata\n",
      "20111007  nodata\n"
     ]
    },
    {
     "name": "stderr",
     "output_type": "stream",
     "text": [
      "root        : ERROR    20111008{\"retCode\": -1, \"retMsg\": \"No Data Returned\"}\n",
      "root        : ERROR    20111009{\"retCode\": -1, \"retMsg\": \"No Data Returned\"}\n"
     ]
    },
    {
     "name": "stdout",
     "output_type": "stream",
     "text": [
      "20111008  nodata\n",
      "20111009  nodata\n",
      "20111010  done\n",
      "20111011  done\n",
      "20111012  done\n",
      "20111013  done\n"
     ]
    },
    {
     "name": "stderr",
     "output_type": "stream",
     "text": [
      "root        : ERROR    20111015{\"retCode\": -1, \"retMsg\": \"No Data Returned\"}\n"
     ]
    },
    {
     "name": "stdout",
     "output_type": "stream",
     "text": [
      "20111014  done\n",
      "20111015  nodata\n"
     ]
    },
    {
     "name": "stderr",
     "output_type": "stream",
     "text": [
      "root        : ERROR    20111016{\"retCode\": -1, \"retMsg\": \"No Data Returned\"}\n"
     ]
    },
    {
     "name": "stdout",
     "output_type": "stream",
     "text": [
      "20111016  nodata\n",
      "20111017  done\n",
      "20111018  done\n",
      "20111019  done\n",
      "20111020  done\n"
     ]
    },
    {
     "name": "stderr",
     "output_type": "stream",
     "text": [
      "root        : ERROR    20111022{\"retCode\": -1, \"retMsg\": \"No Data Returned\"}\n"
     ]
    },
    {
     "name": "stdout",
     "output_type": "stream",
     "text": [
      "20111021  done\n",
      "20111022  nodata\n"
     ]
    },
    {
     "name": "stderr",
     "output_type": "stream",
     "text": [
      "root        : ERROR    20111023{\"retCode\": -1, \"retMsg\": \"No Data Returned\"}\n"
     ]
    },
    {
     "name": "stdout",
     "output_type": "stream",
     "text": [
      "20111023  nodata\n",
      "20111024  done\n",
      "20111025  done\n",
      "20111026  done\n",
      "20111027  done\n"
     ]
    },
    {
     "name": "stderr",
     "output_type": "stream",
     "text": [
      "root        : ERROR    20111029{\"retCode\": -1, \"retMsg\": \"No Data Returned\"}\n"
     ]
    },
    {
     "name": "stdout",
     "output_type": "stream",
     "text": [
      "20111028  done\n",
      "20111029  nodata\n"
     ]
    },
    {
     "name": "stderr",
     "output_type": "stream",
     "text": [
      "root        : ERROR    20111030{\"retCode\": -1, \"retMsg\": \"No Data Returned\"}\n"
     ]
    },
    {
     "name": "stdout",
     "output_type": "stream",
     "text": [
      "20111030  nodata\n",
      "20111031  done\n",
      "20111101  done\n",
      "20111102  done\n",
      "20111103  done\n"
     ]
    },
    {
     "name": "stderr",
     "output_type": "stream",
     "text": [
      "root        : ERROR    20111105{\"retCode\": -1, \"retMsg\": \"No Data Returned\"}\n"
     ]
    },
    {
     "name": "stdout",
     "output_type": "stream",
     "text": [
      "20111104  done\n",
      "20111105  nodata\n"
     ]
    },
    {
     "name": "stderr",
     "output_type": "stream",
     "text": [
      "root        : ERROR    20111106{\"retCode\": -1, \"retMsg\": \"No Data Returned\"}\n"
     ]
    },
    {
     "name": "stdout",
     "output_type": "stream",
     "text": [
      "20111106  nodata\n",
      "20111107  done\n",
      "20111108  done\n",
      "20111109  done\n",
      "20111110  done\n"
     ]
    },
    {
     "name": "stderr",
     "output_type": "stream",
     "text": [
      "root        : ERROR    20111112{\"retCode\": -1, \"retMsg\": \"No Data Returned\"}\n"
     ]
    },
    {
     "name": "stdout",
     "output_type": "stream",
     "text": [
      "20111111  done\n",
      "20111112  nodata\n"
     ]
    },
    {
     "name": "stderr",
     "output_type": "stream",
     "text": [
      "root        : ERROR    20111113{\"retCode\": -1, \"retMsg\": \"No Data Returned\"}\n"
     ]
    },
    {
     "name": "stdout",
     "output_type": "stream",
     "text": [
      "20111113  nodata\n",
      "20111114  done\n",
      "20111115  done\n",
      "20111116  done\n",
      "20111117  done\n"
     ]
    },
    {
     "name": "stderr",
     "output_type": "stream",
     "text": [
      "root        : ERROR    20111119{\"retCode\": -1, \"retMsg\": \"No Data Returned\"}\n"
     ]
    },
    {
     "name": "stdout",
     "output_type": "stream",
     "text": [
      "20111118  done\n",
      "20111119  nodata\n"
     ]
    },
    {
     "name": "stderr",
     "output_type": "stream",
     "text": [
      "root        : ERROR    20111120{\"retCode\": -1, \"retMsg\": \"No Data Returned\"}\n"
     ]
    },
    {
     "name": "stdout",
     "output_type": "stream",
     "text": [
      "20111120  nodata\n",
      "20111121  done\n",
      "20111122  done\n",
      "20111123  done\n",
      "20111124  done\n"
     ]
    },
    {
     "name": "stderr",
     "output_type": "stream",
     "text": [
      "root        : ERROR    20111126{\"retCode\": -1, \"retMsg\": \"No Data Returned\"}\n"
     ]
    },
    {
     "name": "stdout",
     "output_type": "stream",
     "text": [
      "20111125  done\n",
      "20111126  nodata\n"
     ]
    },
    {
     "name": "stderr",
     "output_type": "stream",
     "text": [
      "root        : ERROR    20111127{\"retCode\": -1, \"retMsg\": \"No Data Returned\"}\n"
     ]
    },
    {
     "name": "stdout",
     "output_type": "stream",
     "text": [
      "20111127  nodata\n",
      "20111128  done\n",
      "20111129  done\n",
      "20111130  done\n",
      "20111201  done\n"
     ]
    },
    {
     "name": "stderr",
     "output_type": "stream",
     "text": [
      "root        : ERROR    20111203{\"retCode\": -1, \"retMsg\": \"No Data Returned\"}\n"
     ]
    },
    {
     "name": "stdout",
     "output_type": "stream",
     "text": [
      "20111202  done\n",
      "20111203  nodata\n"
     ]
    },
    {
     "name": "stderr",
     "output_type": "stream",
     "text": [
      "root        : ERROR    20111204{\"retCode\": -1, \"retMsg\": \"No Data Returned\"}\n"
     ]
    },
    {
     "name": "stdout",
     "output_type": "stream",
     "text": [
      "20111204  nodata\n",
      "20111205  done\n",
      "20111206  done\n",
      "20111207  done\n",
      "20111208  done\n"
     ]
    },
    {
     "name": "stderr",
     "output_type": "stream",
     "text": [
      "root        : ERROR    20111210{\"retCode\": -1, \"retMsg\": \"No Data Returned\"}\n"
     ]
    },
    {
     "name": "stdout",
     "output_type": "stream",
     "text": [
      "20111209  done\n",
      "20111210  nodata\n"
     ]
    },
    {
     "name": "stderr",
     "output_type": "stream",
     "text": [
      "root        : ERROR    20111211{\"retCode\": -1, \"retMsg\": \"No Data Returned\"}\n"
     ]
    },
    {
     "name": "stdout",
     "output_type": "stream",
     "text": [
      "20111211  nodata\n",
      "20111212  done\n",
      "20111213  done\n",
      "20111214  done\n",
      "20111215  done\n"
     ]
    },
    {
     "name": "stderr",
     "output_type": "stream",
     "text": [
      "root        : ERROR    20111217{\"retCode\": -1, \"retMsg\": \"No Data Returned\"}\n"
     ]
    },
    {
     "name": "stdout",
     "output_type": "stream",
     "text": [
      "20111216  done\n",
      "20111217  nodata\n"
     ]
    },
    {
     "name": "stderr",
     "output_type": "stream",
     "text": [
      "root        : ERROR    20111218{\"retCode\": -1, \"retMsg\": \"No Data Returned\"}\n"
     ]
    },
    {
     "name": "stdout",
     "output_type": "stream",
     "text": [
      "20111218  nodata\n",
      "20111219  done\n",
      "20111220  done\n",
      "20111221  done\n",
      "20111222  done\n"
     ]
    },
    {
     "name": "stderr",
     "output_type": "stream",
     "text": [
      "root        : ERROR    20111224{\"retCode\": -1, \"retMsg\": \"No Data Returned\"}\n"
     ]
    },
    {
     "name": "stdout",
     "output_type": "stream",
     "text": [
      "20111223  done\n",
      "20111224  nodata\n"
     ]
    },
    {
     "name": "stderr",
     "output_type": "stream",
     "text": [
      "root        : ERROR    20111225{\"retCode\": -1, \"retMsg\": \"No Data Returned\"}\n"
     ]
    },
    {
     "name": "stdout",
     "output_type": "stream",
     "text": [
      "20111225  nodata\n",
      "20111226  done\n",
      "20111227  done\n",
      "20111228  done\n",
      "20111229  done\n"
     ]
    },
    {
     "name": "stderr",
     "output_type": "stream",
     "text": [
      "root        : ERROR    20111231{\"retCode\": -1, \"retMsg\": \"No Data Returned\"}\n"
     ]
    },
    {
     "name": "stdout",
     "output_type": "stream",
     "text": [
      "20111230  done\n",
      "20111231  nodata\n"
     ]
    },
    {
     "name": "stderr",
     "output_type": "stream",
     "text": [
      "root        : ERROR    20120101{\"retCode\": -1, \"retMsg\": \"No Data Returned\"}\n",
      "root        : ERROR    20120102{\"retCode\": -1, \"retMsg\": \"No Data Returned\"}\n"
     ]
    },
    {
     "name": "stdout",
     "output_type": "stream",
     "text": [
      "20120101  nodata\n",
      "20120102  nodata\n"
     ]
    },
    {
     "name": "stderr",
     "output_type": "stream",
     "text": [
      "root        : ERROR    20120103{\"retCode\": -1, \"retMsg\": \"No Data Returned\"}\n"
     ]
    },
    {
     "name": "stdout",
     "output_type": "stream",
     "text": [
      "20120103  nodata\n",
      "20120104  done\n",
      "20120105  done\n"
     ]
    },
    {
     "name": "stderr",
     "output_type": "stream",
     "text": [
      "root        : ERROR    20120107{\"retCode\": -1, \"retMsg\": \"No Data Returned\"}\n"
     ]
    },
    {
     "name": "stdout",
     "output_type": "stream",
     "text": [
      "20120106  done\n",
      "20120107  nodata\n"
     ]
    },
    {
     "name": "stderr",
     "output_type": "stream",
     "text": [
      "root        : ERROR    20120108{\"retCode\": -1, \"retMsg\": \"No Data Returned\"}\n"
     ]
    },
    {
     "name": "stdout",
     "output_type": "stream",
     "text": [
      "20120108  nodata\n",
      "20120109  done\n",
      "20120110  done\n",
      "20120111  done\n",
      "20120112  done\n"
     ]
    },
    {
     "name": "stderr",
     "output_type": "stream",
     "text": [
      "root        : ERROR    20120114{\"retCode\": -1, \"retMsg\": \"No Data Returned\"}\n"
     ]
    },
    {
     "name": "stdout",
     "output_type": "stream",
     "text": [
      "20120113  done\n",
      "20120114  nodata\n"
     ]
    },
    {
     "name": "stderr",
     "output_type": "stream",
     "text": [
      "root        : ERROR    20120115{\"retCode\": -1, \"retMsg\": \"No Data Returned\"}\n"
     ]
    },
    {
     "name": "stdout",
     "output_type": "stream",
     "text": [
      "20120115  nodata\n",
      "20120116  done\n",
      "20120117  done\n",
      "20120118  done\n",
      "20120119  done\n"
     ]
    },
    {
     "name": "stderr",
     "output_type": "stream",
     "text": [
      "root        : ERROR    20120121{\"retCode\": -1, \"retMsg\": \"No Data Returned\"}\n"
     ]
    },
    {
     "name": "stdout",
     "output_type": "stream",
     "text": [
      "20120120  done\n",
      "20120121  nodata\n"
     ]
    },
    {
     "name": "stderr",
     "output_type": "stream",
     "text": [
      "root        : ERROR    20120122{\"retCode\": -1, \"retMsg\": \"No Data Returned\"}\n",
      "root        : ERROR    20120123{\"retCode\": -1, \"retMsg\": \"No Data Returned\"}\n"
     ]
    },
    {
     "name": "stdout",
     "output_type": "stream",
     "text": [
      "20120122  nodata\n",
      "20120123  nodata\n"
     ]
    },
    {
     "name": "stderr",
     "output_type": "stream",
     "text": [
      "root        : ERROR    20120124{\"retCode\": -1, \"retMsg\": \"No Data Returned\"}\n",
      "root        : ERROR    20120125{\"retCode\": -1, \"retMsg\": \"No Data Returned\"}\n"
     ]
    },
    {
     "name": "stdout",
     "output_type": "stream",
     "text": [
      "20120124  nodata\n",
      "20120125  nodata\n"
     ]
    },
    {
     "name": "stderr",
     "output_type": "stream",
     "text": [
      "root        : ERROR    20120126{\"retCode\": -1, \"retMsg\": \"No Data Returned\"}\n",
      "root        : ERROR    20120127{\"retCode\": -1, \"retMsg\": \"No Data Returned\"}\n"
     ]
    },
    {
     "name": "stdout",
     "output_type": "stream",
     "text": [
      "20120126  nodata\n",
      "20120127  nodata\n"
     ]
    },
    {
     "name": "stderr",
     "output_type": "stream",
     "text": [
      "root        : ERROR    20120128{\"retCode\": -1, \"retMsg\": \"No Data Returned\"}\n",
      "root        : ERROR    20120129{\"retCode\": -1, \"retMsg\": \"No Data Returned\"}\n"
     ]
    },
    {
     "name": "stdout",
     "output_type": "stream",
     "text": [
      "20120128  nodata\n",
      "20120129  nodata\n",
      "20120130  done\n",
      "20120131  done\n",
      "20120201  done\n",
      "20120202  done\n"
     ]
    },
    {
     "name": "stderr",
     "output_type": "stream",
     "text": [
      "root        : ERROR    20120204{\"retCode\": -1, \"retMsg\": \"No Data Returned\"}\n"
     ]
    },
    {
     "name": "stdout",
     "output_type": "stream",
     "text": [
      "20120203  done\n",
      "20120204  nodata\n"
     ]
    },
    {
     "name": "stderr",
     "output_type": "stream",
     "text": [
      "root        : ERROR    20120205{\"retCode\": -1, \"retMsg\": \"No Data Returned\"}\n"
     ]
    },
    {
     "name": "stdout",
     "output_type": "stream",
     "text": [
      "20120205  nodata\n",
      "20120206  done\n",
      "20120207  done\n",
      "20120208  done\n",
      "20120209  done\n"
     ]
    },
    {
     "name": "stderr",
     "output_type": "stream",
     "text": [
      "root        : ERROR    20120211{\"retCode\": -1, \"retMsg\": \"No Data Returned\"}\n"
     ]
    },
    {
     "name": "stdout",
     "output_type": "stream",
     "text": [
      "20120210  done\n",
      "20120211  nodata\n"
     ]
    },
    {
     "name": "stderr",
     "output_type": "stream",
     "text": [
      "root        : ERROR    20120212{\"retCode\": -1, \"retMsg\": \"No Data Returned\"}\n"
     ]
    },
    {
     "name": "stdout",
     "output_type": "stream",
     "text": [
      "20120212  nodata\n",
      "20120213  done\n",
      "20120214  done\n",
      "20120215  done\n",
      "20120216  done\n"
     ]
    },
    {
     "name": "stderr",
     "output_type": "stream",
     "text": [
      "root        : ERROR    20120218{\"retCode\": -1, \"retMsg\": \"No Data Returned\"}\n"
     ]
    },
    {
     "name": "stdout",
     "output_type": "stream",
     "text": [
      "20120217  done\n",
      "20120218  nodata\n"
     ]
    },
    {
     "name": "stderr",
     "output_type": "stream",
     "text": [
      "root        : ERROR    20120219{\"retCode\": -1, \"retMsg\": \"No Data Returned\"}\n"
     ]
    },
    {
     "name": "stdout",
     "output_type": "stream",
     "text": [
      "20120219  nodata\n",
      "20120220  done\n",
      "20120221  done\n",
      "20120222  done\n",
      "20120223  done\n"
     ]
    },
    {
     "name": "stderr",
     "output_type": "stream",
     "text": [
      "root        : ERROR    20120225{\"retCode\": -1, \"retMsg\": \"No Data Returned\"}\n"
     ]
    },
    {
     "name": "stdout",
     "output_type": "stream",
     "text": [
      "20120224  done\n",
      "20120225  nodata\n"
     ]
    },
    {
     "name": "stderr",
     "output_type": "stream",
     "text": [
      "root        : ERROR    20120226{\"retCode\": -1, \"retMsg\": \"No Data Returned\"}\n"
     ]
    },
    {
     "name": "stdout",
     "output_type": "stream",
     "text": [
      "20120226  nodata\n",
      "20120227  done\n",
      "20120228  done\n",
      "20120229  done\n",
      "20120301  done\n"
     ]
    },
    {
     "name": "stderr",
     "output_type": "stream",
     "text": [
      "root        : ERROR    20120303{\"retCode\": -1, \"retMsg\": \"No Data Returned\"}\n"
     ]
    },
    {
     "name": "stdout",
     "output_type": "stream",
     "text": [
      "20120302  done\n",
      "20120303  nodata\n"
     ]
    },
    {
     "name": "stderr",
     "output_type": "stream",
     "text": [
      "root        : ERROR    20120304{\"retCode\": -1, \"retMsg\": \"No Data Returned\"}\n"
     ]
    },
    {
     "name": "stdout",
     "output_type": "stream",
     "text": [
      "20120304  nodata\n",
      "20120305  done\n",
      "20120306  done\n",
      "20120307  done\n",
      "20120308  done\n"
     ]
    },
    {
     "name": "stderr",
     "output_type": "stream",
     "text": [
      "root        : ERROR    20120310{\"retCode\": -1, \"retMsg\": \"No Data Returned\"}\n"
     ]
    },
    {
     "name": "stdout",
     "output_type": "stream",
     "text": [
      "20120309  done\n",
      "20120310  nodata\n"
     ]
    },
    {
     "name": "stderr",
     "output_type": "stream",
     "text": [
      "root        : ERROR    20120311{\"retCode\": -1, \"retMsg\": \"No Data Returned\"}\n"
     ]
    },
    {
     "name": "stdout",
     "output_type": "stream",
     "text": [
      "20120311  nodata\n",
      "20120312  done\n",
      "20120313  done\n",
      "20120314  done\n",
      "20120315  done\n"
     ]
    },
    {
     "name": "stderr",
     "output_type": "stream",
     "text": [
      "root        : ERROR    20120317{\"retCode\": -1, \"retMsg\": \"No Data Returned\"}\n"
     ]
    },
    {
     "name": "stdout",
     "output_type": "stream",
     "text": [
      "20120316  done\n",
      "20120317  nodata\n"
     ]
    },
    {
     "name": "stderr",
     "output_type": "stream",
     "text": [
      "root        : ERROR    20120318{\"retCode\": -1, \"retMsg\": \"No Data Returned\"}\n"
     ]
    },
    {
     "name": "stdout",
     "output_type": "stream",
     "text": [
      "20120318  nodata\n",
      "20120319  done\n",
      "20120320  done\n",
      "20120321  done\n",
      "20120322  done\n"
     ]
    },
    {
     "name": "stderr",
     "output_type": "stream",
     "text": [
      "root        : ERROR    20120324{\"retCode\": -1, \"retMsg\": \"No Data Returned\"}\n"
     ]
    },
    {
     "name": "stdout",
     "output_type": "stream",
     "text": [
      "20120323  done\n",
      "20120324  nodata\n"
     ]
    },
    {
     "name": "stderr",
     "output_type": "stream",
     "text": [
      "root        : ERROR    20120325{\"retCode\": -1, \"retMsg\": \"No Data Returned\"}\n"
     ]
    },
    {
     "name": "stdout",
     "output_type": "stream",
     "text": [
      "20120325  nodata\n",
      "20120326  done\n",
      "20120327  done\n",
      "20120328  done\n",
      "20120329  done\n"
     ]
    },
    {
     "name": "stderr",
     "output_type": "stream",
     "text": [
      "root        : ERROR    20120331{\"retCode\": -1, \"retMsg\": \"No Data Returned\"}\n"
     ]
    },
    {
     "name": "stdout",
     "output_type": "stream",
     "text": [
      "20120330  done\n",
      "20120331  nodata\n"
     ]
    },
    {
     "name": "stderr",
     "output_type": "stream",
     "text": [
      "root        : ERROR    20120401{\"retCode\": -1, \"retMsg\": \"No Data Returned\"}\n",
      "root        : ERROR    20120402{\"retCode\": -1, \"retMsg\": \"No Data Returned\"}\n"
     ]
    },
    {
     "name": "stdout",
     "output_type": "stream",
     "text": [
      "20120401  nodata\n",
      "20120402  nodata\n"
     ]
    },
    {
     "name": "stderr",
     "output_type": "stream",
     "text": [
      "root        : ERROR    20120403{\"retCode\": -1, \"retMsg\": \"No Data Returned\"}\n"
     ]
    },
    {
     "name": "stdout",
     "output_type": "stream",
     "text": [
      "20120403  nodata\n"
     ]
    },
    {
     "name": "stderr",
     "output_type": "stream",
     "text": [
      "root        : ERROR    20120404{\"retCode\": -1, \"retMsg\": \"No Data Returned\"}\n"
     ]
    },
    {
     "name": "stdout",
     "output_type": "stream",
     "text": [
      "20120404  nodata\n",
      "20120405  done\n"
     ]
    },
    {
     "name": "stderr",
     "output_type": "stream",
     "text": [
      "root        : ERROR    20120407{\"retCode\": -1, \"retMsg\": \"No Data Returned\"}\n"
     ]
    },
    {
     "name": "stdout",
     "output_type": "stream",
     "text": [
      "20120406  done\n",
      "20120407  nodata\n"
     ]
    },
    {
     "name": "stderr",
     "output_type": "stream",
     "text": [
      "root        : ERROR    20120408{\"retCode\": -1, \"retMsg\": \"No Data Returned\"}\n"
     ]
    },
    {
     "name": "stdout",
     "output_type": "stream",
     "text": [
      "20120408  nodata\n",
      "20120409  done\n",
      "20120410  done\n",
      "20120411  done\n",
      "20120412  done\n"
     ]
    },
    {
     "name": "stderr",
     "output_type": "stream",
     "text": [
      "root        : ERROR    20120414{\"retCode\": -1, \"retMsg\": \"No Data Returned\"}\n"
     ]
    },
    {
     "name": "stdout",
     "output_type": "stream",
     "text": [
      "20120413  done\n",
      "20120414  nodata\n"
     ]
    },
    {
     "name": "stderr",
     "output_type": "stream",
     "text": [
      "root        : ERROR    20120415{\"retCode\": -1, \"retMsg\": \"No Data Returned\"}\n"
     ]
    },
    {
     "name": "stdout",
     "output_type": "stream",
     "text": [
      "20120415  nodata\n",
      "20120416  done\n",
      "20120417  done\n",
      "20120418  done\n",
      "20120419  done\n"
     ]
    },
    {
     "name": "stderr",
     "output_type": "stream",
     "text": [
      "root        : ERROR    20120421{\"retCode\": -1, \"retMsg\": \"No Data Returned\"}\n"
     ]
    },
    {
     "name": "stdout",
     "output_type": "stream",
     "text": [
      "20120420  done\n",
      "20120421  nodata\n"
     ]
    },
    {
     "name": "stderr",
     "output_type": "stream",
     "text": [
      "root        : ERROR    20120422{\"retCode\": -1, \"retMsg\": \"No Data Returned\"}\n"
     ]
    },
    {
     "name": "stdout",
     "output_type": "stream",
     "text": [
      "20120422  nodata\n",
      "20120423  done\n",
      "20120424  done\n",
      "20120425  done\n",
      "20120426  done\n"
     ]
    },
    {
     "name": "stderr",
     "output_type": "stream",
     "text": [
      "root        : ERROR    20120428{\"retCode\": -1, \"retMsg\": \"No Data Returned\"}\n"
     ]
    },
    {
     "name": "stdout",
     "output_type": "stream",
     "text": [
      "20120427  done\n",
      "20120428  nodata\n"
     ]
    },
    {
     "name": "stderr",
     "output_type": "stream",
     "text": [
      "root        : ERROR    20120429{\"retCode\": -1, \"retMsg\": \"No Data Returned\"}\n",
      "root        : ERROR    20120430{\"retCode\": -1, \"retMsg\": \"No Data Returned\"}\n"
     ]
    },
    {
     "name": "stdout",
     "output_type": "stream",
     "text": [
      "20120429  nodata\n",
      "20120430  nodata\n"
     ]
    },
    {
     "name": "stderr",
     "output_type": "stream",
     "text": [
      "root        : ERROR    20120501{\"retCode\": -1, \"retMsg\": \"No Data Returned\"}\n"
     ]
    },
    {
     "name": "stdout",
     "output_type": "stream",
     "text": [
      "20120501  nodata\n",
      "20120502  done\n",
      "20120503  done\n",
      "20120504  done\n"
     ]
    },
    {
     "name": "stderr",
     "output_type": "stream",
     "text": [
      "root        : ERROR    20120505{\"retCode\": -1, \"retMsg\": \"No Data Returned\"}\n",
      "root        : ERROR    20120506{\"retCode\": -1, \"retMsg\": \"No Data Returned\"}\n"
     ]
    },
    {
     "name": "stdout",
     "output_type": "stream",
     "text": [
      "20120505  nodata\n",
      "20120506  nodata\n",
      "20120507  done\n",
      "20120508  done\n",
      "20120509  done\n",
      "20120510  done\n"
     ]
    },
    {
     "name": "stderr",
     "output_type": "stream",
     "text": [
      "root        : ERROR    20120512{\"retCode\": -1, \"retMsg\": \"No Data Returned\"}\n"
     ]
    },
    {
     "name": "stdout",
     "output_type": "stream",
     "text": [
      "20120511  done\n",
      "20120512  nodata\n"
     ]
    },
    {
     "name": "stderr",
     "output_type": "stream",
     "text": [
      "root        : ERROR    20120513{\"retCode\": -1, \"retMsg\": \"No Data Returned\"}\n"
     ]
    },
    {
     "name": "stdout",
     "output_type": "stream",
     "text": [
      "20120513  nodata\n",
      "20120514  done\n",
      "20120515  done\n",
      "20120516  done\n",
      "20120517  done\n"
     ]
    },
    {
     "name": "stderr",
     "output_type": "stream",
     "text": [
      "root        : ERROR    20120519{\"retCode\": -1, \"retMsg\": \"No Data Returned\"}\n"
     ]
    },
    {
     "name": "stdout",
     "output_type": "stream",
     "text": [
      "20120518  done\n",
      "20120519  nodata\n"
     ]
    },
    {
     "name": "stderr",
     "output_type": "stream",
     "text": [
      "root        : ERROR    20120520{\"retCode\": -1, \"retMsg\": \"No Data Returned\"}\n"
     ]
    },
    {
     "name": "stdout",
     "output_type": "stream",
     "text": [
      "20120520  nodata\n",
      "20120521  done\n",
      "20120522  done\n",
      "20120523  done\n",
      "20120524  done\n"
     ]
    },
    {
     "name": "stderr",
     "output_type": "stream",
     "text": [
      "root        : ERROR    20120526{\"retCode\": -1, \"retMsg\": \"No Data Returned\"}\n"
     ]
    },
    {
     "name": "stdout",
     "output_type": "stream",
     "text": [
      "20120525  done\n",
      "20120526  nodata\n"
     ]
    },
    {
     "name": "stderr",
     "output_type": "stream",
     "text": [
      "root        : ERROR    20120527{\"retCode\": -1, \"retMsg\": \"No Data Returned\"}\n"
     ]
    },
    {
     "name": "stdout",
     "output_type": "stream",
     "text": [
      "20120527  nodata\n",
      "20120528  done\n",
      "20120529  done\n",
      "20120530  done\n",
      "20120531  done\n"
     ]
    },
    {
     "name": "stderr",
     "output_type": "stream",
     "text": [
      "root        : ERROR    20120602{\"retCode\": -1, \"retMsg\": \"No Data Returned\"}\n"
     ]
    },
    {
     "name": "stdout",
     "output_type": "stream",
     "text": [
      "20120601  done\n",
      "20120602  nodata\n"
     ]
    },
    {
     "name": "stderr",
     "output_type": "stream",
     "text": [
      "root        : ERROR    20120603{\"retCode\": -1, \"retMsg\": \"No Data Returned\"}\n"
     ]
    },
    {
     "name": "stdout",
     "output_type": "stream",
     "text": [
      "20120603  nodata\n",
      "20120604  done\n",
      "20120605  done\n",
      "20120606  done\n",
      "20120607  done\n"
     ]
    },
    {
     "name": "stderr",
     "output_type": "stream",
     "text": [
      "root        : ERROR    20120609{\"retCode\": -1, \"retMsg\": \"No Data Returned\"}\n"
     ]
    },
    {
     "name": "stdout",
     "output_type": "stream",
     "text": [
      "20120608  done\n",
      "20120609  nodata\n"
     ]
    },
    {
     "name": "stderr",
     "output_type": "stream",
     "text": [
      "root        : ERROR    20120610{\"retCode\": -1, \"retMsg\": \"No Data Returned\"}\n"
     ]
    },
    {
     "name": "stdout",
     "output_type": "stream",
     "text": [
      "20120610  nodata\n",
      "20120611  done\n",
      "20120612  done\n",
      "20120613  done\n",
      "20120614  done\n"
     ]
    },
    {
     "name": "stderr",
     "output_type": "stream",
     "text": [
      "root        : ERROR    20120616{\"retCode\": -1, \"retMsg\": \"No Data Returned\"}\n"
     ]
    },
    {
     "name": "stdout",
     "output_type": "stream",
     "text": [
      "20120615  done\n",
      "20120616  nodata\n"
     ]
    },
    {
     "name": "stderr",
     "output_type": "stream",
     "text": [
      "root        : ERROR    20120617{\"retCode\": -1, \"retMsg\": \"No Data Returned\"}\n"
     ]
    },
    {
     "name": "stdout",
     "output_type": "stream",
     "text": [
      "20120617  nodata\n",
      "20120618  done\n",
      "20120619  done\n",
      "20120620  done\n"
     ]
    },
    {
     "name": "stderr",
     "output_type": "stream",
     "text": [
      "root        : ERROR    20120622{\"retCode\": -1, \"retMsg\": \"No Data Returned\"}\n"
     ]
    },
    {
     "name": "stdout",
     "output_type": "stream",
     "text": [
      "20120621  done\n",
      "20120622  nodata\n"
     ]
    },
    {
     "name": "stderr",
     "output_type": "stream",
     "text": [
      "root        : ERROR    20120623{\"retCode\": -1, \"retMsg\": \"No Data Returned\"}\n",
      "root        : ERROR    20120624{\"retCode\": -1, \"retMsg\": \"No Data Returned\"}\n"
     ]
    },
    {
     "name": "stdout",
     "output_type": "stream",
     "text": [
      "20120623  nodata\n",
      "20120624  nodata\n",
      "20120625  done\n",
      "20120626  done\n",
      "20120627  done\n",
      "20120628  done\n"
     ]
    },
    {
     "name": "stderr",
     "output_type": "stream",
     "text": [
      "root        : ERROR    20120630{\"retCode\": -1, \"retMsg\": \"No Data Returned\"}\n"
     ]
    },
    {
     "name": "stdout",
     "output_type": "stream",
     "text": [
      "20120629  done\n",
      "20120630  nodata\n"
     ]
    },
    {
     "name": "stderr",
     "output_type": "stream",
     "text": [
      "root        : ERROR    20120701{\"retCode\": -1, \"retMsg\": \"No Data Returned\"}\n"
     ]
    },
    {
     "name": "stdout",
     "output_type": "stream",
     "text": [
      "20120701  nodata\n",
      "20120702  done\n",
      "20120703  done\n",
      "20120704  done\n",
      "20120705  done\n"
     ]
    },
    {
     "name": "stderr",
     "output_type": "stream",
     "text": [
      "root        : ERROR    20120707{\"retCode\": -1, \"retMsg\": \"No Data Returned\"}\n"
     ]
    },
    {
     "name": "stdout",
     "output_type": "stream",
     "text": [
      "20120706  done\n",
      "20120707  nodata\n"
     ]
    },
    {
     "name": "stderr",
     "output_type": "stream",
     "text": [
      "root        : ERROR    20120708{\"retCode\": -1, \"retMsg\": \"No Data Returned\"}\n"
     ]
    },
    {
     "name": "stdout",
     "output_type": "stream",
     "text": [
      "20120708  nodata\n",
      "20120709  done\n",
      "20120710  done\n",
      "20120711  done\n",
      "20120712  done\n"
     ]
    },
    {
     "name": "stderr",
     "output_type": "stream",
     "text": [
      "root        : ERROR    20120714{\"retCode\": -1, \"retMsg\": \"No Data Returned\"}\n"
     ]
    },
    {
     "name": "stdout",
     "output_type": "stream",
     "text": [
      "20120713  done\n",
      "20120714  nodata\n"
     ]
    },
    {
     "name": "stderr",
     "output_type": "stream",
     "text": [
      "root        : ERROR    20120715{\"retCode\": -1, \"retMsg\": \"No Data Returned\"}\n"
     ]
    },
    {
     "name": "stdout",
     "output_type": "stream",
     "text": [
      "20120715  nodata\n",
      "20120716  done\n",
      "20120717  done\n",
      "20120718  done\n",
      "20120719  done\n"
     ]
    },
    {
     "name": "stderr",
     "output_type": "stream",
     "text": [
      "root        : ERROR    20120721{\"retCode\": -1, \"retMsg\": \"No Data Returned\"}\n"
     ]
    },
    {
     "name": "stdout",
     "output_type": "stream",
     "text": [
      "20120720  done\n",
      "20120721  nodata\n"
     ]
    },
    {
     "name": "stderr",
     "output_type": "stream",
     "text": [
      "root        : ERROR    20120722{\"retCode\": -1, \"retMsg\": \"No Data Returned\"}\n"
     ]
    },
    {
     "name": "stdout",
     "output_type": "stream",
     "text": [
      "20120722  nodata\n",
      "20120723  done\n",
      "20120724  done\n",
      "20120725  done\n",
      "20120726  done\n"
     ]
    },
    {
     "name": "stderr",
     "output_type": "stream",
     "text": [
      "root        : ERROR    20120728{\"retCode\": -1, \"retMsg\": \"No Data Returned\"}\n"
     ]
    },
    {
     "name": "stdout",
     "output_type": "stream",
     "text": [
      "20120727  done\n",
      "20120728  nodata\n"
     ]
    },
    {
     "name": "stderr",
     "output_type": "stream",
     "text": [
      "root        : ERROR    20120729{\"retCode\": -1, \"retMsg\": \"No Data Returned\"}\n"
     ]
    },
    {
     "name": "stdout",
     "output_type": "stream",
     "text": [
      "20120729  nodata\n",
      "20120730  done\n",
      "20120731  done\n",
      "20120801  done\n",
      "20120802  done\n"
     ]
    },
    {
     "name": "stderr",
     "output_type": "stream",
     "text": [
      "root        : ERROR    20120804{\"retCode\": -1, \"retMsg\": \"No Data Returned\"}\n"
     ]
    },
    {
     "name": "stdout",
     "output_type": "stream",
     "text": [
      "20120803  done\n",
      "20120804  nodata\n"
     ]
    },
    {
     "name": "stderr",
     "output_type": "stream",
     "text": [
      "root        : ERROR    20120805{\"retCode\": -1, \"retMsg\": \"No Data Returned\"}\n"
     ]
    },
    {
     "name": "stdout",
     "output_type": "stream",
     "text": [
      "20120805  nodata\n",
      "20120806  done\n",
      "20120807  done\n",
      "20120808  done\n",
      "20120809  done\n"
     ]
    },
    {
     "name": "stderr",
     "output_type": "stream",
     "text": [
      "root        : ERROR    20120811{\"retCode\": -1, \"retMsg\": \"No Data Returned\"}\n"
     ]
    },
    {
     "name": "stdout",
     "output_type": "stream",
     "text": [
      "20120810  done\n",
      "20120811  nodata\n"
     ]
    },
    {
     "name": "stderr",
     "output_type": "stream",
     "text": [
      "root        : ERROR    20120812{\"retCode\": -1, \"retMsg\": \"No Data Returned\"}\n"
     ]
    },
    {
     "name": "stdout",
     "output_type": "stream",
     "text": [
      "20120812  nodata\n",
      "20120813  done\n",
      "20120814  done\n",
      "20120815  done\n",
      "20120816  done\n"
     ]
    },
    {
     "name": "stderr",
     "output_type": "stream",
     "text": [
      "root        : ERROR    20120818{\"retCode\": -1, \"retMsg\": \"No Data Returned\"}\n"
     ]
    },
    {
     "name": "stdout",
     "output_type": "stream",
     "text": [
      "20120817  done\n",
      "20120818  nodata\n"
     ]
    },
    {
     "name": "stderr",
     "output_type": "stream",
     "text": [
      "root        : ERROR    20120819{\"retCode\": -1, \"retMsg\": \"No Data Returned\"}\n"
     ]
    },
    {
     "name": "stdout",
     "output_type": "stream",
     "text": [
      "20120819  nodata\n",
      "20120820  done\n",
      "20120821  done\n",
      "20120822  done\n",
      "20120823  done\n"
     ]
    },
    {
     "name": "stderr",
     "output_type": "stream",
     "text": [
      "root        : ERROR    20120825{\"retCode\": -1, \"retMsg\": \"No Data Returned\"}\n"
     ]
    },
    {
     "name": "stdout",
     "output_type": "stream",
     "text": [
      "20120824  done\n",
      "20120825  nodata\n"
     ]
    },
    {
     "name": "stderr",
     "output_type": "stream",
     "text": [
      "root        : ERROR    20120826{\"retCode\": -1, \"retMsg\": \"No Data Returned\"}\n"
     ]
    },
    {
     "name": "stdout",
     "output_type": "stream",
     "text": [
      "20120826  nodata\n",
      "20120827  done\n",
      "20120828  done\n",
      "20120829  done\n",
      "20120830  done\n"
     ]
    },
    {
     "name": "stderr",
     "output_type": "stream",
     "text": [
      "root        : ERROR    20120901{\"retCode\": -1, \"retMsg\": \"No Data Returned\"}\n"
     ]
    },
    {
     "name": "stdout",
     "output_type": "stream",
     "text": [
      "20120831  done\n",
      "20120901  nodata\n"
     ]
    },
    {
     "name": "stderr",
     "output_type": "stream",
     "text": [
      "root        : ERROR    20120902{\"retCode\": -1, \"retMsg\": \"No Data Returned\"}\n"
     ]
    },
    {
     "name": "stdout",
     "output_type": "stream",
     "text": [
      "20120902  nodata\n",
      "20120903  done\n",
      "20120904  done\n",
      "20120905  done\n",
      "20120906  done\n"
     ]
    },
    {
     "name": "stderr",
     "output_type": "stream",
     "text": [
      "root        : ERROR    20120908{\"retCode\": -1, \"retMsg\": \"No Data Returned\"}\n"
     ]
    },
    {
     "name": "stdout",
     "output_type": "stream",
     "text": [
      "20120907  done\n",
      "20120908  nodata\n"
     ]
    },
    {
     "name": "stderr",
     "output_type": "stream",
     "text": [
      "root        : ERROR    20120909{\"retCode\": -1, \"retMsg\": \"No Data Returned\"}\n"
     ]
    },
    {
     "name": "stdout",
     "output_type": "stream",
     "text": [
      "20120909  nodata\n",
      "20120910  done\n",
      "20120911  done\n",
      "20120912  done\n",
      "20120913  done\n"
     ]
    },
    {
     "name": "stderr",
     "output_type": "stream",
     "text": [
      "root        : ERROR    20120915{\"retCode\": -1, \"retMsg\": \"No Data Returned\"}\n"
     ]
    },
    {
     "name": "stdout",
     "output_type": "stream",
     "text": [
      "20120914  done\n",
      "20120915  nodata\n"
     ]
    },
    {
     "name": "stderr",
     "output_type": "stream",
     "text": [
      "root        : ERROR    20120916{\"retCode\": -1, \"retMsg\": \"No Data Returned\"}\n"
     ]
    },
    {
     "name": "stdout",
     "output_type": "stream",
     "text": [
      "20120916  nodata\n",
      "20120917  done\n",
      "20120918  done\n",
      "20120919  done\n",
      "20120920  done\n"
     ]
    },
    {
     "name": "stderr",
     "output_type": "stream",
     "text": [
      "root        : ERROR    20120922{\"retCode\": -1, \"retMsg\": \"No Data Returned\"}\n"
     ]
    },
    {
     "name": "stdout",
     "output_type": "stream",
     "text": [
      "20120921  done\n",
      "20120922  nodata\n"
     ]
    },
    {
     "name": "stderr",
     "output_type": "stream",
     "text": [
      "root        : ERROR    20120923{\"retCode\": -1, \"retMsg\": \"No Data Returned\"}\n"
     ]
    },
    {
     "name": "stdout",
     "output_type": "stream",
     "text": [
      "20120923  nodata\n",
      "20120924  done\n",
      "20120925  done\n",
      "20120926  done\n",
      "20120927  done\n"
     ]
    },
    {
     "name": "stderr",
     "output_type": "stream",
     "text": [
      "root        : ERROR    20120929{\"retCode\": -1, \"retMsg\": \"No Data Returned\"}\n"
     ]
    },
    {
     "name": "stdout",
     "output_type": "stream",
     "text": [
      "20120928  done\n",
      "20120929  nodata\n"
     ]
    },
    {
     "name": "stderr",
     "output_type": "stream",
     "text": [
      "root        : ERROR    20120930{\"retCode\": -1, \"retMsg\": \"No Data Returned\"}\n",
      "root        : ERROR    20121001{\"retCode\": -1, \"retMsg\": \"No Data Returned\"}\n"
     ]
    },
    {
     "name": "stdout",
     "output_type": "stream",
     "text": [
      "20120930  nodata\n",
      "20121001  nodata\n"
     ]
    },
    {
     "name": "stderr",
     "output_type": "stream",
     "text": [
      "root        : ERROR    20121002{\"retCode\": -1, \"retMsg\": \"No Data Returned\"}\n",
      "root        : ERROR    20121003{\"retCode\": -1, \"retMsg\": \"No Data Returned\"}\n"
     ]
    },
    {
     "name": "stdout",
     "output_type": "stream",
     "text": [
      "20121002  nodata\n",
      "20121003  nodata\n"
     ]
    },
    {
     "name": "stderr",
     "output_type": "stream",
     "text": [
      "root        : ERROR    20121004{\"retCode\": -1, \"retMsg\": \"No Data Returned\"}\n",
      "root        : ERROR    20121005{\"retCode\": -1, \"retMsg\": \"No Data Returned\"}\n"
     ]
    },
    {
     "name": "stdout",
     "output_type": "stream",
     "text": [
      "20121004  nodata\n",
      "20121005  nodata\n"
     ]
    },
    {
     "name": "stderr",
     "output_type": "stream",
     "text": [
      "root        : ERROR    20121006{\"retCode\": -1, \"retMsg\": \"No Data Returned\"}\n",
      "root        : ERROR    20121007{\"retCode\": -1, \"retMsg\": \"No Data Returned\"}\n"
     ]
    },
    {
     "name": "stdout",
     "output_type": "stream",
     "text": [
      "20121006  nodata\n",
      "20121007  nodata\n",
      "20121008  done\n",
      "20121009  done\n",
      "20121010  done\n",
      "20121011  done\n"
     ]
    },
    {
     "name": "stderr",
     "output_type": "stream",
     "text": [
      "root        : ERROR    20121013{\"retCode\": -1, \"retMsg\": \"No Data Returned\"}\n"
     ]
    },
    {
     "name": "stdout",
     "output_type": "stream",
     "text": [
      "20121012  done\n",
      "20121013  nodata\n"
     ]
    },
    {
     "name": "stderr",
     "output_type": "stream",
     "text": [
      "root        : ERROR    20121014{\"retCode\": -1, \"retMsg\": \"No Data Returned\"}\n"
     ]
    },
    {
     "name": "stdout",
     "output_type": "stream",
     "text": [
      "20121014  nodata\n",
      "20121015  done\n",
      "20121016  done\n",
      "20121017  done\n",
      "20121018  done\n"
     ]
    },
    {
     "name": "stderr",
     "output_type": "stream",
     "text": [
      "root        : ERROR    20121020{\"retCode\": -1, \"retMsg\": \"No Data Returned\"}\n"
     ]
    },
    {
     "name": "stdout",
     "output_type": "stream",
     "text": [
      "20121019  done\n",
      "20121020  nodata\n"
     ]
    },
    {
     "name": "stderr",
     "output_type": "stream",
     "text": [
      "root        : ERROR    20121021{\"retCode\": -1, \"retMsg\": \"No Data Returned\"}\n"
     ]
    },
    {
     "name": "stdout",
     "output_type": "stream",
     "text": [
      "20121021  nodata\n",
      "20121022  done\n",
      "20121023  done\n",
      "20121024  done\n",
      "20121025  done\n"
     ]
    },
    {
     "name": "stderr",
     "output_type": "stream",
     "text": [
      "root        : ERROR    20121027{\"retCode\": -1, \"retMsg\": \"No Data Returned\"}\n"
     ]
    },
    {
     "name": "stdout",
     "output_type": "stream",
     "text": [
      "20121026  done\n",
      "20121027  nodata\n"
     ]
    },
    {
     "name": "stderr",
     "output_type": "stream",
     "text": [
      "root        : ERROR    20121028{\"retCode\": -1, \"retMsg\": \"No Data Returned\"}\n"
     ]
    },
    {
     "name": "stdout",
     "output_type": "stream",
     "text": [
      "20121028  nodata\n",
      "20121029  done\n",
      "20121030  done\n",
      "20121031  done\n",
      "20121101  done\n"
     ]
    },
    {
     "name": "stderr",
     "output_type": "stream",
     "text": [
      "root        : ERROR    20121103{\"retCode\": -1, \"retMsg\": \"No Data Returned\"}\n"
     ]
    },
    {
     "name": "stdout",
     "output_type": "stream",
     "text": [
      "20121102  done\n",
      "20121103  nodata\n"
     ]
    },
    {
     "name": "stderr",
     "output_type": "stream",
     "text": [
      "root        : ERROR    20121104{\"retCode\": -1, \"retMsg\": \"No Data Returned\"}\n"
     ]
    },
    {
     "name": "stdout",
     "output_type": "stream",
     "text": [
      "20121104  nodata\n",
      "20121105  done\n",
      "20121106  done\n",
      "20121107  done\n",
      "20121108  done\n"
     ]
    },
    {
     "name": "stderr",
     "output_type": "stream",
     "text": [
      "root        : ERROR    20121110{\"retCode\": -1, \"retMsg\": \"No Data Returned\"}\n"
     ]
    },
    {
     "name": "stdout",
     "output_type": "stream",
     "text": [
      "20121109  done\n",
      "20121110  nodata\n"
     ]
    },
    {
     "name": "stderr",
     "output_type": "stream",
     "text": [
      "root        : ERROR    20121111{\"retCode\": -1, \"retMsg\": \"No Data Returned\"}\n"
     ]
    },
    {
     "name": "stdout",
     "output_type": "stream",
     "text": [
      "20121111  nodata\n",
      "20121112  done\n",
      "20121113  done\n",
      "20121114  done\n",
      "20121115  done\n"
     ]
    },
    {
     "name": "stderr",
     "output_type": "stream",
     "text": [
      "root        : ERROR    20121117{\"retCode\": -1, \"retMsg\": \"No Data Returned\"}\n"
     ]
    },
    {
     "name": "stdout",
     "output_type": "stream",
     "text": [
      "20121116  done\n",
      "20121117  nodata\n"
     ]
    },
    {
     "name": "stderr",
     "output_type": "stream",
     "text": [
      "root        : ERROR    20121118{\"retCode\": -1, \"retMsg\": \"No Data Returned\"}\n"
     ]
    },
    {
     "name": "stdout",
     "output_type": "stream",
     "text": [
      "20121118  nodata\n",
      "20121119  done\n",
      "20121120  done\n",
      "20121121  done\n",
      "20121122  done\n"
     ]
    },
    {
     "name": "stderr",
     "output_type": "stream",
     "text": [
      "root        : ERROR    20121124{\"retCode\": -1, \"retMsg\": \"No Data Returned\"}\n"
     ]
    },
    {
     "name": "stdout",
     "output_type": "stream",
     "text": [
      "20121123  done\n",
      "20121124  nodata\n"
     ]
    },
    {
     "name": "stderr",
     "output_type": "stream",
     "text": [
      "root        : ERROR    20121125{\"retCode\": -1, \"retMsg\": \"No Data Returned\"}\n"
     ]
    },
    {
     "name": "stdout",
     "output_type": "stream",
     "text": [
      "20121125  nodata\n",
      "20121126  done\n",
      "20121127  done\n",
      "20121128  done\n",
      "20121129  done\n"
     ]
    },
    {
     "name": "stderr",
     "output_type": "stream",
     "text": [
      "root        : ERROR    20121201{\"retCode\": -1, \"retMsg\": \"No Data Returned\"}\n"
     ]
    },
    {
     "name": "stdout",
     "output_type": "stream",
     "text": [
      "20121130  done\n",
      "20121201  nodata\n"
     ]
    },
    {
     "name": "stderr",
     "output_type": "stream",
     "text": [
      "root        : ERROR    20121202{\"retCode\": -1, \"retMsg\": \"No Data Returned\"}\n"
     ]
    },
    {
     "name": "stdout",
     "output_type": "stream",
     "text": [
      "20121202  nodata\n",
      "20121203  done\n",
      "20121204  done\n",
      "20121205  done\n",
      "20121206  done\n"
     ]
    },
    {
     "name": "stderr",
     "output_type": "stream",
     "text": [
      "root        : ERROR    20121208{\"retCode\": -1, \"retMsg\": \"No Data Returned\"}\n"
     ]
    },
    {
     "name": "stdout",
     "output_type": "stream",
     "text": [
      "20121207  done\n",
      "20121208  nodata\n"
     ]
    },
    {
     "name": "stderr",
     "output_type": "stream",
     "text": [
      "root        : ERROR    20121209{\"retCode\": -1, \"retMsg\": \"No Data Returned\"}\n"
     ]
    },
    {
     "name": "stdout",
     "output_type": "stream",
     "text": [
      "20121209  nodata\n",
      "20121210  done\n",
      "20121211  done\n",
      "20121212  done\n",
      "20121213  done\n"
     ]
    },
    {
     "name": "stderr",
     "output_type": "stream",
     "text": [
      "root        : ERROR    20121215{\"retCode\": -1, \"retMsg\": \"No Data Returned\"}\n"
     ]
    },
    {
     "name": "stdout",
     "output_type": "stream",
     "text": [
      "20121214  done\n",
      "20121215  nodata\n"
     ]
    },
    {
     "name": "stderr",
     "output_type": "stream",
     "text": [
      "root        : ERROR    20121216{\"retCode\": -1, \"retMsg\": \"No Data Returned\"}\n"
     ]
    },
    {
     "name": "stdout",
     "output_type": "stream",
     "text": [
      "20121216  nodata\n",
      "20121217  done\n",
      "20121218  done\n",
      "20121219  done\n",
      "20121220  done\n"
     ]
    },
    {
     "name": "stderr",
     "output_type": "stream",
     "text": [
      "root        : ERROR    20121222{\"retCode\": -1, \"retMsg\": \"No Data Returned\"}\n"
     ]
    },
    {
     "name": "stdout",
     "output_type": "stream",
     "text": [
      "20121221  done\n",
      "20121222  nodata\n"
     ]
    },
    {
     "name": "stderr",
     "output_type": "stream",
     "text": [
      "root        : ERROR    20121223{\"retCode\": -1, \"retMsg\": \"No Data Returned\"}\n"
     ]
    },
    {
     "name": "stdout",
     "output_type": "stream",
     "text": [
      "20121223  nodata\n",
      "20121224  done\n",
      "20121225  done\n",
      "20121226  done\n",
      "20121227  done\n"
     ]
    },
    {
     "name": "stderr",
     "output_type": "stream",
     "text": [
      "root        : ERROR    20121229{\"retCode\": -1, \"retMsg\": \"No Data Returned\"}\n"
     ]
    },
    {
     "name": "stdout",
     "output_type": "stream",
     "text": [
      "20121228  done\n",
      "20121229  nodata\n"
     ]
    },
    {
     "name": "stderr",
     "output_type": "stream",
     "text": [
      "root        : ERROR    20121230{\"retCode\": -1, \"retMsg\": \"No Data Returned\"}\n"
     ]
    },
    {
     "name": "stdout",
     "output_type": "stream",
     "text": [
      "20121230  nodata\n"
     ]
    },
    {
     "name": "stderr",
     "output_type": "stream",
     "text": [
      "root        : ERROR    20130101{\"retCode\": -1, \"retMsg\": \"No Data Returned\"}\n"
     ]
    },
    {
     "name": "stdout",
     "output_type": "stream",
     "text": [
      "20121231  done\n",
      "20130101  nodata\n"
     ]
    },
    {
     "name": "stderr",
     "output_type": "stream",
     "text": [
      "root        : ERROR    20130102{\"retCode\": -1, \"retMsg\": \"No Data Returned\"}\n",
      "root        : ERROR    20130103{\"retCode\": -1, \"retMsg\": \"No Data Returned\"}\n"
     ]
    },
    {
     "name": "stdout",
     "output_type": "stream",
     "text": [
      "20130102  nodata\n",
      "20130103  nodata\n"
     ]
    },
    {
     "name": "stderr",
     "output_type": "stream",
     "text": [
      "root        : ERROR    20130105{\"retCode\": -1, \"retMsg\": \"No Data Returned\"}\n"
     ]
    },
    {
     "name": "stdout",
     "output_type": "stream",
     "text": [
      "20130104  done\n",
      "20130105  nodata\n"
     ]
    },
    {
     "name": "stderr",
     "output_type": "stream",
     "text": [
      "root        : ERROR    20130106{\"retCode\": -1, \"retMsg\": \"No Data Returned\"}\n"
     ]
    },
    {
     "name": "stdout",
     "output_type": "stream",
     "text": [
      "20130106  nodata\n",
      "20130107  done\n",
      "20130108  done\n",
      "20130109  done\n",
      "20130110  done\n"
     ]
    },
    {
     "name": "stderr",
     "output_type": "stream",
     "text": [
      "root        : ERROR    20130112{\"retCode\": -1, \"retMsg\": \"No Data Returned\"}\n"
     ]
    },
    {
     "name": "stdout",
     "output_type": "stream",
     "text": [
      "20130111  done\n",
      "20130112  nodata\n"
     ]
    },
    {
     "name": "stderr",
     "output_type": "stream",
     "text": [
      "root        : ERROR    20130113{\"retCode\": -1, \"retMsg\": \"No Data Returned\"}\n"
     ]
    },
    {
     "name": "stdout",
     "output_type": "stream",
     "text": [
      "20130113  nodata\n",
      "20130114  done\n",
      "20130115  done\n",
      "20130116  done\n",
      "20130117  done\n"
     ]
    },
    {
     "name": "stderr",
     "output_type": "stream",
     "text": [
      "root        : ERROR    20130119{\"retCode\": -1, \"retMsg\": \"No Data Returned\"}\n"
     ]
    },
    {
     "name": "stdout",
     "output_type": "stream",
     "text": [
      "20130118  done\n",
      "20130119  nodata\n"
     ]
    },
    {
     "name": "stderr",
     "output_type": "stream",
     "text": [
      "root        : ERROR    20130120{\"retCode\": -1, \"retMsg\": \"No Data Returned\"}\n"
     ]
    },
    {
     "name": "stdout",
     "output_type": "stream",
     "text": [
      "20130120  nodata\n",
      "20130121  done\n",
      "20130122  done\n",
      "20130123  done\n",
      "20130124  done\n"
     ]
    },
    {
     "name": "stderr",
     "output_type": "stream",
     "text": [
      "root        : ERROR    20130126{\"retCode\": -1, \"retMsg\": \"No Data Returned\"}\n"
     ]
    },
    {
     "name": "stdout",
     "output_type": "stream",
     "text": [
      "20130125  done\n",
      "20130126  nodata\n"
     ]
    },
    {
     "name": "stderr",
     "output_type": "stream",
     "text": [
      "root        : ERROR    20130127{\"retCode\": -1, \"retMsg\": \"No Data Returned\"}\n"
     ]
    },
    {
     "name": "stdout",
     "output_type": "stream",
     "text": [
      "20130127  nodata\n",
      "20130128  done\n",
      "20130129  done\n",
      "20130130  done\n",
      "20130131  done\n"
     ]
    }
   ],
   "source": [
    "if __name__==\"__main__\":\n",
    "    log_format = \"%(filename)s [%(asctime)s] [%(levelname)s] %(message)s\"\n",
    "    logging.basicConfig(format=log_format,datefmt='%Y-%m-%d %H:%M:%S %p',level=logging.DEBUG)\n",
    "    \n",
    "    # 定义一个Handler打印Debug及以上级别的日志到sys.stderr  \n",
    "    console = logging.StreamHandler()  \n",
    "    console.setLevel(logging.DEBUG)  \n",
    "    # 设置日志打印格式  \n",
    "    formatter = logging.Formatter('%(name)-12s: %(levelname)-8s %(message)s') \n",
    "    console.setFormatter(formatter)  \n",
    "    # 将定义好的console日志handler添加到root logger  \n",
    "    logging.getLogger(\"\").addHandler(console)  \n",
    "    \n",
    "    #定义redis链接\n",
    "    redishost=os.getenv('REDIS_PORT_6379_TCP_ADDR')\n",
    "    r = redis.Redis(host=redishost,port=6379,db=0)\n",
    "    \n",
    "    #tk=TLMtkData(sys.argv[1])\n",
    "    tk=TLMtkData(\"00b8a504099fb24bb62772d1318f69abd0ab4575734770349aaeaf6e3774557d\")\n",
    "    \n",
    "    #begin=datetime.datetime.strptime(sys.argv[1], \"%Y%m%d\")   \n",
    "    #end=datetime.datetime.strptime(sys.argv[2], \"%Y%m%d\")\n",
    "    begin = datetime.date(2007, 1, 1)  \n",
    "    end = datetime.date(2016,4,24)\n",
    "    \n",
    "    store = pd.HDFStore('/data/notebooks/mtkdata/store_day.h5')\n",
    "    \n",
    "    for i in range((end - begin).days+1):  \n",
    "        day = begin + datetime.timedelta(days=i)\n",
    "        daystr=datetime.datetime.strftime(day,'%Y%m%d')\n",
    "        #filename=\"/data/notebooks/mtkdata/mtk_\"+daystr+\".pk\"\n",
    "        #if (os.path.exists(filename)==False):       \n",
    "        if (hasMtkDate(store,daystr)==False):\n",
    "            rsp=tk.getMktEqud(tradeDate=daystr)\n",
    "            #print rsp\n",
    "        \n",
    "            if (rsp==None):\n",
    "            #savetoRedis(r,\"mtkdate:\"+daystr,json.dumps(rsp))\n",
    "            #print daystr,\" error\"\n",
    "            #rsp={\"data\":[]}  # 写入空数据\n",
    "            #r.hset(\"dateList\",daystr,0)\n",
    "                print daystr,\" nodata\"\n",
    "                continue\n",
    "            #else:\n",
    "            #r.hset(\"dateList\",daystr,1)\n",
    "\n",
    "            df=pd.DataFrame(rsp[\"data\"])\n",
    "            \n",
    "            \n",
    "        \n",
    "            #解决unicode转换\n",
    "            types = df.apply(lambda x: pd.lib.infer_dtype(x.values))\n",
    "            for col in types[types=='unicode'].index:\n",
    "                df[col] = [c.encode('utf-8') for c in df[col].values]\n",
    "            \n",
    "            #print types\n",
    "            \n",
    "            #解决类型猜测错误问题\n",
    "            for col in types[types=='integer'].index:\n",
    "                if col not in ['isOpen']:\n",
    "                    #print col\n",
    "                    df[col] = df[col].astype(float)\n",
    "            \n",
    "            \n",
    "            \n",
    "            df.columns = [str(c) for c in df.columns]\n",
    "\n",
    "            df=df.set_index(['tradeDate','secID'])\n",
    "            \n",
    "            #print df.dtypes\n",
    "        \n",
    "            store.append('mtkdate', df)\n",
    "            #df.to_hdf('/data/notebooks/mtkdata/store_day.h5',\"mtkdate\",append=True)\n",
    "    \n",
    "        #savetoRedis(r,\"mtkdate:\"+daystr,json.dumps(rsp))\n",
    "            print daystr,\" done\"\n",
    "        else:\n",
    "            print daystr,\" has data\"\n",
    "    \n",
    "    store.close()\n",
    "    "
   ]
  },
  {
   "cell_type": "code",
   "execution_count": null,
   "metadata": {
    "collapsed": true
   },
   "outputs": [],
   "source": []
  },
  {
   "cell_type": "code",
   "execution_count": null,
   "metadata": {
    "collapsed": true
   },
   "outputs": [],
   "source": []
  },
  {
   "cell_type": "code",
   "execution_count": null,
   "metadata": {
    "collapsed": true
   },
   "outputs": [],
   "source": []
  }
 ],
 "metadata": {
  "kernelspec": {
   "display_name": "Python 2",
   "language": "python",
   "name": "python2"
  },
  "language_info": {
   "codemirror_mode": {
    "name": "ipython",
    "version": 2
   },
   "file_extension": ".py",
   "mimetype": "text/x-python",
   "name": "python",
   "nbconvert_exporter": "python",
   "pygments_lexer": "ipython2",
   "version": "2.7.11"
  }
 },
 "nbformat": 4,
 "nbformat_minor": 0
}
