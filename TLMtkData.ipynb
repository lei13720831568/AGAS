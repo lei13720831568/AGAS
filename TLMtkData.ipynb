{
 "cells": [
  {
   "cell_type": "code",
   "execution_count": 1,
   "metadata": {
    "collapsed": false
   },
   "outputs": [],
   "source": [
    "import requests\n",
    "import json\n",
    "import urlparse\n",
    "import logging\n",
    "import pandas as pd\n",
    "import sys\n",
    "import datetime\n",
    "from IPython.display import display\n",
    "import redis\n",
    "import os"
   ]
  },
  {
   "cell_type": "code",
   "execution_count": 2,
   "metadata": {
    "collapsed": false
   },
   "outputs": [],
   "source": [
    "class TLMtkData:\n",
    "    def __init__(self,token):\n",
    "        self.token=token\n",
    "        self.root_url=\"https://api.wmcloud.com:443/data/v1/\"\n",
    "        self._initfuncmap()\n",
    "    \n",
    "    def _initfuncmap(self):\n",
    "        self.funcmap={\"getMktEqud\":\"api/market/getMktEqud.json\"}\n",
    "        \n",
    "    def _getHttp(self,url,payload):\n",
    "        head_auth = {\"Authorization\": \"Bearer \"+self.token}\n",
    "        try:\n",
    "            r=requests.get(url,params=payload,headers=head_auth,timeout=60)\n",
    "        except:\n",
    "            logging.error(url+\" timeout\")   \n",
    "            return None\n",
    "        return r\n",
    "        #payload = {'key1': 'value1', 'key2': 'value2'}\n",
    "    \n",
    "    def getMktEqud(self,secID=\"\",ticker=\"\",tradeDate=\"\",field=\"\"):\n",
    "        \"\"\"request\n",
    "        secID\tstring\t3选1\t证券内部编码，可通过交易代码在getSecID获取到。（可多值输入，最多输入50只）\n",
    "        ticker\tstring\t3选1\t股票交易代码，如'000001'（可多值输入，最多输入50只）\n",
    "        tradeDate\tDate\t3选1\t输入一个日期，不输入其他请求参数，可获取到一天全部沪深股票日行情数据，输入格式“YYYYMMDD”\n",
    "        beginDate\tDate\t否\t起始日期，输入格式“YYYYMMDD”\n",
    "        endDate\tDate\t否\t截止日期，输入格式“YYYYMMDD”\n",
    "        isOpen\tInt32\t否\t股票今日是否开盘标记位：0-今日未开盘，1-今日有开盘\n",
    "        field\tstring\t是\t可选参数，用\",\"分隔,默认为空，返回全部字段，不选即为默认值。返回字段见下方\n",
    "        \"\"\"\n",
    "        if (secID==\"\" and ticker==\"\" and tradeDate==\"\"):\n",
    "            raise ValueError(\"secID,ticker,tradeDate 至少填写一个\")\n",
    "        \n",
    "        req_params={\"secID\":secID,\"ticker\":ticker,\"tradeDate\":tradeDate,\"field\":field}\n",
    "        \n",
    "        desturl=urlparse.urljoin(self.root_url,self.funcmap[\"getMktEqud\"])\n",
    "        \n",
    "        #print u\"请求地址:\",desturl\n",
    "        \n",
    "        r=self._getHttp(desturl,req_params)\n",
    "        \n",
    "        while (r==None):\n",
    "            time.sleep(20)\n",
    "            r=self._getHttp(desturl,req_params)\n",
    "        \n",
    "        if (r.status_code!=200):\n",
    "            logging.error(\"req \"+r.url+r.status_code)\n",
    "            return None\n",
    "        \n",
    "        \n",
    "        jdata= r.json()\n",
    "        if (jdata.get(\"data\")==None):    \n",
    "            if (jdata.get(\"retCode\")==\"-1\"):\n",
    "                logging.info(tradeDate+json.dumps(jdata))\n",
    "            else:\n",
    "                logging.error(tradeDate+json.dumps(jdata))      \n",
    "            return None      \n",
    "        return jdata\n",
    "        \"\"\"response\n",
    "        secID\tString\t证券内部编码\n",
    "        tradeDate\tDate\t交易日\n",
    "        ticker\tstring\t证券代码\n",
    "        secShortName\tstring\t证券简称\n",
    "        exchangeCD\tstring\t交易所代码\n",
    "        preClosePrice\tDouble\t昨收盘\n",
    "        actPreClosePrice\tDouble\t实际昨收盘\n",
    "        openPrice\tDouble\t今开盘\n",
    "        highestPrice\tDouble\t最高价\n",
    "        lowestPrice\tDouble\t最低价\n",
    "        closePrice\tDouble\t今收盘\n",
    "        turnoverVol\tDouble\t成交量\n",
    "        turnoverValue\tDouble\t成交金额\n",
    "        dealAmount\tInt32\t成交笔数\n",
    "        turnoverRate\tDouble\t日换手率\n",
    "        accumAdjFactor\tDouble\t累积前复权因子，前复权是对历史行情进行调整，除权除息日的行情不受本次除权除息影响，不需进行调整。最新一次除权除息日至最新行情期间的价格不需要进行任何的调整，该期间前复权因子都是1。\n",
    "        negMarketValue\tDouble\t流通市值\n",
    "        marketValue\tDouble\t总市值\n",
    "        PE\tDouble\t滚动市盈率,将于2016-01-01停止维护，推荐使用/api/market/getStockFactorsOneDay或/api/market/getStockFactorsDateRange，返回字段PE\n",
    "        PE1\tDouble\t市盈率，将于2016-01-01停止维护，推荐使用/api/market/getStockFactorsOneDay或/api/market/getStockFactorsDateRange\n",
    "        PB\tDouble\t市净率，将于2016-01-01停止维护，推荐使用/api/market/getStockFactorsOneDay或/api/market/getStockFactorsDateRange，返回字段PB\n",
    "        isOpen\tInt32\t是否开盘\n",
    "        \"\"\"  "
   ]
  },
  {
   "cell_type": "code",
   "execution_count": 3,
   "metadata": {
    "collapsed": true
   },
   "outputs": [],
   "source": [
    "def hasMtkDate(store,daystr):\n",
    "    tname=\"mtkdate\"\n",
    "    daylinestr=datetime.datetime.strftime(datetime.datetime.strptime(daystr, \"%Y%m%d\"),'%Y-%m-%d')\n",
    "    if (\"/\"+tname) in store.keys():\n",
    "        fd=store.select(\"mtkdate\",where=[\"tradeDate=='\"+daylinestr+\"'\"])\n",
    "        #print daylinestr,len(fd)\n",
    "        #print len(fd)\n",
    "        if len(fd)==0:\n",
    "            return False\n",
    "        else:\n",
    "            return True\n",
    "    else:\n",
    "        return False"
   ]
  },
  {
   "cell_type": "code",
   "execution_count": null,
   "metadata": {
    "collapsed": false
   },
   "outputs": [
    {
     "name": "stderr",
     "output_type": "stream",
     "text": [
      "root        : ERROR    20070101{\"retCode\": -1, \"retMsg\": \"No Data Returned\"}\n",
      "root        : ERROR    20070102{\"retCode\": -1, \"retMsg\": \"No Data Returned\"}\n"
     ]
    },
    {
     "name": "stdout",
     "output_type": "stream",
     "text": [
      "20070101  nodata\n",
      "20070102  nodata\n"
     ]
    },
    {
     "name": "stderr",
     "output_type": "stream",
     "text": [
      "root        : ERROR    20070103{\"retCode\": -1, \"retMsg\": \"No Data Returned\"}\n"
     ]
    },
    {
     "name": "stdout",
     "output_type": "stream",
     "text": [
      "20070103  nodata\n",
      "20070104  done\n"
     ]
    },
    {
     "name": "stderr",
     "output_type": "stream",
     "text": [
      "root        : ERROR    20070106{\"retCode\": -1, \"retMsg\": \"No Data Returned\"}\n"
     ]
    },
    {
     "name": "stdout",
     "output_type": "stream",
     "text": [
      "20070105  done\n",
      "20070106  nodata\n"
     ]
    },
    {
     "name": "stderr",
     "output_type": "stream",
     "text": [
      "root        : ERROR    20070107{\"retCode\": -1, \"retMsg\": \"No Data Returned\"}\n"
     ]
    },
    {
     "name": "stdout",
     "output_type": "stream",
     "text": [
      "20070107  nodata\n",
      "20070108  done\n",
      "20070109  done\n",
      "20070110  done\n",
      "20070111  done\n"
     ]
    },
    {
     "name": "stderr",
     "output_type": "stream",
     "text": [
      "root        : ERROR    20070113{\"retCode\": -1, \"retMsg\": \"No Data Returned\"}\n"
     ]
    },
    {
     "name": "stdout",
     "output_type": "stream",
     "text": [
      "20070112  done\n",
      "20070113  nodata\n"
     ]
    },
    {
     "name": "stderr",
     "output_type": "stream",
     "text": [
      "root        : ERROR    20070114{\"retCode\": -1, \"retMsg\": \"No Data Returned\"}\n"
     ]
    },
    {
     "name": "stdout",
     "output_type": "stream",
     "text": [
      "20070114  nodata\n",
      "20070115  done\n",
      "20070116  done\n",
      "20070117  done\n",
      "20070118  done\n"
     ]
    },
    {
     "name": "stderr",
     "output_type": "stream",
     "text": [
      "root        : ERROR    20070120{\"retCode\": -1, \"retMsg\": \"No Data Returned\"}\n"
     ]
    },
    {
     "name": "stdout",
     "output_type": "stream",
     "text": [
      "20070119  done\n",
      "20070120  nodata\n"
     ]
    },
    {
     "name": "stderr",
     "output_type": "stream",
     "text": [
      "root        : ERROR    20070121{\"retCode\": -1, \"retMsg\": \"No Data Returned\"}\n"
     ]
    },
    {
     "name": "stdout",
     "output_type": "stream",
     "text": [
      "20070121  nodata\n",
      "20070122  done\n",
      "20070123  done\n",
      "20070124  done\n",
      "20070125  done\n"
     ]
    },
    {
     "name": "stderr",
     "output_type": "stream",
     "text": [
      "root        : ERROR    20070127{\"retCode\": -1, \"retMsg\": \"No Data Returned\"}\n"
     ]
    },
    {
     "name": "stdout",
     "output_type": "stream",
     "text": [
      "20070126  done\n",
      "20070127  nodata\n"
     ]
    },
    {
     "name": "stderr",
     "output_type": "stream",
     "text": [
      "root        : ERROR    20070128{\"retCode\": -1, \"retMsg\": \"No Data Returned\"}\n"
     ]
    },
    {
     "name": "stdout",
     "output_type": "stream",
     "text": [
      "20070128  nodata\n",
      "20070129  done\n",
      "20070130  done\n",
      "20070131  done\n",
      "20070201  done\n"
     ]
    },
    {
     "name": "stderr",
     "output_type": "stream",
     "text": [
      "root        : ERROR    20070203{\"retCode\": -1, \"retMsg\": \"No Data Returned\"}\n"
     ]
    },
    {
     "name": "stdout",
     "output_type": "stream",
     "text": [
      "20070202  done\n",
      "20070203  nodata\n"
     ]
    },
    {
     "name": "stderr",
     "output_type": "stream",
     "text": [
      "root        : ERROR    20070204{\"retCode\": -1, \"retMsg\": \"No Data Returned\"}\n"
     ]
    },
    {
     "name": "stdout",
     "output_type": "stream",
     "text": [
      "20070204  nodata\n",
      "20070205  done\n",
      "20070206  done\n",
      "20070207  done\n",
      "20070208  done\n"
     ]
    },
    {
     "name": "stderr",
     "output_type": "stream",
     "text": [
      "root        : ERROR    20070210{\"retCode\": -1, \"retMsg\": \"No Data Returned\"}\n"
     ]
    },
    {
     "name": "stdout",
     "output_type": "stream",
     "text": [
      "20070209  done\n",
      "20070210  nodata\n"
     ]
    },
    {
     "name": "stderr",
     "output_type": "stream",
     "text": [
      "root        : ERROR    20070211{\"retCode\": -1, \"retMsg\": \"No Data Returned\"}\n"
     ]
    },
    {
     "name": "stdout",
     "output_type": "stream",
     "text": [
      "20070211  nodata\n",
      "20070212  done\n",
      "20070213  done\n",
      "20070214  done\n",
      "20070215  done\n"
     ]
    },
    {
     "name": "stderr",
     "output_type": "stream",
     "text": [
      "root        : ERROR    20070217{\"retCode\": -1, \"retMsg\": \"No Data Returned\"}\n"
     ]
    },
    {
     "name": "stdout",
     "output_type": "stream",
     "text": [
      "20070216  done\n",
      "20070217  nodata\n"
     ]
    },
    {
     "name": "stderr",
     "output_type": "stream",
     "text": [
      "root        : ERROR    20070218{\"retCode\": -1, \"retMsg\": \"No Data Returned\"}\n",
      "root        : ERROR    20070219{\"retCode\": -1, \"retMsg\": \"No Data Returned\"}\n"
     ]
    },
    {
     "name": "stdout",
     "output_type": "stream",
     "text": [
      "20070218  nodata\n",
      "20070219  nodata\n"
     ]
    },
    {
     "name": "stderr",
     "output_type": "stream",
     "text": [
      "root        : ERROR    20070220{\"retCode\": -1, \"retMsg\": \"No Data Returned\"}\n",
      "root        : ERROR    20070221{\"retCode\": -1, \"retMsg\": \"No Data Returned\"}\n"
     ]
    },
    {
     "name": "stdout",
     "output_type": "stream",
     "text": [
      "20070220  nodata\n",
      "20070221  nodata\n"
     ]
    },
    {
     "name": "stderr",
     "output_type": "stream",
     "text": [
      "root        : ERROR    20070222{\"retCode\": -1, \"retMsg\": \"No Data Returned\"}\n",
      "root        : ERROR    20070223{\"retCode\": -1, \"retMsg\": \"No Data Returned\"}\n"
     ]
    },
    {
     "name": "stdout",
     "output_type": "stream",
     "text": [
      "20070222  nodata\n",
      "20070223  nodata\n"
     ]
    },
    {
     "name": "stderr",
     "output_type": "stream",
     "text": [
      "root        : ERROR    20070224{\"retCode\": -1, \"retMsg\": \"No Data Returned\"}\n",
      "root        : ERROR    20070225{\"retCode\": -1, \"retMsg\": \"No Data Returned\"}\n"
     ]
    },
    {
     "name": "stdout",
     "output_type": "stream",
     "text": [
      "20070224  nodata\n",
      "20070225  nodata\n",
      "20070226  done\n",
      "20070227  done\n",
      "20070228  done\n",
      "20070301  done\n"
     ]
    },
    {
     "name": "stderr",
     "output_type": "stream",
     "text": [
      "root        : ERROR    20070303{\"retCode\": -1, \"retMsg\": \"No Data Returned\"}\n"
     ]
    },
    {
     "name": "stdout",
     "output_type": "stream",
     "text": [
      "20070302  done\n",
      "20070303  nodata\n"
     ]
    },
    {
     "name": "stderr",
     "output_type": "stream",
     "text": [
      "root        : ERROR    20070304{\"retCode\": -1, \"retMsg\": \"No Data Returned\"}\n"
     ]
    },
    {
     "name": "stdout",
     "output_type": "stream",
     "text": [
      "20070304  nodata\n",
      "20070305  done\n",
      "20070306  done\n",
      "20070307  done\n",
      "20070308  done\n"
     ]
    },
    {
     "name": "stderr",
     "output_type": "stream",
     "text": [
      "root        : ERROR    20070310{\"retCode\": -1, \"retMsg\": \"No Data Returned\"}\n"
     ]
    },
    {
     "name": "stdout",
     "output_type": "stream",
     "text": [
      "20070309  done\n",
      "20070310  nodata\n"
     ]
    },
    {
     "name": "stderr",
     "output_type": "stream",
     "text": [
      "root        : ERROR    20070311{\"retCode\": -1, \"retMsg\": \"No Data Returned\"}\n"
     ]
    },
    {
     "name": "stdout",
     "output_type": "stream",
     "text": [
      "20070311  nodata\n",
      "20070312  done\n",
      "20070313  done\n",
      "20070314  done\n",
      "20070315  done\n"
     ]
    },
    {
     "name": "stderr",
     "output_type": "stream",
     "text": [
      "root        : ERROR    20070317{\"retCode\": -1, \"retMsg\": \"No Data Returned\"}\n"
     ]
    },
    {
     "name": "stdout",
     "output_type": "stream",
     "text": [
      "20070316  done\n",
      "20070317  nodata\n"
     ]
    },
    {
     "name": "stderr",
     "output_type": "stream",
     "text": [
      "root        : ERROR    20070318{\"retCode\": -1, \"retMsg\": \"No Data Returned\"}\n"
     ]
    },
    {
     "name": "stdout",
     "output_type": "stream",
     "text": [
      "20070318  nodata\n",
      "20070319  done\n",
      "20070320  done\n",
      "20070321  done\n",
      "20070322  done\n"
     ]
    }
   ],
   "source": [
    "if __name__==\"__main__\":\n",
    "    log_format = \"%(filename)s [%(asctime)s] [%(levelname)s] %(message)s\"\n",
    "    logging.basicConfig(format=log_format,datefmt='%Y-%m-%d %H:%M:%S %p',level=logging.DEBUG)\n",
    "    \n",
    "    # 定义一个Handler打印Debug及以上级别的日志到sys.stderr  \n",
    "    console = logging.StreamHandler()  \n",
    "    console.setLevel(logging.DEBUG)  \n",
    "    # 设置日志打印格式  \n",
    "    formatter = logging.Formatter('%(name)-12s: %(levelname)-8s %(message)s') \n",
    "    console.setFormatter(formatter)  \n",
    "    # 将定义好的console日志handler添加到root logger  \n",
    "    logging.getLogger(\"\").addHandler(console)  \n",
    "    \n",
    "    #定义redis链接\n",
    "    redishost=os.getenv('REDIS_PORT_6379_TCP_ADDR')\n",
    "    r = redis.Redis(host=redishost,port=6379,db=0)\n",
    "    \n",
    "    #tk=TLMtkData(sys.argv[1])\n",
    "    tk=TLMtkData(\"00b8a504099fb24bb62772d1318f69abd0ab4575734770349aaeaf6e3774557d\")\n",
    "    \n",
    "    #begin=datetime.datetime.strptime(sys.argv[1], \"%Y%m%d\")   \n",
    "    #end=datetime.datetime.strptime(sys.argv[2], \"%Y%m%d\")\n",
    "    begin = datetime.date(2007, 1, 1)  \n",
    "    end = datetime.date(2016,4,24)\n",
    "    \n",
    "    store = pd.HDFStore('/data/notebooks/mtkdata/store_day.h5')\n",
    "    \n",
    "    for i in range((end - begin).days+1):  \n",
    "        day = begin + datetime.timedelta(days=i)\n",
    "        daystr=datetime.datetime.strftime(day,'%Y%m%d')\n",
    "        #filename=\"/data/notebooks/mtkdata/mtk_\"+daystr+\".pk\"\n",
    "        #if (os.path.exists(filename)==False):       \n",
    "        if (hasMtkDate(store,daystr)==False):\n",
    "            rsp=tk.getMktEqud(tradeDate=daystr)\n",
    "            #print rsp\n",
    "        \n",
    "            if (rsp==None):\n",
    "            #savetoRedis(r,\"mtkdate:\"+daystr,json.dumps(rsp))\n",
    "            #print daystr,\" error\"\n",
    "            #rsp={\"data\":[]}  # 写入空数据\n",
    "            #r.hset(\"dateList\",daystr,0)\n",
    "                print daystr,\" nodata\"\n",
    "                continue\n",
    "            #else:\n",
    "            #r.hset(\"dateList\",daystr,1)\n",
    "\n",
    "            df=pd.DataFrame(rsp[\"data\"])\n",
    "            \n",
    "            \n",
    "        \n",
    "            #解决unicode转换\n",
    "            types = df.apply(lambda x: pd.lib.infer_dtype(x.values))\n",
    "            for col in types[types=='unicode'].index:\n",
    "                df[col] = [c.encode('utf-8') for c in df[col].values]\n",
    "            \n",
    "            #print types\n",
    "            \n",
    "            #解决类型猜测错误问题\n",
    "            for col in types[types=='integer'].index:\n",
    "                if col not in ['isOpen']:\n",
    "                    #print col\n",
    "                    df[col] = df[col].astype(float)\n",
    "            \n",
    "            \n",
    "            \n",
    "            df.columns = [str(c) for c in df.columns]\n",
    "\n",
    "            df=df.set_index(['tradeDate','secID'])\n",
    "            \n",
    "            #print df.dtypes\n",
    "        \n",
    "            store.append('mtkdate', df)\n",
    "            #df.to_hdf('/data/notebooks/mtkdata/store_day.h5',\"mtkdate\",append=True)\n",
    "    \n",
    "        #savetoRedis(r,\"mtkdate:\"+daystr,json.dumps(rsp))\n",
    "            print daystr,\" done\"\n",
    "        else:\n",
    "            print daystr,\" has data\"\n",
    "    \n",
    "    store.close()\n",
    "    "
   ]
  },
  {
   "cell_type": "code",
   "execution_count": null,
   "metadata": {
    "collapsed": true
   },
   "outputs": [],
   "source": []
  },
  {
   "cell_type": "code",
   "execution_count": null,
   "metadata": {
    "collapsed": true
   },
   "outputs": [],
   "source": []
  },
  {
   "cell_type": "code",
   "execution_count": null,
   "metadata": {
    "collapsed": true
   },
   "outputs": [],
   "source": []
  }
 ],
 "metadata": {
  "kernelspec": {
   "display_name": "Python 2",
   "language": "python",
   "name": "python2"
  },
  "language_info": {
   "codemirror_mode": {
    "name": "ipython",
    "version": 2
   },
   "file_extension": ".py",
   "mimetype": "text/x-python",
   "name": "python",
   "nbconvert_exporter": "python",
   "pygments_lexer": "ipython2",
   "version": "2.7.11"
  }
 },
 "nbformat": 4,
 "nbformat_minor": 0
}
