{
 "cells": [
  {
   "cell_type": "code",
   "execution_count": 1,
   "metadata": {
    "collapsed": false
   },
   "outputs": [
    {
     "name": "stdout",
     "output_type": "stream",
     "text": [
      "20160104  done\n",
      "20160105  done\n",
      "20160106  done\n",
      "20160107  done\n",
      "20160108  done\n",
      "20160111  done\n",
      "20160112  done\n",
      "20160113  done\n",
      "20160114  done\n",
      "20160115  done\n",
      "20160118  done\n",
      "20160119  done\n",
      "20160120  done\n",
      "20160121  done\n",
      "20160122  done\n",
      "20160125  done\n",
      "20160126  done\n",
      "20160127  done\n",
      "20160128  done\n",
      "20160129  done\n",
      "20160201  done\n",
      "20160202  done\n",
      "20160203  done\n",
      "20160204  done\n",
      "20160205  done\n",
      "20160215  done\n",
      "20160216  done\n",
      "20160217  done\n",
      "20160218  done\n",
      "20160219  done\n",
      "20160222  done\n",
      "20160223  done\n",
      "20160224  done\n",
      "20160225  done\n",
      "20160226  done\n",
      "20160229  done\n",
      "20160301  done\n",
      "20160302  done\n",
      "20160303  done\n",
      "20160304  done\n",
      "20160307  done\n",
      "20160308  done\n",
      "20160309  done\n",
      "20160310  done\n",
      "20160311  done\n",
      "20160314  done\n",
      "20160315  done\n",
      "20160316  done\n",
      "20160317  done\n",
      "20160318  done\n",
      "20160321  done\n",
      "20160322  done\n",
      "20160323  done\n",
      "20160324  done\n",
      "20160325  done\n",
      "20160328  done\n",
      "20160329  done\n",
      "20160330  done\n",
      "20160331  done\n",
      "20160401  done\n",
      "20160405  done\n"
     ]
    }
   ],
   "source": [
    "\n",
    "import json\n",
    "import pandas as pd\n",
    "import sys\n",
    "import datetime\n",
    "from IPython.display import display\n",
    "import redis\n",
    "import os    \n",
    "    \n",
    "begin=datetime.datetime.strptime(sys.argv[1], \"%Y%m%d\")   \n",
    "end=datetime.datetime.strptime(sys.argv[2], \"%Y%m%d\")\n",
    "#begin = datetime.date(2016, 1, 1)  \n",
    "#end = datetime.date(2016,4,24)\n",
    "redishost=os.getenv('REDIS_PORT_6379_TCP_ADDR')\n",
    "r = redis.Redis(host=redishost,port=6379,db=0)\n",
    "    \n",
    "for i in range((end - begin).days+1):  \n",
    "    day = begin + datetime.timedelta(days=i)\n",
    "    daystr=datetime.datetime.strftime(day,'%Y%m%d')\n",
    "    if (r.exists(\"mtkdate:\"+daystr)==True):       \n",
    "        rsp=json.loads(r.get(\"mtkdate:\"+daystr))\n",
    "        if (rsp==None):\n",
    "        #print daystr,\" error\"\n",
    "        #rsp={\"data\":[]}  # 写入空数据\n",
    "            continue\n",
    "        df=pd.DataFrame(rsp[\"data\"])\n",
    "        df.to_pickle(\"/data/notebooks/mtkdata/mtk_\"+daystr+\".pk\")     \n",
    "        \n",
    "        print daystr,\" done\""
   ]
  },
  {
   "cell_type": "code",
   "execution_count": null,
   "metadata": {
    "collapsed": true
   },
   "outputs": [],
   "source": []
  }
 ],
 "metadata": {
  "kernelspec": {
   "display_name": "Python 2",
   "language": "python",
   "name": "python2"
  },
  "language_info": {
   "codemirror_mode": {
    "name": "ipython",
    "version": 2
   },
   "file_extension": ".py",
   "mimetype": "text/x-python",
   "name": "python",
   "nbconvert_exporter": "python",
   "pygments_lexer": "ipython2",
   "version": "2.7.11"
  }
 },
 "nbformat": 4,
 "nbformat_minor": 0
}
